{
  "cells": [
    {
      "cell_type": "markdown",
      "metadata": {
        "id": "view-in-github"
      },
      "source": [
        "<a href=\"https://colab.research.google.com/github/ZiadMAlsawy/ML_Project/blob/main/Task_2.ipynb\" target=\"_parent\"><img src=\"https://colab.research.google.com/assets/colab-badge.svg\" alt=\"Open In Colab\"/></a>"
      ]
    },
    {
      "cell_type": "markdown",
      "source": [
        "# **Youssef Tasks**\n",
        "\n",
        "\n",
        "\n",
        "---\n",
        "\n",
        "\n",
        "1.   **Over All Preprocessing Again / Outliers Specfically**\n",
        "2.   **Exploration Phase**\n",
        "3.   **Over Sampling Technique**\n",
        "4.   **Try your oversampling technique on the classfier**   \n",
        "\n"
      ],
      "metadata": {
        "id": "GXt4hiU5hp5p"
      }
    },
    {
      "cell_type": "markdown",
      "metadata": {
        "id": "cQ2lFtzXRK12"
      },
      "source": [
        "# **Modules Import & Intiation**"
      ]
    },
    {
      "cell_type": "code",
      "execution_count": 1,
      "metadata": {
        "id": "oSKbptl6QWhU"
      },
      "outputs": [],
      "source": [
        "import pandas as pd\n",
        "import numpy as np\n",
        "import matplotlib.pyplot as plt\n",
        "import seaborn as sns\n",
        "import tabulate\n",
        "\n",
        "\n",
        "from sklearn.model_selection import train_test_split\n",
        "from imblearn.under_sampling import ClusterCentroids , TomekLinks , NearMiss\n",
        "\n",
        "from sklearn.metrics import accuracy_score , confusion_matrix , precision_score , recall_score , f1_score , classification_report , auc , roc_curve , ConfusionMatrixDisplay ,  roc_auc_score\n",
        "from sklearn.utils import resample\n",
        "from sklearn.neighbors import KNeighborsClassifier\n",
        "from sklearn.linear_model import LinearRegression , LogisticRegression\n",
        "\n",
        "plt.style.use(\"fivethirtyeight\")"
      ]
    },
    {
      "cell_type": "code",
      "source": [
        "from google.colab import drive\n",
        "drive.mount('/content/drive')"
      ],
      "metadata": {
        "colab": {
          "base_uri": "https://localhost:8080/",
          "height": 316
        },
        "id": "BP_yzevkPWXm",
        "outputId": "1f5bde0b-29fb-4ad5-d31d-a0dcb4bc7dd5"
      },
      "execution_count": 2,
      "outputs": [
        {
          "output_type": "error",
          "ename": "MessageError",
          "evalue": "Error: credential propagation was unsuccessful",
          "traceback": [
            "\u001b[0;31m---------------------------------------------------------------------------\u001b[0m",
            "\u001b[0;31mMessageError\u001b[0m                              Traceback (most recent call last)",
            "\u001b[0;32m<ipython-input-2-d5df0069828e>\u001b[0m in \u001b[0;36m<cell line: 2>\u001b[0;34m()\u001b[0m\n\u001b[1;32m      1\u001b[0m \u001b[0;32mfrom\u001b[0m \u001b[0mgoogle\u001b[0m\u001b[0;34m.\u001b[0m\u001b[0mcolab\u001b[0m \u001b[0;32mimport\u001b[0m \u001b[0mdrive\u001b[0m\u001b[0;34m\u001b[0m\u001b[0;34m\u001b[0m\u001b[0m\n\u001b[0;32m----> 2\u001b[0;31m \u001b[0mdrive\u001b[0m\u001b[0;34m.\u001b[0m\u001b[0mmount\u001b[0m\u001b[0;34m(\u001b[0m\u001b[0;34m'/content/drive'\u001b[0m\u001b[0;34m)\u001b[0m\u001b[0;34m\u001b[0m\u001b[0;34m\u001b[0m\u001b[0m\n\u001b[0m",
            "\u001b[0;32m/usr/local/lib/python3.10/dist-packages/google/colab/drive.py\u001b[0m in \u001b[0;36mmount\u001b[0;34m(mountpoint, force_remount, timeout_ms, readonly)\u001b[0m\n\u001b[1;32m     98\u001b[0m \u001b[0;32mdef\u001b[0m \u001b[0mmount\u001b[0m\u001b[0;34m(\u001b[0m\u001b[0mmountpoint\u001b[0m\u001b[0;34m,\u001b[0m \u001b[0mforce_remount\u001b[0m\u001b[0;34m=\u001b[0m\u001b[0;32mFalse\u001b[0m\u001b[0;34m,\u001b[0m \u001b[0mtimeout_ms\u001b[0m\u001b[0;34m=\u001b[0m\u001b[0;36m120000\u001b[0m\u001b[0;34m,\u001b[0m \u001b[0mreadonly\u001b[0m\u001b[0;34m=\u001b[0m\u001b[0;32mFalse\u001b[0m\u001b[0;34m)\u001b[0m\u001b[0;34m:\u001b[0m\u001b[0;34m\u001b[0m\u001b[0;34m\u001b[0m\u001b[0m\n\u001b[1;32m     99\u001b[0m   \u001b[0;34m\"\"\"Mount your Google Drive at the specified mountpoint path.\"\"\"\u001b[0m\u001b[0;34m\u001b[0m\u001b[0;34m\u001b[0m\u001b[0m\n\u001b[0;32m--> 100\u001b[0;31m   return _mount(\n\u001b[0m\u001b[1;32m    101\u001b[0m       \u001b[0mmountpoint\u001b[0m\u001b[0;34m,\u001b[0m\u001b[0;34m\u001b[0m\u001b[0;34m\u001b[0m\u001b[0m\n\u001b[1;32m    102\u001b[0m       \u001b[0mforce_remount\u001b[0m\u001b[0;34m=\u001b[0m\u001b[0mforce_remount\u001b[0m\u001b[0;34m,\u001b[0m\u001b[0;34m\u001b[0m\u001b[0;34m\u001b[0m\u001b[0m\n",
            "\u001b[0;32m/usr/local/lib/python3.10/dist-packages/google/colab/drive.py\u001b[0m in \u001b[0;36m_mount\u001b[0;34m(mountpoint, force_remount, timeout_ms, ephemeral, readonly)\u001b[0m\n\u001b[1;32m    135\u001b[0m   )\n\u001b[1;32m    136\u001b[0m   \u001b[0;32mif\u001b[0m \u001b[0mephemeral\u001b[0m\u001b[0;34m:\u001b[0m\u001b[0;34m\u001b[0m\u001b[0;34m\u001b[0m\u001b[0m\n\u001b[0;32m--> 137\u001b[0;31m     _message.blocking_request(\n\u001b[0m\u001b[1;32m    138\u001b[0m         \u001b[0;34m'request_auth'\u001b[0m\u001b[0;34m,\u001b[0m\u001b[0;34m\u001b[0m\u001b[0;34m\u001b[0m\u001b[0m\n\u001b[1;32m    139\u001b[0m         \u001b[0mrequest\u001b[0m\u001b[0;34m=\u001b[0m\u001b[0;34m{\u001b[0m\u001b[0;34m'authType'\u001b[0m\u001b[0;34m:\u001b[0m \u001b[0;34m'dfs_ephemeral'\u001b[0m\u001b[0;34m}\u001b[0m\u001b[0;34m,\u001b[0m\u001b[0;34m\u001b[0m\u001b[0;34m\u001b[0m\u001b[0m\n",
            "\u001b[0;32m/usr/local/lib/python3.10/dist-packages/google/colab/_message.py\u001b[0m in \u001b[0;36mblocking_request\u001b[0;34m(request_type, request, timeout_sec, parent)\u001b[0m\n\u001b[1;32m    174\u001b[0m       \u001b[0mrequest_type\u001b[0m\u001b[0;34m,\u001b[0m \u001b[0mrequest\u001b[0m\u001b[0;34m,\u001b[0m \u001b[0mparent\u001b[0m\u001b[0;34m=\u001b[0m\u001b[0mparent\u001b[0m\u001b[0;34m,\u001b[0m \u001b[0mexpect_reply\u001b[0m\u001b[0;34m=\u001b[0m\u001b[0;32mTrue\u001b[0m\u001b[0;34m\u001b[0m\u001b[0;34m\u001b[0m\u001b[0m\n\u001b[1;32m    175\u001b[0m   )\n\u001b[0;32m--> 176\u001b[0;31m   \u001b[0;32mreturn\u001b[0m \u001b[0mread_reply_from_input\u001b[0m\u001b[0;34m(\u001b[0m\u001b[0mrequest_id\u001b[0m\u001b[0;34m,\u001b[0m \u001b[0mtimeout_sec\u001b[0m\u001b[0;34m)\u001b[0m\u001b[0;34m\u001b[0m\u001b[0;34m\u001b[0m\u001b[0m\n\u001b[0m",
            "\u001b[0;32m/usr/local/lib/python3.10/dist-packages/google/colab/_message.py\u001b[0m in \u001b[0;36mread_reply_from_input\u001b[0;34m(message_id, timeout_sec)\u001b[0m\n\u001b[1;32m    101\u001b[0m     ):\n\u001b[1;32m    102\u001b[0m       \u001b[0;32mif\u001b[0m \u001b[0;34m'error'\u001b[0m \u001b[0;32min\u001b[0m \u001b[0mreply\u001b[0m\u001b[0;34m:\u001b[0m\u001b[0;34m\u001b[0m\u001b[0;34m\u001b[0m\u001b[0m\n\u001b[0;32m--> 103\u001b[0;31m         \u001b[0;32mraise\u001b[0m \u001b[0mMessageError\u001b[0m\u001b[0;34m(\u001b[0m\u001b[0mreply\u001b[0m\u001b[0;34m[\u001b[0m\u001b[0;34m'error'\u001b[0m\u001b[0;34m]\u001b[0m\u001b[0;34m)\u001b[0m\u001b[0;34m\u001b[0m\u001b[0;34m\u001b[0m\u001b[0m\n\u001b[0m\u001b[1;32m    104\u001b[0m       \u001b[0;32mreturn\u001b[0m \u001b[0mreply\u001b[0m\u001b[0;34m.\u001b[0m\u001b[0mget\u001b[0m\u001b[0;34m(\u001b[0m\u001b[0;34m'data'\u001b[0m\u001b[0;34m,\u001b[0m \u001b[0;32mNone\u001b[0m\u001b[0;34m)\u001b[0m\u001b[0;34m\u001b[0m\u001b[0;34m\u001b[0m\u001b[0m\n\u001b[1;32m    105\u001b[0m \u001b[0;34m\u001b[0m\u001b[0m\n",
            "\u001b[0;31mMessageError\u001b[0m: Error: credential propagation was unsuccessful"
          ]
        }
      ]
    },
    {
      "cell_type": "markdown",
      "metadata": {
        "id": "fxdKpm3-SMd8"
      },
      "source": [
        "# **OSEMN Framework will Help us deal with our task**\n",
        "![images.png](data:image/png;base64,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)"
      ]
    },
    {
      "cell_type": "markdown",
      "metadata": {
        "id": "L3B1knYkSdOM"
      },
      "source": [
        "## **Obtain the Data Set**"
      ]
    },
    {
      "cell_type": "code",
      "execution_count": null,
      "metadata": {
        "id": "0-Syu-R5SLtd"
      },
      "outputs": [],
      "source": [
        "creditCard = pd.read_csv('/content/drive/MyDrive/CSAI 253 Data Sets/creditcard.csv')"
      ]
    },
    {
      "cell_type": "code",
      "execution_count": null,
      "metadata": {
        "id": "Cs8zZfJcDKHP"
      },
      "outputs": [],
      "source": [
        "creditCard.shape"
      ]
    },
    {
      "cell_type": "code",
      "execution_count": null,
      "metadata": {
        "id": "-Wz-qIZeS50t"
      },
      "outputs": [],
      "source": [
        "creditCard.head()"
      ]
    },
    {
      "cell_type": "code",
      "execution_count": null,
      "metadata": {
        "id": "4wIgNc5AS_at"
      },
      "outputs": [],
      "source": [
        "creditCard.info()"
      ]
    },
    {
      "cell_type": "code",
      "execution_count": null,
      "metadata": {
        "id": "uEEfBshMTCmF"
      },
      "outputs": [],
      "source": [
        "creditCard.describe()"
      ]
    },
    {
      "cell_type": "code",
      "execution_count": null,
      "metadata": {
        "id": "KFo5t1D2TGBG"
      },
      "outputs": [],
      "source": [
        "creditCard.sample(10)"
      ]
    },
    {
      "cell_type": "markdown",
      "metadata": {
        "id": "FpzGYo2pTQEp"
      },
      "source": [
        "## **Scrubbing the Data Set from**\n",
        "\n",
        "\n",
        "1.   Missing Records\n",
        "2.   Duplicates\n",
        "3. Outliers\n",
        "\n"
      ]
    },
    {
      "cell_type": "markdown",
      "metadata": {
        "id": "OVX9-s3wTg6k"
      },
      "source": [
        "**Missing Values Handler**"
      ]
    },
    {
      "cell_type": "code",
      "execution_count": null,
      "metadata": {
        "id": "G4sZK_ZsTbY1"
      },
      "outputs": [],
      "source": [
        "creditCard.isnull().sum()"
      ]
    },
    {
      "cell_type": "code",
      "execution_count": null,
      "metadata": {
        "id": "BjrvAOPDbloa"
      },
      "outputs": [],
      "source": [
        "missing = creditCard.isnull().sum()\n",
        "missing = missing[missing > 0]/creditCard.shape[0]\n",
        "plt.bar(missing.index, missing.values)\n",
        "plt.xticks(rotation = 90)\n",
        "plt.show()\n",
        "# We can conclude now that there is not any missing values in any column"
      ]
    },
    {
      "cell_type": "markdown",
      "metadata": {
        "id": "lraHNWEZUaHf"
      },
      "source": [
        "**Duplicate Records Handler**"
      ]
    },
    {
      "cell_type": "code",
      "execution_count": null,
      "metadata": {
        "id": "4gpFfqCETfYk"
      },
      "outputs": [],
      "source": [
        "print(f\"{creditCard.duplicated().sum() / creditCard.shape[0] * 100 :.2f}  % of the data is duplicated The Decision will be Drop out those duplicated records\")\n",
        "creditCard.drop_duplicates(inplace=True)"
      ]
    },
    {
      "cell_type": "code",
      "execution_count": null,
      "metadata": {
        "id": "ZsG1oTJETudP"
      },
      "outputs": [],
      "source": [
        "creditCard[creditCard.duplicated()]"
      ]
    },
    {
      "cell_type": "markdown",
      "source": [
        "**Outliers Handler**"
      ],
      "metadata": {
        "id": "J5ZiYgSJQuKV"
      }
    },
    {
      "cell_type": "markdown",
      "source": [
        "**Summarize All Data Set Features using Box Plot**"
      ],
      "metadata": {
        "id": "mx5oRqu0Q8wS"
      }
    },
    {
      "cell_type": "code",
      "source": [
        "fig, axes = plt.subplots(nrows=5, ncols=6, figsize=(20, 15))\n",
        "axes = axes.flatten()\n",
        "\n",
        "for i, column in enumerate(creditCard.columns[:30]):\n",
        "    sns.boxplot(data=creditCard, y=column, ax=axes[i], color='skyblue')\n",
        "    axes[i].set_title(column, fontsize=10)\n",
        "    axes[i].set_ylabel('')\n",
        "    axes[i].tick_params(axis='y', labelsize=8)\n",
        "\n",
        "for j in range(len(creditCard.columns[:31]), len(axes)):\n",
        "    axes[j].axis('off')\n",
        "\n",
        "plt.tight_layout()\n",
        "plt.show()"
      ],
      "metadata": {
        "id": "BGjPza2ARHVb"
      },
      "execution_count": null,
      "outputs": []
    },
    {
      "cell_type": "code",
      "source": [
        "Outliers_Frequence = {}\n",
        "for i in creditCard.columns:\n",
        "  Outliers_Frequence[i] = creditCard[creditCard[i] > (creditCard[i].mean() + 3 * creditCard[i].std())].shape[0]\n",
        "\n",
        "Outliers_Frequence"
      ],
      "metadata": {
        "id": "Xn1EYfw_Ud8v"
      },
      "execution_count": null,
      "outputs": []
    },
    {
      "cell_type": "code",
      "source": [
        "# You Can Apply The Outliers Handling Here"
      ],
      "metadata": {
        "id": "UAG60ci4jOEU"
      },
      "execution_count": null,
      "outputs": []
    },
    {
      "cell_type": "markdown",
      "metadata": {
        "id": "9wVf_onFaKoD"
      },
      "source": [
        "## **Exploring the Data Set Using Visualization Modules**"
      ]
    },
    {
      "cell_type": "code",
      "source": [
        "# You Can Apply The Data Exploration Phase Here"
      ],
      "metadata": {
        "id": "kDwTIlHpQiWe"
      },
      "execution_count": null,
      "outputs": []
    },
    {
      "cell_type": "markdown",
      "source": [
        "# **Resolving the Imbalanced Features**"
      ],
      "metadata": {
        "id": "5lhIdiVD09CW"
      }
    },
    {
      "cell_type": "markdown",
      "source": [
        "####**I want only to showcase the influence of neglecting this problem**"
      ],
      "metadata": {
        "id": "uswvuwBW1CgF"
      }
    },
    {
      "cell_type": "code",
      "source": [
        "X = creditCard.drop('Class', axis=1)\n",
        "y = creditCard['Class']\n",
        "\n",
        "X_train, X_test, y_train, y_test = train_test_split(X, y, test_size=0.20, random_state=42)"
      ],
      "metadata": {
        "id": "PsBNWzIBb9iz"
      },
      "execution_count": null,
      "outputs": []
    },
    {
      "cell_type": "code",
      "source": [
        "y_test.value_counts()"
      ],
      "metadata": {
        "id": "PHMa3JbDO_7R"
      },
      "execution_count": null,
      "outputs": []
    },
    {
      "cell_type": "markdown",
      "metadata": {
        "id": "s-dqfMUECWjo"
      },
      "source": [
        "####**Under Sampling the Imbalanced Feature**\n",
        "\n",
        "\n",
        "*  https://imbalanced-learn.org/stable/\n",
        "*  https://scikit-learn.org/1.5/modules/generated/sklearn.utils.resample.html#sklearn.utils.resample"
      ]
    },
    {
      "cell_type": "markdown",
      "source": [
        "| Technique                   | Status | Assigned to   |\n",
        "|-----------------------------|--------|-------------- |\n",
        "| Random Under Sampling (RUS) |    ✅  | Adham        |\n",
        "| Cluster Centriods           |    ✅  | Adham        |             \n",
        "| Tomek Links                 |    ✅  | Adham        |  \n",
        "| NearMiss                    |    ✅  | Adham        |  \n"
      ],
      "metadata": {
        "id": "oyt5SSk8eIWI"
      }
    },
    {
      "cell_type": "markdown",
      "source": [
        "#####**Random Under Sampling**"
      ],
      "metadata": {
        "id": "HKmYTT3omjh9"
      }
    },
    {
      "cell_type": "code",
      "source": [
        "majority_class = creditCard[creditCard['Class'] == 0]\n",
        "minority_class = creditCard[creditCard['Class'] == 1]\n",
        "\n",
        "majority_random_down_sampled = resample(majority_class,\n",
        "                                replace=False,\n",
        "                                n_samples=len(minority_class),\n",
        "                                random_state=42)\n",
        "\n",
        "random_under_sampled_df = pd.concat([majority_random_down_sampled, minority_class]).sample(frac=1, random_state=42).reset_index(drop=True)"
      ],
      "metadata": {
        "id": "c2ZPerM-q5AA"
      },
      "execution_count": null,
      "outputs": []
    },
    {
      "cell_type": "code",
      "source": [
        "X_rand_Under_Sampling = random_under_sampled_df.drop('Class', axis=1)\n",
        "y_rand_Under_Sampling = random_under_sampled_df['Class']\n",
        "X_train_random_under_samples, X_test_random_under_samples, y_train_random_under_samples, y_test_random_under_samples = train_test_split(X_rand_Under_Sampling, y_rand_Under_Sampling, test_size=0.33, random_state=42)"
      ],
      "metadata": {
        "id": "1u0w8YV-VeWV"
      },
      "execution_count": null,
      "outputs": []
    },
    {
      "cell_type": "markdown",
      "source": [
        "#####**Cluster Centroids**\n",
        "\n"
      ],
      "metadata": {
        "id": "6P9RMuoRmo2V"
      }
    },
    {
      "cell_type": "code",
      "source": [
        "cc = ClusterCentroids(random_state=42)\n",
        "X_resampled_cc, y_resampled_cc = cc.fit_resample(X_train, y_train)"
      ],
      "metadata": {
        "id": "LXgYLhCOW8Re"
      },
      "execution_count": null,
      "outputs": []
    },
    {
      "cell_type": "markdown",
      "source": [
        "##### **TomekLinks**"
      ],
      "metadata": {
        "id": "XBVahUG71wP_"
      }
    },
    {
      "cell_type": "code",
      "source": [
        "tomek = TomekLinks()\n",
        "X_resampled_tl, y_resampled_tl = tomek.fit_resample(X_train, y_train)"
      ],
      "metadata": {
        "id": "PK1DYQ9AX1aa"
      },
      "execution_count": null,
      "outputs": []
    },
    {
      "cell_type": "markdown",
      "source": [
        "##### **Near Miss**"
      ],
      "metadata": {
        "id": "oO4MCgc99M1g"
      }
    },
    {
      "cell_type": "code",
      "source": [
        "nm = NearMiss(version=1)\n",
        "X_resampled_nm, y_resampled_nm = nm.fit_resample(X, y)\n",
        "X_train_nm, X_test_nm, y_train_nm, y_test_nm = train_test_split(X_resampled_nm, y_resampled_nm, test_size=0.2, random_state=42)"
      ],
      "metadata": {
        "id": "vC6R39_A9XLd"
      },
      "execution_count": null,
      "outputs": []
    },
    {
      "cell_type": "markdown",
      "source": [
        "####**Over Sampling the Imbalanced Feature usinge Smote Technique**\n",
        "\n",
        "\n"
      ],
      "metadata": {
        "id": "HYCVUM-E5qYB"
      }
    },
    {
      "cell_type": "code",
      "source": [
        "smote = SMOTE(sampling_strategy='minority', random_state=42)\n",
        "X_train_resampled_SM, y_train_resampled_SM = smote.fit_resample(X_train, y_train)"
      ],
      "metadata": {
        "id": "iwQ8lAR85tsP"
      },
      "execution_count": null,
      "outputs": []
    },
    {
      "cell_type": "markdown",
      "source": [
        "####**Smote + Heavy Penalty for minority class**\n"
      ],
      "metadata": {
        "id": "41Srw_HxSVEz"
      }
    },
    {
      "cell_type": "code",
      "source": [
        "model_2 = LogisticRegression( C=0.1, class_weight={0: 1, 1: 12} , random_state=42)\n",
        "model_2.fit(X_train_resampled, y_train_resampled)\n"
      ],
      "metadata": {
        "id": "kzSioEwESUTu"
      },
      "execution_count": null,
      "outputs": []
    },
    {
      "cell_type": "markdown",
      "metadata": {
        "id": "Mq3hSbYmaTBH"
      },
      "source": [
        "# **Predict The Fraud Transitions Cross The Different Models**"
      ]
    },
    {
      "cell_type": "markdown",
      "metadata": {
        "id": "GwhPEMBkcERG"
      },
      "source": [
        "###**KNN Classfier**"
      ]
    },
    {
      "cell_type": "code",
      "source": [
        "# accuracy_score_K = []\n",
        "# precision_score_K = []\n",
        "# recall_score_K = []\n",
        "# f1_score_K = []\n",
        "# auc_score_K = []\n",
        "\n",
        "# KNN_Imbalnced_Results = pd.DataFrame({\n",
        "#     'K Value' : range(1,15),\n",
        "#     'Accuracy Score' : accuracy_score_K,\n",
        "#     'Precision Score' : precision_score_K,\n",
        "#     'Recall Score' : recall_score_K,\n",
        "#     'F1 Score' : f1_score_K,\n",
        "#     'AUC Curve' : auc_score_K,\n",
        "#     'Imbalnced Feature Statue' : True,\n",
        "# })"
      ],
      "metadata": {
        "id": "xjfhd4V08frZ"
      },
      "execution_count": null,
      "outputs": []
    },
    {
      "cell_type": "markdown",
      "source": [
        "**Without Imbalancing**"
      ],
      "metadata": {
        "id": "C5aIvLY-8hlX"
      }
    },
    {
      "cell_type": "code",
      "source": [
        "# for k in range(1,15):\n",
        "#   knn = KNeighborsClassifier(n_neighbors=k)\n",
        "#   knn.fit(X_train,y_train)\n",
        "#   y_pred = knn.predict(X_test)\n",
        "#   y_probs_knn = knn.predict_proba(X_test)[:, 1]\n",
        "\n",
        "#   accuracy_score_K.append(accuracy_score(y_test, y_pred))\n",
        "#   precision_score_K.append(precision_score(y_test, y_pred))\n",
        "#   recall_score_K.append(recall_score(y_test, y_pred))\n",
        "#   f1_score_K.append(f1_score(y_test, y_pred))\n",
        "#   auc_score_K.append(roc_auc_score(y_test, y_probs_knn))"
      ],
      "metadata": {
        "id": "sZGSHPomtCw-"
      },
      "execution_count": null,
      "outputs": []
    },
    {
      "cell_type": "code",
      "source": [
        "# fpr, tpr, _ = roc_curve(y_test, y_probs_knn)\n",
        "# plt.plot(fpr, tpr, color='blue', lw=2, label=f'KNN (AUC = {roc_auc_knn:.2f})')"
      ],
      "metadata": {
        "id": "-3Rw7J20tEZt"
      },
      "execution_count": null,
      "outputs": []
    },
    {
      "cell_type": "markdown",
      "source": [
        "#### **Insights**"
      ],
      "metadata": {
        "id": "wNZoH_eNpnd-"
      }
    },
    {
      "cell_type": "markdown",
      "source": [
        "**Accuracy Score Over K'S**"
      ],
      "metadata": {
        "id": "e43PrV-soAvE"
      }
    },
    {
      "cell_type": "code",
      "source": [
        "# sns.lineplot(x=\"K Value\", y=\"Accuracy Score\", data=KNN_Imbalnced_Results)"
      ],
      "metadata": {
        "id": "lcQ4W_UgnbLe"
      },
      "execution_count": null,
      "outputs": []
    },
    {
      "cell_type": "markdown",
      "source": [
        "**Precision Score Over K'S**"
      ],
      "metadata": {
        "id": "35vxnV9eoTK_"
      }
    },
    {
      "cell_type": "code",
      "source": [
        "# sns.lineplot(x=\"K Value\", y=\"Precision Score\", data=KNN_Imbalnced_Results)"
      ],
      "metadata": {
        "id": "yKMtmcMEoTLA"
      },
      "execution_count": null,
      "outputs": []
    },
    {
      "cell_type": "markdown",
      "source": [
        "**Recall Score Over K'S**"
      ],
      "metadata": {
        "id": "dT3ICnayoTde"
      }
    },
    {
      "cell_type": "code",
      "source": [
        "# sns.lineplot(x=\"K Value\", y=\"Recall Score\", data=KNN_Imbalnced_Results)"
      ],
      "metadata": {
        "id": "RwpVaU3hoTdf"
      },
      "execution_count": null,
      "outputs": []
    },
    {
      "cell_type": "markdown",
      "source": [
        "**F1 Score Over K'S**"
      ],
      "metadata": {
        "id": "H21AB5_loTkF"
      }
    },
    {
      "cell_type": "code",
      "source": [
        "# sns.lineplot(x=\"K Value\", y=\"F1 Score\", data=KNN_Imbalnced_Results)"
      ],
      "metadata": {
        "id": "sMtEbE3uoTkG"
      },
      "execution_count": null,
      "outputs": []
    },
    {
      "cell_type": "markdown",
      "metadata": {
        "id": "LLF99M4HcERJ"
      },
      "source": [
        "###**Logistic Regression**"
      ]
    },
    {
      "cell_type": "code",
      "source": [
        "Logistic_Regression_Records = pd.DataFrame(columns = ['Model Name' , 'Accuracy Score' , 'Precision Score' , 'Recall Score' ,'F1 Score' ,'AUC Score' , 'ROC Curve', 'Confusion Matrix' , 'Imbalnced Feature Statue' , 'Technique' ])"
      ],
      "metadata": {
        "id": "2wefDyjQsDHW"
      },
      "execution_count": null,
      "outputs": []
    },
    {
      "cell_type": "markdown",
      "source": [
        "**Without Imbalancing**"
      ],
      "metadata": {
        "id": "dWpC4yKS41Iy"
      }
    },
    {
      "cell_type": "code",
      "source": [
        "Logistic_Regresion_Model_Before_Imbalance = LogisticRegression(max_iter = 5000)\n",
        "Logistic_Regresion_Model_Before_Imbalance.fit(X_train, y_train)\n",
        "y_pred_LR_Before_Imbalance = Logistic_Regresion_Model_Before_Imbalance.predict(X_test)\n",
        "y_pred_proba = Logistic_Regresion_Model_Before_Imbalance.predict_proba(X_test)[:, 1]\n",
        "\n",
        "\n",
        "LR_Imbalanced = {\n",
        "    'Model Name': 'Logistic Regression',\n",
        "    'Accuracy Score': accuracy_score(y_test, y_pred_LR_Before_Imbalance),\n",
        "    'Precision Score': precision_score(y_test, y_pred_LR_Before_Imbalance),\n",
        "    'Recall Score': recall_score(y_test, y_pred_LR_Before_Imbalance),\n",
        "    'F1 Score': f1_score(y_test, y_pred_LR_Before_Imbalance),\n",
        "    'AUC Score': roc_auc_score(y_test, y_pred_proba),\n",
        "    'ROC Curve': roc_curve(y_test, y_pred_proba),\n",
        "    'Confusion Matrix': confusion_matrix(y_test, y_pred_LR_Before_Imbalance),\n",
        "    'Imbalnced Feature Statue': True,\n",
        "    'Technique': \"Imbalanced Features\"\n",
        "}\n",
        "\n",
        "Logistic_Regression_Records = pd.concat([Logistic_Regression_Records, pd.DataFrame([LR_Imbalanced])], ignore_index=True)"
      ],
      "metadata": {
        "id": "8POEXejLxjyw"
      },
      "execution_count": null,
      "outputs": []
    },
    {
      "cell_type": "code",
      "source": [
        "Logistic_Regression_Records"
      ],
      "metadata": {
        "id": "7d5tx4TzLyhz"
      },
      "execution_count": null,
      "outputs": []
    },
    {
      "cell_type": "markdown",
      "source": [
        "**Random Under Sampling**"
      ],
      "metadata": {
        "id": "Khu3GkHh48aG"
      }
    },
    {
      "cell_type": "code",
      "source": [
        "Logistic_Regresion_Model_After_RUS = LogisticRegression(max_iter = 10000)\n",
        "Logistic_Regresion_Model_After_RUS.fit(X_train_random_under_samples, y_train_random_under_samples)\n",
        "y_random_under_sampled_pred = Logistic_Regresion_Model_After_RUS.predict(X_test_random_under_samples)\n",
        "y_pred_proba_RUS = Logistic_Regresion_Model_After_RUS.predict_proba(X_test_random_under_samples)[:, 1]\n",
        "\n",
        "LR_RUS = {\n",
        "    'Model Name': 'Logistic Regression',\n",
        "    'Accuracy Score': accuracy_score(y_test_random_under_samples, y_random_under_sampled_pred),\n",
        "    'Precision Score': precision_score(y_test_random_under_samples, y_random_under_sampled_pred),\n",
        "    'Recall Score': recall_score(y_test_random_under_samples, y_random_under_sampled_pred),\n",
        "    'F1 Score': f1_score(y_test_random_under_samples, y_random_under_sampled_pred),\n",
        "    'AUC Score': roc_auc_score(y_test_random_under_samples, y_pred_proba_RUS),\n",
        "    'ROC Curve': roc_curve(y_test_random_under_samples, y_pred_proba_RUS),\n",
        "    'Confusion Matrix': confusion_matrix(y_test_random_under_samples, y_random_under_sampled_pred),\n",
        "    'Imbalnced Feature Statue': False,\n",
        "    'Technique': 'Random Under Sampling'\n",
        "}\n",
        "Logistic_Regression_Records = pd.concat([Logistic_Regression_Records, pd.DataFrame([LR_RUS])], ignore_index=True)"
      ],
      "metadata": {
        "id": "bw_npiOjxwj0"
      },
      "execution_count": null,
      "outputs": []
    },
    {
      "cell_type": "markdown",
      "source": [
        "**Cluster Centroids**"
      ],
      "metadata": {
        "id": "hPFecqWj5A8Q"
      }
    },
    {
      "cell_type": "code",
      "execution_count": null,
      "metadata": {
        "id": "0-4gCv2Umo2X"
      },
      "outputs": [],
      "source": [
        "Logistic_Regresion_Model_After_CC = LogisticRegression(max_iter = 10000)\n",
        "Logistic_Regresion_Model_After_CC.fit(X_resampled_cc, y_resampled_cc)\n",
        "y_cc_pred = Logistic_Regresion_Model_After_CC.predict(X_test)\n",
        "y_pred_proba_cc = Logistic_Regresion_Model_After_CC.predict_proba(X_test)[:, 1]\n",
        "\n",
        "LR_CC = {\n",
        "    'Model Name': 'Logistic Regression',\n",
        "    'Accuracy Score': accuracy_score(y_test, y_cc_pred),\n",
        "    'Precision Score': precision_score(y_test, y_cc_pred),\n",
        "    'Recall Score': recall_score(y_test, y_cc_pred),\n",
        "    'F1 Score': f1_score(y_test, y_cc_pred),\n",
        "    'AUC Score': roc_auc_score(y_test, y_pred_proba_cc),\n",
        "    'ROC Curve': roc_curve(y_test, y_pred_proba_cc),\n",
        "    'Confusion Matrix': confusion_matrix(y_test, y_cc_pred),\n",
        "    'Imbalnced Feature Statue': False,\n",
        "    'Technique': 'Cluster Centroids'\n",
        "}\n",
        "Logistic_Regression_Records = pd.concat([Logistic_Regression_Records, pd.DataFrame([LR_CC])], ignore_index=True)"
      ]
    },
    {
      "cell_type": "markdown",
      "source": [
        "**Tomek Links**"
      ],
      "metadata": {
        "id": "LMoHZYZbmpOM"
      }
    },
    {
      "cell_type": "code",
      "execution_count": null,
      "metadata": {
        "id": "I84WivPLmpOO"
      },
      "outputs": [],
      "source": [
        "Logistic_Regresion_Model_After_TL = LogisticRegression(max_iter = 10000)\n",
        "Logistic_Regresion_Model_After_TL.fit(X_resampled_tl, y_resampled_tl)\n",
        "y_tl_pred = Logistic_Regresion_Model_After_TL.predict(X_test)\n",
        "y_pred_proba_tl = Logistic_Regresion_Model_After_TL.predict_proba(X_test)[:, 1]\n",
        "\n",
        "LR_TL = {\n",
        "    'Model Name': 'Logistic Regression',\n",
        "    'Accuracy Score': accuracy_score(y_test, y_tl_pred),\n",
        "    'Precision Score': precision_score(y_test, y_tl_pred),\n",
        "    'Recall Score': recall_score(y_test, y_tl_pred),\n",
        "    'F1 Score': f1_score(y_test, y_tl_pred),\n",
        "    'AUC Score': roc_auc_score(y_test, y_pred_proba_tl),\n",
        "    'ROC Curve': roc_curve(y_test, y_pred_proba_tl),\n",
        "    'Confusion Matrix': confusion_matrix(y_test, y_tl_pred),\n",
        "    'Imbalnced Feature Statue': False,\n",
        "    'Technique': 'Tomek Links'\n",
        "}\n",
        "Logistic_Regression_Records = pd.concat([Logistic_Regression_Records, pd.DataFrame([LR_TL])], ignore_index=True)"
      ]
    },
    {
      "cell_type": "markdown",
      "source": [
        "**Near Miss**"
      ],
      "metadata": {
        "id": "ZKc_TeEM5TeG"
      }
    },
    {
      "cell_type": "code",
      "execution_count": null,
      "metadata": {
        "id": "3JW1GFF49TfE"
      },
      "outputs": [],
      "source": [
        "Logistic_Regresion_Model_After_NM = LogisticRegression(max_iter=10000)\n",
        "Logistic_Regresion_Model_After_NM.fit(X_train_nm, y_train_nm)\n",
        "y_nm_pred = Logistic_Regresion_Model_After_NM.predict(X_test_nm)\n",
        "y_pred_proba_nm = Logistic_Regresion_Model_After_NM.predict_proba(X_test_nm)[:, 1]\n",
        "\n",
        "LR_NM = {\n",
        "    'Model Name': 'Logistic Regression',\n",
        "    'Accuracy Score': accuracy_score(y_test_nm, y_nm_pred),\n",
        "    'Precision Score': precision_score(y_test_nm, y_nm_pred),\n",
        "    'Recall Score': recall_score(y_test_nm, y_nm_pred),\n",
        "    'F1 Score': f1_score(y_test_nm, y_nm_pred),\n",
        "    'AUC Score': roc_auc_score(y_test_nm, y_pred_proba_nm),\n",
        "    'ROC Curve': roc_curve(y_test_nm, y_pred_proba_nm),\n",
        "    'Confusion Matrix': confusion_matrix(y_test_nm, y_nm_pred),\n",
        "    'Imbalnced Feature Statue': False,\n",
        "    'Technique': 'Near Miss'\n",
        "}\n",
        "Logistic_Regression_Records = pd.concat([Logistic_Regression_Records, pd.DataFrame([LR_NM])], ignore_index=True)"
      ]
    },
    {
      "cell_type": "markdown",
      "source": [
        "####**Logestic Regression With Smote**\n"
      ],
      "metadata": {
        "id": "irIGgeLIUXnm"
      }
    },
    {
      "cell_type": "code",
      "source": [
        "model = LogisticRegression( random_state=42)\n",
        "model.fit(X_train_resampled, y_train_resampled)\n",
        "\n",
        "y_pred_SM = model.predict(X_test)"
      ],
      "metadata": {
        "id": "YfmyhYr_UiqT"
      },
      "execution_count": null,
      "outputs": []
    },
    {
      "cell_type": "markdown",
      "source": [],
      "metadata": {
        "id": "IzmASsAHU0XX"
      }
    },
    {
      "cell_type": "code",
      "source": [
        "model_2 = LogisticRegression( C=0.1, class_weight={0: 1, 1: 12} , random_state=42)\n",
        "model_2.fit(X_train_resampled_SM, y_train_resampled_SM)\n",
        "\n",
        "y_pred_SM2 = model.predict(X_test)\n"
      ],
      "metadata": {
        "id": "uVxt5OSQU0xG"
      },
      "execution_count": null,
      "outputs": []
    },
    {
      "cell_type": "markdown",
      "source": [
        "#### **Insights**"
      ],
      "metadata": {
        "id": "sJwRLLid2KmO"
      }
    },
    {
      "cell_type": "markdown",
      "source": [
        "**Comparing Out Prefromance Measures Across Under Sampling Techniques**"
      ],
      "metadata": {
        "id": "DjDqYQGEpOE3"
      }
    },
    {
      "cell_type": "code",
      "source": [
        "sorted_by_F1_Score = Logistic_Regression_Records.sort_values(by=\"F1 Score\", ascending=False)\n",
        "sorted_by_F1_Score\n",
        "# We can say that based on sorting by F1 Score Near Miss is the Best One"
      ],
      "metadata": {
        "id": "_DXd-TWB2NVI"
      },
      "execution_count": null,
      "outputs": []
    },
    {
      "cell_type": "code",
      "source": [
        "sorted_data = sorted_by_F1_Score.sort_values(by=\"F1 Score\", ascending=False)\n",
        "fig, axes = plt.subplots(5, 1, figsize=(10,8))\n",
        "\n",
        "title_fontsize = 12\n",
        "label_fontsize = 10\n",
        "tick_fontsize = 8\n",
        "\n",
        "sns.barplot(data=sorted_data, y=\"Technique\", x=\"Accuracy Score\", ax=axes[0], orient='h')\n",
        "axes[0].set_title(\"Accuracy Score by Technique\", fontsize=title_fontsize)\n",
        "axes[0].set_xlabel(\"Accuracy Score\", fontsize=label_fontsize)\n",
        "axes[0].set_ylabel(\"Technique\", fontsize=label_fontsize)\n",
        "for bar in axes[0].patches:\n",
        "    axes[0].text(\n",
        "        bar.get_width() + 0.01, bar.get_y() + bar.get_height() / 2,\n",
        "        f\"{bar.get_width():.3f}\",\n",
        "        fontsize=label_fontsize, va='center'\n",
        "    )\n",
        "\n",
        "sorted_data = sorted_data.sort_values(by=\"Precision Score\", ascending=False)\n",
        "sns.barplot(data=sorted_data, y=\"Technique\", x=\"Precision Score\", ax=axes[1], orient='h')\n",
        "axes[1].set_title(\"Precision Score by Technique\", fontsize=title_fontsize)\n",
        "axes[1].set_xlabel(\"Precision Score\", fontsize=label_fontsize)\n",
        "axes[1].set_ylabel(\"Technique\", fontsize=label_fontsize)\n",
        "for bar in axes[1].patches:\n",
        "    axes[1].text(\n",
        "        bar.get_width() + 0.01, bar.get_y() + bar.get_height() / 2,\n",
        "        f\"{bar.get_width():.3f}\",\n",
        "        fontsize=label_fontsize, va='center'\n",
        "    )\n",
        "\n",
        "sorted_data = sorted_data.sort_values(by=\"Recall Score\", ascending=False)\n",
        "sns.barplot(data=sorted_data, y=\"Technique\", x=\"Recall Score\", ax=axes[2], orient='h')\n",
        "axes[2].set_title(\"Recall Score by Technique\", fontsize=title_fontsize)\n",
        "axes[2].set_xlabel(\"Recall Score\", fontsize=label_fontsize)\n",
        "axes[2].set_ylabel(\"Technique\", fontsize=label_fontsize)\n",
        "for bar in axes[2].patches:\n",
        "    axes[2].text(\n",
        "        bar.get_width() + 0.01, bar.get_y() + bar.get_height() / 2,\n",
        "        f\"{bar.get_width():.3f}\",\n",
        "        fontsize=label_fontsize, va='center'\n",
        "    )\n",
        "\n",
        "sorted_data = sorted_data.sort_values(by=\"F1 Score\", ascending=False)\n",
        "sns.barplot(data=sorted_data, y=\"Technique\", x=\"F1 Score\", ax=axes[3], orient='h')\n",
        "axes[3].set_title(\"F1 Score by Technique\", fontsize=title_fontsize)\n",
        "axes[3].set_xlabel(\"F1 Score\", fontsize=label_fontsize)\n",
        "axes[3].set_ylabel(\"Technique\", fontsize=label_fontsize)\n",
        "for bar in axes[3].patches:\n",
        "    axes[3].text(\n",
        "        bar.get_width() + 0.01, bar.get_y() + bar.get_height() / 2,\n",
        "        f\"{bar.get_width():.3f}\",\n",
        "        fontsize=label_fontsize, va='center'\n",
        "    )\n",
        "\n",
        "sorted_data = sorted_data.sort_values(by=\"AUC Score\", ascending=False)\n",
        "sns.barplot(data=sorted_data, y=\"Technique\", x=\"AUC Score\", ax=axes[4], orient='h')\n",
        "axes[4].set_title(\"AUC Score by Technique\", fontsize=title_fontsize)\n",
        "axes[4].set_xlabel(\"AUC Score\", fontsize=label_fontsize)\n",
        "axes[4].set_xlabel(\"AUC Score\", fontsize=label_fontsize)\n",
        "axes[4].set_ylabel(\"Technique\", fontsize=label_fontsize)\n",
        "for bar in axes[4].patches:\n",
        "    axes[4].text(\n",
        "        bar.get_width() + 0.01, bar.get_y() + bar.get_height() / 2,\n",
        "        f\"{bar.get_width():.3f}\",\n",
        "        fontsize=label_fontsize, va='center'\n",
        "    )\n",
        "\n",
        "plt.tight_layout()\n",
        "\n",
        "plt.show()"
      ],
      "metadata": {
        "id": "PLDam2mL_dRZ"
      },
      "execution_count": null,
      "outputs": []
    },
    {
      "cell_type": "code",
      "source": [
        "accuracy = accuracy_score(y_test, y_pred)\n",
        "f1 = f1_score(y_test, y_pred)\n",
        "recall = recall_score(y_test)\n",
        "precision = precision_score(y_test, y_pred)\n",
        "\n",
        "print(f\"{'Metric'} | {'Value'}\")\n",
        "print(\"-\" * 25)\n",
        "print(f\"{'Accuracy'} | {accuracy}\")\n",
        "print(f\"{'F1 Score'} | {f1}\")\n",
        "print(f\"{'Recall'} | {recall}\")\n",
        "print(f\"{'Precision'} | {precision}\")"
      ],
      "metadata": {
        "id": "WtxNeVEaWMPY"
      },
      "execution_count": null,
      "outputs": []
    },
    {
      "cell_type": "markdown",
      "source": [
        "**AUC - ROC Curve Under Different UnderSampling Techniques**"
      ],
      "metadata": {
        "id": "lRdK_0YSpWqM"
      }
    },
    {
      "cell_type": "code",
      "source": [
        "num_models = Logistic_Regression_Records.shape[0]\n",
        "\n",
        "fig, axes = plt.subplots(1, num_models, figsize=(5 * num_models, 6))\n",
        "fig.suptitle(\"ROC Under Different UnderSampling Techniques\")\n",
        "\n",
        "for i in range(num_models):\n",
        "    fpr, tpr, thresholds = Logistic_Regression_Records['ROC Curve'].iloc[i]\n",
        "    ax = axes[i] if num_models > 1 else axes\n",
        "    roc_auc = auc(fpr, tpr)\n",
        "    technique_name = Logistic_Regression_Records[\"Technique\"].iloc[i]\n",
        "    ax.plot(fpr, tpr, color='blue', lw=2, label=f'AUC = {roc_auc:.2f}')\n",
        "    ax.plot([0, 1], [0, 1], color='gray', linestyle='--', label='Random Guess')\n",
        "    ax.set_title(technique_name)\n",
        "    ax.set_xlabel('False Positive Rate')\n",
        "    ax.set_ylabel('True Positive Rate')\n",
        "    ax.legend(loc='lower right')\n",
        "    ax.grid()\n",
        "\n",
        "plt.tight_layout()\n",
        "plt.show()"
      ],
      "metadata": {
        "id": "qx5ehgIomhjQ"
      },
      "execution_count": null,
      "outputs": []
    },
    {
      "cell_type": "code",
      "source": [
        "fpr, tpr, thresholds = roc_curve(y_test, model.predict_proba(X_test)[:, 1])\n",
        "plt.figure(figsize=(8, 6))\n",
        "plt.plot(fpr, tpr, color='darkorange', lw=2, label=f'ROC curve (area = {roc_auc:.2f})')\n",
        "plt.plot([0, 1], [0, 1], color='navy', lw=2, linestyle='--')\n",
        "plt.xlim([0.0, 1.0])\n",
        "plt.ylim([0.0, 1.05])\n",
        "plt.xlabel('False Positive Rate')\n",
        "plt.ylabel('True Positive Rate')\n",
        "plt.title('Receiver Operating Characteristic')\n",
        "plt.legend(loc='lower right')\n",
        "plt.show()"
      ],
      "metadata": {
        "id": "O6_IDsWKYAWd"
      },
      "execution_count": null,
      "outputs": []
    },
    {
      "cell_type": "markdown",
      "source": [
        "**Cunfusion Matrix Under Different UnderSampling Techniques**"
      ],
      "metadata": {
        "id": "z6hn2u6spqU2"
      }
    },
    {
      "cell_type": "code",
      "source": [
        "fig, axes = plt.subplots(1, num_models, figsize=(5 * num_models, 5))\n",
        "fig.suptitle(\"Confusion Matrix Under Different UnderSampling Techniques\")\n",
        "\n",
        "for i in range(num_models):\n",
        "    technique_name = Logistic_Regression_Records[\"Technique\"].iloc[i]\n",
        "    confusion_matrix_data = Logistic_Regression_Records[\"Confusion Matrix\"].iloc[i]\n",
        "    ax = axes[i] if num_models > 1 else axes\n",
        "\n",
        "    sns.heatmap(confusion_matrix_data, annot=True, fmt='d', cmap='Blues', cbar=False, ax=ax)\n",
        "    sns.set(font_scale=1.5)\n",
        "    ax.set_title(technique_name)\n",
        "    ax.set_xlabel('Predicted Labels')\n",
        "    ax.set_ylabel('True Labels')\n",
        "\n",
        "plt.tight_layout()\n",
        "plt.show()"
      ],
      "metadata": {
        "id": "xbeof9LepzA1"
      },
      "execution_count": null,
      "outputs": []
    },
    {
      "cell_type": "code",
      "source": [
        "cm = confusion_matrix(y_test, y_pred)\n",
        "plt.figure(figsize=(8, 6))\n",
        "sns.heatmap(cm, annot=True, fmt='d', cmap='Blues', xticklabels=['Legitimate', 'Fraudulent'], yticklabels=['Legitimate', 'Fraudulent'])\n",
        "plt.title('Confusion Matrix')\n",
        "plt.xlabel('Predicted')\n",
        "plt.ylabel('True')\n",
        "plt.show()"
      ],
      "metadata": {
        "id": "eMnx-OZbYKIS"
      },
      "execution_count": null,
      "outputs": []
    },
    {
      "cell_type": "markdown",
      "source": [
        "***The Conclusion that while Over Sampling (Near MIss) is the Best Technqiue With Best Preformance Measures ~> Let's Apply Regualrization Techniques***"
      ],
      "metadata": {
        "id": "RdY7D9-46swN"
      }
    },
    {
      "cell_type": "markdown",
      "source": [
        "#### **Lasso Regularization Technique on Logistic Regression**\n",
        "*Near Miss Undersampling for Imbalanced Features*"
      ],
      "metadata": {
        "id": "yGTfVR3IdsRq"
      }
    },
    {
      "cell_type": "code",
      "source": [
        "lasso_model = LogisticRegression(penalty='l1', solver='liblinear', C=1.0, max_iter=10000)\n",
        "lasso_model.fit(X_train_nm, y_train_nm)\n",
        "lasso_preds = lasso_model.predict(X_test_nm)\n",
        "lasso_preds_proba = lasso_model.predict_proba(X_test_nm)[:, 1]\n",
        "\n",
        "lasso_results = {\n",
        "    \"Accuracy\": accuracy_score(y_test_nm, lasso_preds),\n",
        "    \"Precision\": precision_score(y_test_nm, lasso_preds),\n",
        "    \"Recall\": recall_score(y_test_nm, lasso_preds),\n",
        "    \"F1 Score\": f1_score(y_test_nm, lasso_preds),\n",
        "    \"AUC Score\": roc_auc_score(y_test_nm, lasso_preds_proba),\n",
        "    \"ROC Curve\": roc_curve(y_test_nm, lasso_preds_proba),\n",
        "    \"Confusion Matrix\": confusion_matrix(y_test_nm, lasso_preds)\n",
        "}"
      ],
      "metadata": {
        "id": "rtggTJBT6esD"
      },
      "execution_count": null,
      "outputs": []
    },
    {
      "cell_type": "markdown",
      "source": [
        "#### **Ridge Regularization Technique on Logistic Regression**\n",
        "*Near Miss Undersampling for Imbalanced Features*"
      ],
      "metadata": {
        "id": "bTWmTYxUeP7D"
      }
    },
    {
      "cell_type": "code",
      "source": [
        "ridge_model = LogisticRegression(penalty='l2', C=1.0, max_iter=10000)\n",
        "ridge_model.fit(X_train_nm, y_train_nm)\n",
        "ridge_preds = ridge_model.predict(X_test_nm)\n",
        "ridge_preds_proba = ridge_model.predict_proba(X_test_nm)[:, 1]\n",
        "\n",
        "ridge_results = {\n",
        "    \"Accuracy\": accuracy_score(y_test_nm, ridge_preds),\n",
        "    \"Precision\": precision_score(y_test_nm, ridge_preds),\n",
        "    \"Recall\": recall_score(y_test_nm, ridge_preds),\n",
        "    \"F1 Score\": f1_score(y_test_nm, ridge_preds),\n",
        "    \"AUC Score\": roc_auc_score(y_test_nm, ridge_preds_proba),\n",
        "    \"ROC Curve\": roc_curve(y_test_nm, ridge_preds_proba),\n",
        "    \"Confusion Matrix\": confusion_matrix(y_test_nm, ridge_preds)\n",
        "}\n"
      ],
      "metadata": {
        "id": "MhflFbjneEBy"
      },
      "execution_count": null,
      "outputs": []
    },
    {
      "cell_type": "code",
      "source": [
        "fig, axes = plt.subplots(1, 2, figsize=(12, 6))\n",
        "\n",
        "fpr_lasso, tpr_lasso, _ = lasso_results['ROC Curve']\n",
        "roc_auc_lasso = lasso_results['AUC Score']\n",
        "axes[0].plot(fpr_lasso, tpr_lasso, color='blue', lw=2, label=f'Lasso (AUC = {roc_auc_lasso:.2f})')\n",
        "axes[0].plot([0, 1], [0, 1], color='gray', linestyle='--', label='Random Guess')\n",
        "axes[0].set_xlabel('False Positive Rate')\n",
        "axes[0].set_ylabel('True Positive Rate')\n",
        "axes[0].set_title('Lasso ROC Curve')\n",
        "axes[0].legend(loc='lower right')\n",
        "axes[0].grid()\n",
        "\n",
        "fpr_ridge, tpr_ridge, _ = ridge_results['ROC Curve']\n",
        "roc_auc_ridge = ridge_results['AUC Score']\n",
        "axes[1].plot(fpr_ridge, tpr_ridge, color='red', lw=2, label=f'Ridge (AUC = {roc_auc_ridge:.2f})')\n",
        "axes[1].plot([0, 1], [0, 1], color='gray', linestyle='--', label='Random Guess')\n",
        "axes[1].set_xlabel('False Positive Rate')\n",
        "axes[1].set_ylabel('True Positive Rate')\n",
        "axes[1].set_title('Ridge ROC Curve')\n",
        "axes[1].legend(loc='lower right')\n",
        "axes[1].grid()\n",
        "\n",
        "plt.tight_layout()\n",
        "plt.show()"
      ],
      "metadata": {
        "id": "iJwp3EPTeKSl"
      },
      "execution_count": null,
      "outputs": []
    },
    {
      "cell_type": "code",
      "source": [
        "fig, axes = plt.subplots(1, 2, figsize=(12, 6))\n",
        "\n",
        "sns.heatmap(lasso_results['Confusion Matrix'], annot=True, fmt='d', cmap='Blues', cbar=False, ax=axes[0])\n",
        "axes[0].set_title('Lasso Confusion Matrix')\n",
        "\n",
        "sns.heatmap(ridge_results['Confusion Matrix'], annot=True, fmt='d', cmap='Blues', cbar=False, ax=axes[1])\n",
        "axes[1].set_title('Ridge Confusion Matrix')\n",
        "\n",
        "plt.tight_layout()\n",
        "plt.show()"
      ],
      "metadata": {
        "id": "32Sj0413tGnp"
      },
      "execution_count": null,
      "outputs": []
    },
    {
      "cell_type": "code",
      "source": [
        "ridge_results_for_table = ridge_results.copy()\n",
        "del ridge_results_for_table[\"ROC Curve\"]\n",
        "del ridge_results_for_table[\"Confusion Matrix\"]\n",
        "\n",
        "print(\"Ridge Logistic Regression Results:\")\n",
        "print(tabulate.tabulate(ridge_results_for_table.items(), headers=[\"Metric\", \"Value\"], tablefmt=\"grid\"))\n"
      ],
      "metadata": {
        "id": "m2ZAI-qYezag"
      },
      "execution_count": null,
      "outputs": []
    },
    {
      "cell_type": "code",
      "source": [
        "lasso_results_for_table = lasso_results.copy()\n",
        "del lasso_results_for_table[\"ROC Curve\"]\n",
        "del lasso_results_for_table[\"Confusion Matrix\"]\n",
        "\n",
        "print(\"nLasso Logistic Regression Results:\")\n",
        "print(tabulate.tabulate(lasso_results_for_table.items(), headers=[\"Metric\", \"Value\"], tablefmt=\"grid\"))"
      ],
      "metadata": {
        "id": "X_mXusDEs-0n"
      },
      "execution_count": null,
      "outputs": []
    },
    {
      "cell_type": "markdown",
      "source": [
        "# **There is No Effect on Prefromance metrics after applying *Regularization* techniques into Logistic Regression Classfier after Dealing with Imbalanced Featrues Using Near Miss Under Sampling Technique**"
      ],
      "metadata": {
        "id": "zAMfyBiGud71"
      }
    },
    {
      "cell_type": "code",
      "source": [
        "\n",
        "plt.figure(figsize=(6, 4))\n",
        "sns.countplot(x=y_train_resampled, palette='Set2')\n",
        "plt.title('Class Distribution in Resampled Data')\n",
        "plt.xlabel('Class')\n",
        "plt.ylabel('Count')\n",
        "plt.xticks([0, 1], ['Legitimate', 'Fraudulent'], rotation=0)\n",
        "plt.show()\n",
        "\n",
        "\n",
        "plt.figure(figsize=(8, 6))\n",
        "sns.histplot(X_train_resampled['Amount'], bins=50, kde=True, color='green')\n",
        "plt.title('Distribution of Amount After SMOTE')\n",
        "plt.xlabel('Amount')\n",
        "plt.ylabel('Frequency')\n",
        "plt.show()\n",
        "\n",
        "plt.figure(figsize=(8, 6))\n",
        "sns.histplot(X_train_resampled['Time'], bins=50, kde=True, color='blue')\n",
        "plt.title('Distribution of Time After SMOTE')\n",
        "plt.xlabel('Time')\n",
        "plt.ylabel('Frequency')\n",
        "plt.show()\n",
        "\n",
        "\n",
        "plt.figure(figsize=(15, 10))\n",
        "sns.heatmap(X_train_resampled.corr(), cmap='coolwarm', annot=False, fmt='.2f')\n",
        "plt.title('Correlation Heatmap of Features After SMOTE')\n",
        "plt.show()\n",
        "\n",
        "\n"
      ],
      "metadata": {
        "id": "ijXCwYHRVgKf"
      },
      "execution_count": null,
      "outputs": []
    }
  ],
  "metadata": {
    "colab": {
      "gpuType": "T4",
      "provenance": []
    },
    "kernelspec": {
      "display_name": "Python 3",
      "name": "python3"
    },
    "language_info": {
      "codemirror_mode": {
        "name": "ipython",
        "version": 3
      },
      "file_extension": ".py",
      "mimetype": "text/x-python",
      "name": "python",
      "nbconvert_exporter": "python",
      "pygments_lexer": "ipython3",
      "version": "3.12.6"
    }
  },
  "nbformat": 4,
  "nbformat_minor": 0
}
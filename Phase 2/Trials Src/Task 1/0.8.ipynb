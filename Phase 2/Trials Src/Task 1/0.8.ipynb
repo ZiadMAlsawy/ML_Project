{
  "cells": [
    {
      "cell_type": "code",
      "execution_count": 3,
      "metadata": {
        "id": "XTv-aldM0nRO"
      },
      "outputs": [],
      "source": [
        "import pandas as pd\n",
        "import numpy as np\n",
        "import matplotlib.pyplot as plt\n",
        "import seaborn as sns\n",
        "from sklearn.model_selection import train_test_split\n",
        "from sklearn.preprocessing import StandardScaler, LabelEncoder\n",
        "from sklearn.svm import SVR\n",
        "from sklearn.metrics import mean_squared_error\n",
        "import pandas as pd\n",
        "from sklearn.model_selection import train_test_split\n",
        "from sklearn.preprocessing import StandardScaler, LabelEncoder\n",
        "from sklearn.svm import SVR\n",
        "from sklearn.metrics import mean_squared_error\n",
        "from sklearn.impute import SimpleImputer  # Import SimpleImputer\n",
        "\n",
        "\n"
      ]
    },
    {
      "cell_type": "code",
      "execution_count": 4,
      "metadata": {
        "id": "SKLOeV5m1Nq-"
      },
      "outputs": [],
      "source": [
        "loan = pd.read_csv('/content/Loan.csv')\n",
        "test_file = pd.read_csv('/content/Regression_test_file.csv')\n",
        "\n"
      ]
    },
    {
      "cell_type": "code",
      "execution_count": 5,
      "metadata": {
        "id": "xy9BMpng1U93"
      },
      "outputs": [],
      "source": [
        "loan_head = loan.head()\n",
        "test_file_head = test_file.head()\n",
        "\n"
      ]
    },
    {
      "cell_type": "code",
      "execution_count": 6,
      "metadata": {
        "colab": {
          "base_uri": "https://localhost:8080/"
        },
        "id": "LDojXxwI1jTK",
        "outputId": "7d2692a4-bff1-4fb7-c83e-2d520fc9e15f"
      },
      "outputs": [
        {
          "name": "stdout",
          "output_type": "stream",
          "text": [
            "<class 'pandas.core.frame.DataFrame'>\n",
            "RangeIndex: 20000 entries, 0 to 19999\n",
            "Data columns (total 36 columns):\n",
            " #   Column                      Non-Null Count  Dtype  \n",
            "---  ------                      --------------  -----  \n",
            " 0   ApplicationDate             20000 non-null  object \n",
            " 1   Age                         20000 non-null  int64  \n",
            " 2   AnnualIncome                20000 non-null  int64  \n",
            " 3   CreditScore                 20000 non-null  int64  \n",
            " 4   EmploymentStatus            20000 non-null  object \n",
            " 5   EducationLevel              20000 non-null  object \n",
            " 6   Experience                  20000 non-null  int64  \n",
            " 7   LoanAmount                  20000 non-null  int64  \n",
            " 8   LoanDuration                20000 non-null  int64  \n",
            " 9   MaritalStatus               20000 non-null  object \n",
            " 10  NumberOfDependents          20000 non-null  int64  \n",
            " 11  HomeOwnershipStatus         20000 non-null  object \n",
            " 12  MonthlyDebtPayments         20000 non-null  int64  \n",
            " 13  CreditCardUtilizationRate   20000 non-null  float64\n",
            " 14  NumberOfOpenCreditLines     20000 non-null  int64  \n",
            " 15  NumberOfCreditInquiries     20000 non-null  int64  \n",
            " 16  DebtToIncomeRatio           20000 non-null  float64\n",
            " 17  BankruptcyHistory           20000 non-null  int64  \n",
            " 18  LoanPurpose                 20000 non-null  object \n",
            " 19  PreviousLoanDefaults        20000 non-null  int64  \n",
            " 20  PaymentHistory              20000 non-null  int64  \n",
            " 21  LengthOfCreditHistory       20000 non-null  int64  \n",
            " 22  SavingsAccountBalance       20000 non-null  int64  \n",
            " 23  CheckingAccountBalance      20000 non-null  int64  \n",
            " 24  TotalAssets                 20000 non-null  int64  \n",
            " 25  TotalLiabilities            20000 non-null  int64  \n",
            " 26  MonthlyIncome               20000 non-null  float64\n",
            " 27  UtilityBillsPaymentHistory  20000 non-null  float64\n",
            " 28  JobTenure                   20000 non-null  int64  \n",
            " 29  NetWorth                    20000 non-null  int64  \n",
            " 30  BaseInterestRate            20000 non-null  float64\n",
            " 31  InterestRate                20000 non-null  float64\n",
            " 32  MonthlyLoanPayment          20000 non-null  float64\n",
            " 33  TotalDebtToIncomeRatio      20000 non-null  float64\n",
            " 34  LoanApproved                20000 non-null  int64  \n",
            " 35  RiskScore                   20000 non-null  float64\n",
            "dtypes: float64(9), int64(21), object(6)\n",
            "memory usage: 5.5+ MB\n"
          ]
        }
      ],
      "source": [
        "loan_info = loan.info()\n"
      ]
    },
    {
      "cell_type": "code",
      "execution_count": 7,
      "metadata": {
        "id": "YjLNkDRI1ljC"
      },
      "outputs": [],
      "source": [
        "loan_desc = loan.describe()\n",
        "\n"
      ]
    },
    {
      "cell_type": "code",
      "execution_count": 8,
      "metadata": {
        "colab": {
          "base_uri": "https://localhost:8080/"
        },
        "id": "Aw4btx2j1nF0",
        "outputId": "0d491b39-f58b-4b93-9853-bfe8c8428024"
      },
      "outputs": [
        {
          "name": "stdout",
          "output_type": "stream",
          "text": [
            "<class 'pandas.core.frame.DataFrame'>\n",
            "RangeIndex: 1000 entries, 0 to 999\n",
            "Data columns (total 35 columns):\n",
            " #   Column                      Non-Null Count  Dtype  \n",
            "---  ------                      --------------  -----  \n",
            " 0   ApplicationDate             1000 non-null   object \n",
            " 1   Age                         1000 non-null   int64  \n",
            " 2   AnnualIncome                1000 non-null   int64  \n",
            " 3   CreditScore                 1000 non-null   int64  \n",
            " 4   EmploymentStatus            1000 non-null   object \n",
            " 5   EducationLevel              1000 non-null   object \n",
            " 6   Experience                  1000 non-null   int64  \n",
            " 7   LoanAmount                  1000 non-null   int64  \n",
            " 8   LoanDuration                1000 non-null   int64  \n",
            " 9   MaritalStatus               1000 non-null   object \n",
            " 10  NumberOfDependents          1000 non-null   int64  \n",
            " 11  HomeOwnershipStatus         1000 non-null   object \n",
            " 12  MonthlyDebtPayments         1000 non-null   int64  \n",
            " 13  CreditCardUtilizationRate   1000 non-null   float64\n",
            " 14  NumberOfOpenCreditLines     1000 non-null   int64  \n",
            " 15  NumberOfCreditInquiries     1000 non-null   int64  \n",
            " 16  DebtToIncomeRatio           1000 non-null   float64\n",
            " 17  BankruptcyHistory           1000 non-null   int64  \n",
            " 18  LoanPurpose                 1000 non-null   object \n",
            " 19  PreviousLoanDefaults        1000 non-null   int64  \n",
            " 20  PaymentHistory              1000 non-null   int64  \n",
            " 21  LengthOfCreditHistory       1000 non-null   int64  \n",
            " 22  SavingsAccountBalance       1000 non-null   int64  \n",
            " 23  CheckingAccountBalance      1000 non-null   int64  \n",
            " 24  TotalAssets                 1000 non-null   int64  \n",
            " 25  TotalLiabilities            1000 non-null   int64  \n",
            " 26  MonthlyIncome               1000 non-null   float64\n",
            " 27  UtilityBillsPaymentHistory  1000 non-null   float64\n",
            " 28  JobTenure                   1000 non-null   int64  \n",
            " 29  NetWorth                    1000 non-null   int64  \n",
            " 30  BaseInterestRate            1000 non-null   float64\n",
            " 31  InterestRate                1000 non-null   float64\n",
            " 32  MonthlyLoanPayment          1000 non-null   float64\n",
            " 33  TotalDebtToIncomeRatio      1000 non-null   float64\n",
            " 34  LoanApproved                1000 non-null   int64  \n",
            "dtypes: float64(8), int64(21), object(6)\n",
            "memory usage: 273.6+ KB\n"
          ]
        }
      ],
      "source": [
        "test_file_info = test_file.info()\n",
        "\n"
      ]
    },
    {
      "cell_type": "code",
      "execution_count": 9,
      "metadata": {
        "colab": {
          "base_uri": "https://localhost:8080/"
        },
        "id": "AHSm-3WZ1o2O",
        "outputId": "286ff1cf-ad54-4689-f385-88e501fe1e60"
      },
      "outputs": [
        {
          "data": {
            "text/plain": [
              "(  ApplicationDate  Age  AnnualIncome  CreditScore EmploymentStatus  \\\n",
              " 0      2018-01-01   45         39948          617         Employed   \n",
              " 1      2018-01-02   38         39709          628         Employed   \n",
              " 2      2018-01-03   47         40724          570         Employed   \n",
              " 3      2018-01-04   58         69084          545         Employed   \n",
              " 4      2018-01-05   37        103264          594         Employed   \n",
              " \n",
              "   EducationLevel  Experience  LoanAmount  LoanDuration MaritalStatus  ...  \\\n",
              " 0         Master          22       13152            48       Married  ...   \n",
              " 1      Associate          15       26045            48        Single  ...   \n",
              " 2       Bachelor          26       17627            36       Married  ...   \n",
              " 3    High School          34       37898            96        Single  ...   \n",
              " 4      Associate          17        9184            36       Married  ...   \n",
              " \n",
              "    MonthlyIncome UtilityBillsPaymentHistory  JobTenure  NetWorth  \\\n",
              " 0    3329.000000                   0.724972         11    126928   \n",
              " 1    3309.083333                   0.935132          3     43609   \n",
              " 2    3393.666667                   0.872241          6      5205   \n",
              " 3    5757.000000                   0.896155          5     99452   \n",
              " 4    8605.333333                   0.941369          5    227019   \n",
              " \n",
              "    BaseInterestRate  InterestRate  MonthlyLoanPayment  TotalDebtToIncomeRatio  \\\n",
              " 0          0.199652      0.227590          419.805992                0.181077   \n",
              " 1          0.207045      0.201077          794.054238                0.389852   \n",
              " 2          0.217627      0.212548          666.406688                0.462157   \n",
              " 3          0.300398      0.300911         1047.506980                0.313098   \n",
              " 4          0.197184      0.175990          330.179140                0.070210   \n",
              " \n",
              "   LoanApproved  RiskScore  \n",
              " 0            0       49.0  \n",
              " 1            0       52.0  \n",
              " 2            0       52.0  \n",
              " 3            0       54.0  \n",
              " 4            1       36.0  \n",
              " \n",
              " [5 rows x 36 columns],\n",
              " None,\n",
              "                 Age   AnnualIncome   CreditScore    Experience     LoanAmount  \\\n",
              " count  20000.000000   20000.000000  20000.000000  20000.000000   20000.000000   \n",
              " mean      39.752600   59161.473550    571.612400     17.522750   24882.867800   \n",
              " std       11.622713   40350.845168     50.997358     11.316836   13427.421217   \n",
              " min       18.000000   15000.000000    343.000000      0.000000    3674.000000   \n",
              " 25%       32.000000   31679.000000    540.000000      9.000000   15575.000000   \n",
              " 50%       40.000000   48566.000000    578.000000     17.000000   21914.500000   \n",
              " 75%       48.000000   74391.000000    609.000000     25.000000   30835.000000   \n",
              " max       80.000000  485341.000000    712.000000     61.000000  184732.000000   \n",
              " \n",
              "        LoanDuration  NumberOfDependents  MonthlyDebtPayments  \\\n",
              " count  20000.000000        20000.000000         20000.000000   \n",
              " mean      54.057000            1.517300           454.292700   \n",
              " std       24.664857            1.386325           240.507609   \n",
              " min       12.000000            0.000000            50.000000   \n",
              " 25%       36.000000            0.000000           286.000000   \n",
              " 50%       48.000000            1.000000           402.000000   \n",
              " 75%       72.000000            2.000000           564.000000   \n",
              " max      120.000000            5.000000          2919.000000   \n",
              " \n",
              "        CreditCardUtilizationRate  NumberOfOpenCreditLines  ...  MonthlyIncome  \\\n",
              " count               20000.000000             20000.000000  ...   20000.000000   \n",
              " mean                    0.286381                 3.023350  ...    4891.715521   \n",
              " std                     0.159793                 1.736161  ...    3296.771598   \n",
              " min                     0.000974                 0.000000  ...    1250.000000   \n",
              " 25%                     0.160794                 2.000000  ...    2629.583333   \n",
              " 50%                     0.266673                 3.000000  ...    4034.750000   \n",
              " 75%                     0.390634                 4.000000  ...    6163.000000   \n",
              " max                     0.917380                13.000000  ...   25000.000000   \n",
              " \n",
              "        UtilityBillsPaymentHistory     JobTenure      NetWorth  \\\n",
              " count                20000.000000  20000.000000  2.000000e+04   \n",
              " mean                     0.799918      5.002650  7.229432e+04   \n",
              " std                      0.120665      2.236804  1.179200e+05   \n",
              " min                      0.259203      0.000000  1.000000e+03   \n",
              " 25%                      0.727379      3.000000  8.734750e+03   \n",
              " 50%                      0.820962      5.000000  3.285550e+04   \n",
              " 75%                      0.892333      6.000000  8.882550e+04   \n",
              " max                      0.999433     16.000000  2.603208e+06   \n",
              " \n",
              "        BaseInterestRate  InterestRate  MonthlyLoanPayment  \\\n",
              " count      20000.000000  20000.000000        20000.000000   \n",
              " mean           0.239124      0.239110          911.607052   \n",
              " std            0.035509      0.042205          674.583473   \n",
              " min            0.130101      0.113310           97.030193   \n",
              " 25%            0.213889      0.209142          493.763700   \n",
              " 50%            0.236157      0.235390          728.511452   \n",
              " 75%            0.261533      0.265532         1112.770759   \n",
              " max            0.405029      0.446787        10892.629520   \n",
              " \n",
              "        TotalDebtToIncomeRatio  LoanApproved     RiskScore  \n",
              " count            20000.000000  20000.000000  20000.000000  \n",
              " mean                 0.402182      0.239000     50.766780  \n",
              " std                  0.338924      0.426483      7.778262  \n",
              " min                  0.016043      0.000000     28.800000  \n",
              " 25%                  0.179693      0.000000     46.000000  \n",
              " 50%                  0.302711      0.000000     52.000000  \n",
              " 75%                  0.509214      0.000000     56.000000  \n",
              " max                  4.647657      1.000000     84.000000  \n",
              " \n",
              " [8 rows x 30 columns],\n",
              "   ApplicationDate  Age  AnnualIncome  CreditScore EmploymentStatus  \\\n",
              " 0        1/1/2018   45         39948          617         Employed   \n",
              " 1       3/27/2018   33         29096          570         Employed   \n",
              " 2       3/28/2018   50         60992          663         Employed   \n",
              " 3       3/29/2018   43        100032          524         Employed   \n",
              " 4       3/30/2018   33         35882          620         Employed   \n",
              " \n",
              "   EducationLevel  Experience  LoanAmount  LoanDuration MaritalStatus  ...  \\\n",
              " 0         Master          22       13152            48       Married  ...   \n",
              " 1      Associate          12       40138            24       Married  ...   \n",
              " 2       Bachelor          30       24642            48        Single  ...   \n",
              " 3         Master          21       19105            60       Married  ...   \n",
              " 4         Master          11        9259            48        Single  ...   \n",
              " \n",
              "    TotalLiabilities MonthlyIncome  UtilityBillsPaymentHistory  JobTenure  \\\n",
              " 0             19183   3329.000000                    0.724972         11   \n",
              " 1             50013   2424.666667                    0.760758          4   \n",
              " 2             13350   5082.666667                    0.917148          4   \n",
              " 3              4301   8336.000000                    0.831494          6   \n",
              " 4             91262   2990.166667                    0.883372          3   \n",
              " \n",
              "    NetWorth  BaseInterestRate  InterestRate  MonthlyLoanPayment  \\\n",
              " 0    126928          0.199652      0.227590          419.805992   \n",
              " 1     36237          0.230138      0.248601         2139.408949   \n",
              " 2     38852          0.188142      0.216449          771.630413   \n",
              " 3     45588          0.262105      0.209684          516.514890   \n",
              " 4      8266          0.194259      0.200011          281.760387   \n",
              " \n",
              "   TotalDebtToIncomeRatio  LoanApproved  \n",
              " 0               0.181077             0  \n",
              " 1               1.164865             0  \n",
              " 2               0.282456             0  \n",
              " 3               0.160810             1  \n",
              " 4               0.180177             0  \n",
              " \n",
              " [5 rows x 35 columns],\n",
              " None)"
            ]
          },
          "execution_count": 9,
          "metadata": {},
          "output_type": "execute_result"
        }
      ],
      "source": [
        "loan_head, loan_info, loan_desc, test_file_head, test_file_info\n"
      ]
    },
    {
      "cell_type": "code",
      "execution_count": 9,
      "metadata": {
        "id": "xXqh16jF2dvN"
      },
      "outputs": [],
      "source": []
    },
    {
      "cell_type": "code",
      "execution_count": 10,
      "metadata": {
        "id": "z88cPJby1rPp"
      },
      "outputs": [],
      "source": [
        "target = \"RiskScore\"\n",
        "X = loan.drop(columns=[target, \"ApplicationDate\"])\n",
        "y = loan[target]\n",
        "\n"
      ]
    },
    {
      "cell_type": "code",
      "execution_count": 11,
      "metadata": {
        "colab": {
          "base_uri": "https://localhost:8080/"
        },
        "id": "wuK66V6_2fLb",
        "outputId": "d0e9351b-f9f3-4bfb-c1f9-ae8bdaafcabc"
      },
      "outputs": [
        {
          "name": "stdout",
          "output_type": "stream",
          "text": [
            "Age                           0\n",
            "AnnualIncome                  0\n",
            "CreditScore                   0\n",
            "EmploymentStatus              0\n",
            "EducationLevel                0\n",
            "Experience                    0\n",
            "LoanAmount                    0\n",
            "LoanDuration                  0\n",
            "MaritalStatus                 0\n",
            "NumberOfDependents            0\n",
            "HomeOwnershipStatus           0\n",
            "MonthlyDebtPayments           0\n",
            "CreditCardUtilizationRate     0\n",
            "NumberOfOpenCreditLines       0\n",
            "NumberOfCreditInquiries       0\n",
            "DebtToIncomeRatio             0\n",
            "BankruptcyHistory             0\n",
            "LoanPurpose                   0\n",
            "PreviousLoanDefaults          0\n",
            "PaymentHistory                0\n",
            "LengthOfCreditHistory         0\n",
            "SavingsAccountBalance         0\n",
            "CheckingAccountBalance        0\n",
            "TotalAssets                   0\n",
            "TotalLiabilities              0\n",
            "MonthlyIncome                 0\n",
            "UtilityBillsPaymentHistory    0\n",
            "JobTenure                     0\n",
            "NetWorth                      0\n",
            "BaseInterestRate              0\n",
            "InterestRate                  0\n",
            "MonthlyLoanPayment            0\n",
            "TotalDebtToIncomeRatio        0\n",
            "LoanApproved                  0\n",
            "dtype: int64\n"
          ]
        }
      ],
      "source": [
        "print(X.isnull().sum())  \n"
      ]
    },
    {
      "cell_type": "code",
      "execution_count": 12,
      "metadata": {
        "id": "FbWPYjjq2iuk"
      },
      "outputs": [],
      "source": [
        "imputer = SimpleImputer(strategy='mean') # for creating an imputer instance\n",
        "numerical_columns = X.select_dtypes(include=['number']).columns # Get numerical columns\n",
        "X[numerical_columns] = imputer.fit_transform(X[numerical_columns]) # Fit and transform on numerical columns\n"
      ]
    },
    {
      "cell_type": "code",
      "execution_count": 13,
      "metadata": {
        "id": "JC4AzwDe3A9c"
      },
      "outputs": [],
      "source": [
        "\n",
        "X.dropna(inplace=True)\n",
        "y = y[X.index]  # Update y to match the dropped rows in X\n",
        "\n"
      ]
    },
    {
      "cell_type": "code",
      "execution_count": 14,
      "metadata": {
        "id": "FQDN3cpr12rs"
      },
      "outputs": [],
      "source": [
        "# Encode categorical features\n",
        "categorical_columns = X.select_dtypes(include=\"object\").columns\n",
        "label_encoders = {}\n",
        "\n",
        "for col in categorical_columns:\n",
        "    le = LabelEncoder()\n",
        "    X[col] = le.fit_transform(X[col])\n",
        "    label_encoders[col] = le"
      ]
    },
    {
      "cell_type": "code",
      "execution_count": 14,
      "metadata": {
        "id": "xx9pZ1le3AXi"
      },
      "outputs": [],
      "source": []
    },
    {
      "cell_type": "code",
      "execution_count": 15,
      "metadata": {
        "id": "HB813SJj14yv"
      },
      "outputs": [],
      "source": [
        "scaler = StandardScaler()\n",
        "X_scaled = scaler.fit_transform(X)\n",
        "\n"
      ]
    },
    {
      "cell_type": "code",
      "execution_count": 16,
      "metadata": {
        "id": "C00WBBmI16dK"
      },
      "outputs": [],
      "source": [
        "X_train, X_val, y_train, y_val = train_test_split(X_scaled, y, test_size=0.2, random_state=42)\n",
        "\n"
      ]
    },
    {
      "cell_type": "code",
      "execution_count": 17,
      "metadata": {
        "colab": {
          "base_uri": "https://localhost:8080/"
        },
        "id": "MI7DL5t56avE",
        "outputId": "449459bb-a882-44e3-ec30-294415010db6"
      },
      "outputs": [
        {
          "name": "stdout",
          "output_type": "stream",
          "text": [
            "Missing values in y_train before cleaning: 0\n",
            "Missing values in y_train after cleaning: 0\n"
          ]
        }
      ],
      "source": [
        "# Check for NaN in target variable (y_train)\n",
        "print(f\"Missing values in y_train before cleaning: {y_train.isnull().sum()}\")\n",
        "\n",
        "# Drop rows with NaN in y_train\n",
        "non_nan_indices = ~y_train.isnull()\n",
        "X_train = X_train[non_nan_indices]\n",
        "y_train = y_train[non_nan_indices]\n",
        "\n",
        "# Verify no NaN values remain\n",
        "print(f\"Missing values in y_train after cleaning: {y_train.isnull().sum()}\")\n"
      ]
    },
    {
      "cell_type": "code",
      "execution_count": 18,
      "metadata": {
        "colab": {
          "base_uri": "https://localhost:8080/",
          "height": 80
        },
        "id": "sILeyf7v18Hw",
        "outputId": "eca78a22-7820-4de9-ead8-f020b0988c67"
      },
      "outputs": [
        {
          "data": {
            "text/html": [
              "<style>#sk-container-id-1 {\n",
              "  /* Definition of color scheme common for light and dark mode */\n",
              "  --sklearn-color-text: black;\n",
              "  --sklearn-color-line: gray;\n",
              "  /* Definition of color scheme for unfitted estimators */\n",
              "  --sklearn-color-unfitted-level-0: #fff5e6;\n",
              "  --sklearn-color-unfitted-level-1: #f6e4d2;\n",
              "  --sklearn-color-unfitted-level-2: #ffe0b3;\n",
              "  --sklearn-color-unfitted-level-3: chocolate;\n",
              "  /* Definition of color scheme for fitted estimators */\n",
              "  --sklearn-color-fitted-level-0: #f0f8ff;\n",
              "  --sklearn-color-fitted-level-1: #d4ebff;\n",
              "  --sklearn-color-fitted-level-2: #b3dbfd;\n",
              "  --sklearn-color-fitted-level-3: cornflowerblue;\n",
              "\n",
              "  /* Specific color for light theme */\n",
              "  --sklearn-color-text-on-default-background: var(--sg-text-color, var(--theme-code-foreground, var(--jp-content-font-color1, black)));\n",
              "  --sklearn-color-background: var(--sg-background-color, var(--theme-background, var(--jp-layout-color0, white)));\n",
              "  --sklearn-color-border-box: var(--sg-text-color, var(--theme-code-foreground, var(--jp-content-font-color1, black)));\n",
              "  --sklearn-color-icon: #696969;\n",
              "\n",
              "  @media (prefers-color-scheme: dark) {\n",
              "    /* Redefinition of color scheme for dark theme */\n",
              "    --sklearn-color-text-on-default-background: var(--sg-text-color, var(--theme-code-foreground, var(--jp-content-font-color1, white)));\n",
              "    --sklearn-color-background: var(--sg-background-color, var(--theme-background, var(--jp-layout-color0, #111)));\n",
              "    --sklearn-color-border-box: var(--sg-text-color, var(--theme-code-foreground, var(--jp-content-font-color1, white)));\n",
              "    --sklearn-color-icon: #878787;\n",
              "  }\n",
              "}\n",
              "\n",
              "#sk-container-id-1 {\n",
              "  color: var(--sklearn-color-text);\n",
              "}\n",
              "\n",
              "#sk-container-id-1 pre {\n",
              "  padding: 0;\n",
              "}\n",
              "\n",
              "#sk-container-id-1 input.sk-hidden--visually {\n",
              "  border: 0;\n",
              "  clip: rect(1px 1px 1px 1px);\n",
              "  clip: rect(1px, 1px, 1px, 1px);\n",
              "  height: 1px;\n",
              "  margin: -1px;\n",
              "  overflow: hidden;\n",
              "  padding: 0;\n",
              "  position: absolute;\n",
              "  width: 1px;\n",
              "}\n",
              "\n",
              "#sk-container-id-1 div.sk-dashed-wrapped {\n",
              "  border: 1px dashed var(--sklearn-color-line);\n",
              "  margin: 0 0.4em 0.5em 0.4em;\n",
              "  box-sizing: border-box;\n",
              "  padding-bottom: 0.4em;\n",
              "  background-color: var(--sklearn-color-background);\n",
              "}\n",
              "\n",
              "#sk-container-id-1 div.sk-container {\n",
              "  /* jupyter's `normalize.less` sets `[hidden] { display: none; }`\n",
              "     but bootstrap.min.css set `[hidden] { display: none !important; }`\n",
              "     so we also need the `!important` here to be able to override the\n",
              "     default hidden behavior on the sphinx rendered scikit-learn.org.\n",
              "     See: https://github.com/scikit-learn/scikit-learn/issues/21755 */\n",
              "  display: inline-block !important;\n",
              "  position: relative;\n",
              "}\n",
              "\n",
              "#sk-container-id-1 div.sk-text-repr-fallback {\n",
              "  display: none;\n",
              "}\n",
              "\n",
              "div.sk-parallel-item,\n",
              "div.sk-serial,\n",
              "div.sk-item {\n",
              "  /* draw centered vertical line to link estimators */\n",
              "  background-image: linear-gradient(var(--sklearn-color-text-on-default-background), var(--sklearn-color-text-on-default-background));\n",
              "  background-size: 2px 100%;\n",
              "  background-repeat: no-repeat;\n",
              "  background-position: center center;\n",
              "}\n",
              "\n",
              "/* Parallel-specific style estimator block */\n",
              "\n",
              "#sk-container-id-1 div.sk-parallel-item::after {\n",
              "  content: \"\";\n",
              "  width: 100%;\n",
              "  border-bottom: 2px solid var(--sklearn-color-text-on-default-background);\n",
              "  flex-grow: 1;\n",
              "}\n",
              "\n",
              "#sk-container-id-1 div.sk-parallel {\n",
              "  display: flex;\n",
              "  align-items: stretch;\n",
              "  justify-content: center;\n",
              "  background-color: var(--sklearn-color-background);\n",
              "  position: relative;\n",
              "}\n",
              "\n",
              "#sk-container-id-1 div.sk-parallel-item {\n",
              "  display: flex;\n",
              "  flex-direction: column;\n",
              "}\n",
              "\n",
              "#sk-container-id-1 div.sk-parallel-item:first-child::after {\n",
              "  align-self: flex-end;\n",
              "  width: 50%;\n",
              "}\n",
              "\n",
              "#sk-container-id-1 div.sk-parallel-item:last-child::after {\n",
              "  align-self: flex-start;\n",
              "  width: 50%;\n",
              "}\n",
              "\n",
              "#sk-container-id-1 div.sk-parallel-item:only-child::after {\n",
              "  width: 0;\n",
              "}\n",
              "\n",
              "/* Serial-specific style estimator block */\n",
              "\n",
              "#sk-container-id-1 div.sk-serial {\n",
              "  display: flex;\n",
              "  flex-direction: column;\n",
              "  align-items: center;\n",
              "  background-color: var(--sklearn-color-background);\n",
              "  padding-right: 1em;\n",
              "  padding-left: 1em;\n",
              "}\n",
              "\n",
              "\n",
              "/* Toggleable style: style used for estimator/Pipeline/ColumnTransformer box that is\n",
              "clickable and can be expanded/collapsed.\n",
              "- Pipeline and ColumnTransformer use this feature and define the default style\n",
              "- Estimators will overwrite some part of the style using the `sk-estimator` class\n",
              "*/\n",
              "\n",
              "/* Pipeline and ColumnTransformer style (default) */\n",
              "\n",
              "#sk-container-id-1 div.sk-toggleable {\n",
              "  /* Default theme specific background. It is overwritten whether we have a\n",
              "  specific estimator or a Pipeline/ColumnTransformer */\n",
              "  background-color: var(--sklearn-color-background);\n",
              "}\n",
              "\n",
              "/* Toggleable label */\n",
              "#sk-container-id-1 label.sk-toggleable__label {\n",
              "  cursor: pointer;\n",
              "  display: block;\n",
              "  width: 100%;\n",
              "  margin-bottom: 0;\n",
              "  padding: 0.5em;\n",
              "  box-sizing: border-box;\n",
              "  text-align: center;\n",
              "}\n",
              "\n",
              "#sk-container-id-1 label.sk-toggleable__label-arrow:before {\n",
              "  /* Arrow on the left of the label */\n",
              "  content: \"▸\";\n",
              "  float: left;\n",
              "  margin-right: 0.25em;\n",
              "  color: var(--sklearn-color-icon);\n",
              "}\n",
              "\n",
              "#sk-container-id-1 label.sk-toggleable__label-arrow:hover:before {\n",
              "  color: var(--sklearn-color-text);\n",
              "}\n",
              "\n",
              "/* Toggleable content - dropdown */\n",
              "\n",
              "#sk-container-id-1 div.sk-toggleable__content {\n",
              "  max-height: 0;\n",
              "  max-width: 0;\n",
              "  overflow: hidden;\n",
              "  text-align: left;\n",
              "  /* unfitted */\n",
              "  background-color: var(--sklearn-color-unfitted-level-0);\n",
              "}\n",
              "\n",
              "#sk-container-id-1 div.sk-toggleable__content.fitted {\n",
              "  /* fitted */\n",
              "  background-color: var(--sklearn-color-fitted-level-0);\n",
              "}\n",
              "\n",
              "#sk-container-id-1 div.sk-toggleable__content pre {\n",
              "  margin: 0.2em;\n",
              "  border-radius: 0.25em;\n",
              "  color: var(--sklearn-color-text);\n",
              "  /* unfitted */\n",
              "  background-color: var(--sklearn-color-unfitted-level-0);\n",
              "}\n",
              "\n",
              "#sk-container-id-1 div.sk-toggleable__content.fitted pre {\n",
              "  /* unfitted */\n",
              "  background-color: var(--sklearn-color-fitted-level-0);\n",
              "}\n",
              "\n",
              "#sk-container-id-1 input.sk-toggleable__control:checked~div.sk-toggleable__content {\n",
              "  /* Expand drop-down */\n",
              "  max-height: 200px;\n",
              "  max-width: 100%;\n",
              "  overflow: auto;\n",
              "}\n",
              "\n",
              "#sk-container-id-1 input.sk-toggleable__control:checked~label.sk-toggleable__label-arrow:before {\n",
              "  content: \"▾\";\n",
              "}\n",
              "\n",
              "/* Pipeline/ColumnTransformer-specific style */\n",
              "\n",
              "#sk-container-id-1 div.sk-label input.sk-toggleable__control:checked~label.sk-toggleable__label {\n",
              "  color: var(--sklearn-color-text);\n",
              "  background-color: var(--sklearn-color-unfitted-level-2);\n",
              "}\n",
              "\n",
              "#sk-container-id-1 div.sk-label.fitted input.sk-toggleable__control:checked~label.sk-toggleable__label {\n",
              "  background-color: var(--sklearn-color-fitted-level-2);\n",
              "}\n",
              "\n",
              "/* Estimator-specific style */\n",
              "\n",
              "/* Colorize estimator box */\n",
              "#sk-container-id-1 div.sk-estimator input.sk-toggleable__control:checked~label.sk-toggleable__label {\n",
              "  /* unfitted */\n",
              "  background-color: var(--sklearn-color-unfitted-level-2);\n",
              "}\n",
              "\n",
              "#sk-container-id-1 div.sk-estimator.fitted input.sk-toggleable__control:checked~label.sk-toggleable__label {\n",
              "  /* fitted */\n",
              "  background-color: var(--sklearn-color-fitted-level-2);\n",
              "}\n",
              "\n",
              "#sk-container-id-1 div.sk-label label.sk-toggleable__label,\n",
              "#sk-container-id-1 div.sk-label label {\n",
              "  /* The background is the default theme color */\n",
              "  color: var(--sklearn-color-text-on-default-background);\n",
              "}\n",
              "\n",
              "/* On hover, darken the color of the background */\n",
              "#sk-container-id-1 div.sk-label:hover label.sk-toggleable__label {\n",
              "  color: var(--sklearn-color-text);\n",
              "  background-color: var(--sklearn-color-unfitted-level-2);\n",
              "}\n",
              "\n",
              "/* Label box, darken color on hover, fitted */\n",
              "#sk-container-id-1 div.sk-label.fitted:hover label.sk-toggleable__label.fitted {\n",
              "  color: var(--sklearn-color-text);\n",
              "  background-color: var(--sklearn-color-fitted-level-2);\n",
              "}\n",
              "\n",
              "/* Estimator label */\n",
              "\n",
              "#sk-container-id-1 div.sk-label label {\n",
              "  font-family: monospace;\n",
              "  font-weight: bold;\n",
              "  display: inline-block;\n",
              "  line-height: 1.2em;\n",
              "}\n",
              "\n",
              "#sk-container-id-1 div.sk-label-container {\n",
              "  text-align: center;\n",
              "}\n",
              "\n",
              "/* Estimator-specific */\n",
              "#sk-container-id-1 div.sk-estimator {\n",
              "  font-family: monospace;\n",
              "  border: 1px dotted var(--sklearn-color-border-box);\n",
              "  border-radius: 0.25em;\n",
              "  box-sizing: border-box;\n",
              "  margin-bottom: 0.5em;\n",
              "  /* unfitted */\n",
              "  background-color: var(--sklearn-color-unfitted-level-0);\n",
              "}\n",
              "\n",
              "#sk-container-id-1 div.sk-estimator.fitted {\n",
              "  /* fitted */\n",
              "  background-color: var(--sklearn-color-fitted-level-0);\n",
              "}\n",
              "\n",
              "/* on hover */\n",
              "#sk-container-id-1 div.sk-estimator:hover {\n",
              "  /* unfitted */\n",
              "  background-color: var(--sklearn-color-unfitted-level-2);\n",
              "}\n",
              "\n",
              "#sk-container-id-1 div.sk-estimator.fitted:hover {\n",
              "  /* fitted */\n",
              "  background-color: var(--sklearn-color-fitted-level-2);\n",
              "}\n",
              "\n",
              "/* Specification for estimator info (e.g. \"i\" and \"?\") */\n",
              "\n",
              "/* Common style for \"i\" and \"?\" */\n",
              "\n",
              ".sk-estimator-doc-link,\n",
              "a:link.sk-estimator-doc-link,\n",
              "a:visited.sk-estimator-doc-link {\n",
              "  float: right;\n",
              "  font-size: smaller;\n",
              "  line-height: 1em;\n",
              "  font-family: monospace;\n",
              "  background-color: var(--sklearn-color-background);\n",
              "  border-radius: 1em;\n",
              "  height: 1em;\n",
              "  width: 1em;\n",
              "  text-decoration: none !important;\n",
              "  margin-left: 1ex;\n",
              "  /* unfitted */\n",
              "  border: var(--sklearn-color-unfitted-level-1) 1pt solid;\n",
              "  color: var(--sklearn-color-unfitted-level-1);\n",
              "}\n",
              "\n",
              ".sk-estimator-doc-link.fitted,\n",
              "a:link.sk-estimator-doc-link.fitted,\n",
              "a:visited.sk-estimator-doc-link.fitted {\n",
              "  /* fitted */\n",
              "  border: var(--sklearn-color-fitted-level-1) 1pt solid;\n",
              "  color: var(--sklearn-color-fitted-level-1);\n",
              "}\n",
              "\n",
              "/* On hover */\n",
              "div.sk-estimator:hover .sk-estimator-doc-link:hover,\n",
              ".sk-estimator-doc-link:hover,\n",
              "div.sk-label-container:hover .sk-estimator-doc-link:hover,\n",
              ".sk-estimator-doc-link:hover {\n",
              "  /* unfitted */\n",
              "  background-color: var(--sklearn-color-unfitted-level-3);\n",
              "  color: var(--sklearn-color-background);\n",
              "  text-decoration: none;\n",
              "}\n",
              "\n",
              "div.sk-estimator.fitted:hover .sk-estimator-doc-link.fitted:hover,\n",
              ".sk-estimator-doc-link.fitted:hover,\n",
              "div.sk-label-container:hover .sk-estimator-doc-link.fitted:hover,\n",
              ".sk-estimator-doc-link.fitted:hover {\n",
              "  /* fitted */\n",
              "  background-color: var(--sklearn-color-fitted-level-3);\n",
              "  color: var(--sklearn-color-background);\n",
              "  text-decoration: none;\n",
              "}\n",
              "\n",
              "/* Span, style for the box shown on hovering the info icon */\n",
              ".sk-estimator-doc-link span {\n",
              "  display: none;\n",
              "  z-index: 9999;\n",
              "  position: relative;\n",
              "  font-weight: normal;\n",
              "  right: .2ex;\n",
              "  padding: .5ex;\n",
              "  margin: .5ex;\n",
              "  width: min-content;\n",
              "  min-width: 20ex;\n",
              "  max-width: 50ex;\n",
              "  color: var(--sklearn-color-text);\n",
              "  box-shadow: 2pt 2pt 4pt #999;\n",
              "  /* unfitted */\n",
              "  background: var(--sklearn-color-unfitted-level-0);\n",
              "  border: .5pt solid var(--sklearn-color-unfitted-level-3);\n",
              "}\n",
              "\n",
              ".sk-estimator-doc-link.fitted span {\n",
              "  /* fitted */\n",
              "  background: var(--sklearn-color-fitted-level-0);\n",
              "  border: var(--sklearn-color-fitted-level-3);\n",
              "}\n",
              "\n",
              ".sk-estimator-doc-link:hover span {\n",
              "  display: block;\n",
              "}\n",
              "\n",
              "/* \"?\"-specific style due to the `<a>` HTML tag */\n",
              "\n",
              "#sk-container-id-1 a.estimator_doc_link {\n",
              "  float: right;\n",
              "  font-size: 1rem;\n",
              "  line-height: 1em;\n",
              "  font-family: monospace;\n",
              "  background-color: var(--sklearn-color-background);\n",
              "  border-radius: 1rem;\n",
              "  height: 1rem;\n",
              "  width: 1rem;\n",
              "  text-decoration: none;\n",
              "  /* unfitted */\n",
              "  color: var(--sklearn-color-unfitted-level-1);\n",
              "  border: var(--sklearn-color-unfitted-level-1) 1pt solid;\n",
              "}\n",
              "\n",
              "#sk-container-id-1 a.estimator_doc_link.fitted {\n",
              "  /* fitted */\n",
              "  border: var(--sklearn-color-fitted-level-1) 1pt solid;\n",
              "  color: var(--sklearn-color-fitted-level-1);\n",
              "}\n",
              "\n",
              "/* On hover */\n",
              "#sk-container-id-1 a.estimator_doc_link:hover {\n",
              "  /* unfitted */\n",
              "  background-color: var(--sklearn-color-unfitted-level-3);\n",
              "  color: var(--sklearn-color-background);\n",
              "  text-decoration: none;\n",
              "}\n",
              "\n",
              "#sk-container-id-1 a.estimator_doc_link.fitted:hover {\n",
              "  /* fitted */\n",
              "  background-color: var(--sklearn-color-fitted-level-3);\n",
              "}\n",
              "</style><div id=\"sk-container-id-1\" class=\"sk-top-container\"><div class=\"sk-text-repr-fallback\"><pre>SVR(C=10)</pre><b>In a Jupyter environment, please rerun this cell to show the HTML representation or trust the notebook. <br />On GitHub, the HTML representation is unable to render, please try loading this page with nbviewer.org.</b></div><div class=\"sk-container\" hidden><div class=\"sk-item\"><div class=\"sk-estimator fitted sk-toggleable\"><input class=\"sk-toggleable__control sk-hidden--visually\" id=\"sk-estimator-id-1\" type=\"checkbox\" checked><label for=\"sk-estimator-id-1\" class=\"sk-toggleable__label fitted sk-toggleable__label-arrow fitted\">&nbsp;&nbsp;SVR<a class=\"sk-estimator-doc-link fitted\" rel=\"noreferrer\" target=\"_blank\" href=\"https://scikit-learn.org/1.5/modules/generated/sklearn.svm.SVR.html\">?<span>Documentation for SVR</span></a><span class=\"sk-estimator-doc-link fitted\">i<span>Fitted</span></span></label><div class=\"sk-toggleable__content fitted\"><pre>SVR(C=10)</pre></div> </div></div></div></div>"
            ],
            "text/plain": [
              "SVR(C=10)"
            ]
          },
          "execution_count": 18,
          "metadata": {},
          "output_type": "execute_result"
        }
      ],
      "source": [
        "svr = SVR(kernel=\"rbf\", C=10, epsilon=0.1)\n",
        "svr.fit(X_train, y_train)  #"
      ]
    },
    {
      "cell_type": "code",
      "execution_count": 19,
      "metadata": {
        "colab": {
          "base_uri": "https://localhost:8080/"
        },
        "id": "jBxdxK8G6XVh",
        "outputId": "54ee28b3-fcb5-40c3-c3de-356749850c74"
      },
      "outputs": [
        {
          "name": "stdout",
          "output_type": "stream",
          "text": [
            "Shape of X_train: (16000, 34)\n",
            "Shape of y_train: (16000,)\n"
          ]
        }
      ],
      "source": [
        "print(\"Shape of X_train:\", X_train.shape)\n",
        "print(\"Shape of y_train:\", y_train.shape)\n"
      ]
    },
    {
      "cell_type": "code",
      "execution_count": 20,
      "metadata": {
        "id": "sPqELMn96AGT"
      },
      "outputs": [],
      "source": [
        "# Validate the model\n",
        "y_val_pred = svr.predict(X_val)\n",
        "mse_val = mean_squared_error(y_val, y_val_pred)\n"
      ]
    },
    {
      "cell_type": "code",
      "execution_count": 21,
      "metadata": {
        "id": "tqH3omm26Chd"
      },
      "outputs": [],
      "source": [
        "test_file_imputed = test_file.copy()\n",
        "test_file_imputed[numerical_columns] = imputer.transform(test_file[numerical_columns])\n",
        "\n",
        "for col in categorical_columns:\n",
        "    if col in label_encoders:\n",
        "        test_file_imputed[col] = label_encoders[col].transform(test_file[col].fillna(\"Unknown\"))\n"
      ]
    },
    {
      "cell_type": "code",
      "execution_count": 25,
      "metadata": {
        "id": "8BxC83qs7xl2"
      },
      "outputs": [],
      "source": [
        "# Assuming 'ApplicationDate' is the extra column in test_file_imputed\n",
        "test_file_imputed = test_file_imputed.drop(columns=['ApplicationDate'])\n",
        "\n",
        "test_file_scaled = scaler.transform(test_file_imputed)"
      ]
    },
    {
      "cell_type": "code",
      "execution_count": 26,
      "metadata": {
        "id": "Zf02JyGy6Eyd"
      },
      "outputs": [],
      "source": [
        "test_file_scaled = scaler.transform(test_file_imputed)\n"
      ]
    },
    {
      "cell_type": "code",
      "execution_count": 27,
      "metadata": {
        "id": "jD0yo-t26G8Q"
      },
      "outputs": [],
      "source": [
        "predictions_ScaledSVM = svr.predict(test_file_scaled)\n"
      ]
    },
    {
      "cell_type": "code",
      "execution_count": 28,
      "metadata": {
        "colab": {
          "base_uri": "https://localhost:8080/"
        },
        "id": "ghgjRN146Iob",
        "outputId": "77b104ad-57bd-49e3-adba-67298c0cf495"
      },
      "outputs": [
        {
          "name": "stdout",
          "output_type": "stream",
          "text": [
            "\n",
            "Submission file 'Submission_SVM_Optimized.csv' saved successfully.\n"
          ]
        }
      ],
      "source": [
        "submission_df = pd.DataFrame({\"ID\": range(len(predictions_ScaledSVM)),\n",
        "                              \"Class\": [round(x, 1) for x in predictions_ScaledSVM]})\n",
        "submission_df.to_csv(\"Submission_SVM_Optimized.csv\", index=False)\n",
        "\n",
        "print(\"\\nSubmission file 'Submission_SVM_Optimized.csv' saved successfully.\")\n"
      ]
    },
    {
      "cell_type": "code",
      "execution_count": null,
      "metadata": {
        "id": "a3xQwb6K4slE"
      },
      "outputs": [],
      "source": [
        "#  Check for NaN values in y_val\n",
        "# print(\"NaN values in y_val:\", y_val.isnull().sum())\n",
        "\n",
        "#  Check for NaN values in X_val\n",
        "# print(\"NaN values in X_val:\", np.isnan(X_val).sum())\n",
        "\n",
        "#  Ensure predictions do not contain NaN\n",
        "# y_val_pred = svr.predict(X_val)\n",
        "\n",
        "# #Check for NaN in predictions\n",
        "# print(\"NaN values in predictions:\", np.isnan(y_val_pred).sum())\n",
        "\n",
        "# #If there are NaN values, stop and investigate\n",
        "# if np.isnan(y_val_pred).sum() > 0:\n",
        "#     print(\"Error: Predictions contain NaN. Check preprocessing steps.\")\n",
        "\n",
        "# Calculate MSE only if no NaNs are found\n",
        "# if not np.isnan(y_val_pred).any():\n",
        "#     mse_val = mean_squared_error(y_val, y_val_pred)\n",
        "#     print(\"Validation MSE:\", mse_val)\n",
        "# else:\n",
        "#     print(\"Fix NaN issues in the data before proceeding.\")\n"
      ]
    },
    {
      "cell_type": "code",
      "execution_count": null,
      "metadata": {
        "id": "Yl086e2g199T"
      },
      "outputs": [],
      "source": [
        "# # Validate the model\n",
        "# y_val_pred = svr.predict(X_val)\n",
        "# mse_val = mean_squared_error(y_val, y_val_pred)\n",
        "\n",
        "# mse_val"
      ]
    },
    {
      "cell_type": "code",
      "execution_count": 24,
      "metadata": {
        "colab": {
          "base_uri": "https://localhost:8080/",
          "height": 238
        },
        "id": "tV5Gn7xM2ArR",
        "outputId": "22c5be4c-6ea5-4dbe-88ae-de52e691586e"
      },
      "outputs": [
        {
          "ename": "NameError",
          "evalue": "name 'robust' is not defined",
          "output_type": "error",
          "traceback": [
            "\u001b[0;31m---------------------------------------------------------------------------\u001b[0m",
            "\u001b[0;31mNameError\u001b[0m                                 Traceback (most recent call last)",
            "\u001b[0;32m<ipython-input-24-562545f03b83>\u001b[0m in \u001b[0;36m<cell line: 1>\u001b[0;34m()\u001b[0m\n\u001b[0;32m----> 1\u001b[0;31m \u001b[0mtestFile_transformed\u001b[0m \u001b[0;34m=\u001b[0m \u001b[0mrobust\u001b[0m\u001b[0;34m.\u001b[0m\u001b[0mtransform\u001b[0m\u001b[0;34m(\u001b[0m\u001b[0mtestFile\u001b[0m\u001b[0;34m)\u001b[0m  \u001b[0;31m# Ensure test data is scaled\u001b[0m\u001b[0;34m\u001b[0m\u001b[0;34m\u001b[0m\u001b[0m\n\u001b[0m\u001b[1;32m      2\u001b[0m \u001b[0mpredictions_ScaledSVM\u001b[0m \u001b[0;34m=\u001b[0m \u001b[0mbest_svr\u001b[0m\u001b[0;34m.\u001b[0m\u001b[0mpredict\u001b[0m\u001b[0;34m(\u001b[0m\u001b[0mtestFile_transformed\u001b[0m\u001b[0;34m)\u001b[0m\u001b[0;34m\u001b[0m\u001b[0;34m\u001b[0m\u001b[0m\n\u001b[1;32m      3\u001b[0m \u001b[0;34m\u001b[0m\u001b[0m\n\u001b[1;32m      4\u001b[0m \u001b[0;31m# Inverse scaling\u001b[0m\u001b[0;34m\u001b[0m\u001b[0;34m\u001b[0m\u001b[0m\n\u001b[1;32m      5\u001b[0m \u001b[0mpredictions_InversedSVM\u001b[0m \u001b[0;34m=\u001b[0m \u001b[0mrobust\u001b[0m\u001b[0;34m.\u001b[0m\u001b[0minverse_transform\u001b[0m\u001b[0;34m(\u001b[0m\u001b[0mpredictions_ScaledSVM\u001b[0m\u001b[0;34m.\u001b[0m\u001b[0mreshape\u001b[0m\u001b[0;34m(\u001b[0m\u001b[0;34m-\u001b[0m\u001b[0;36m1\u001b[0m\u001b[0;34m,\u001b[0m \u001b[0;36m1\u001b[0m\u001b[0;34m)\u001b[0m\u001b[0;34m)\u001b[0m\u001b[0;34m.\u001b[0m\u001b[0mreshape\u001b[0m\u001b[0;34m(\u001b[0m\u001b[0;34m-\u001b[0m\u001b[0;36m1\u001b[0m\u001b[0;34m)\u001b[0m\u001b[0;34m\u001b[0m\u001b[0;34m\u001b[0m\u001b[0m\n",
            "\u001b[0;31mNameError\u001b[0m: name 'robust' is not defined"
          ]
        }
      ],
      "source": [
        "# testFile_transformed = robust.transform(testFile)  # Ensure test data is scaled\n",
        "# predictions_ScaledSVM = best_svr.predict(testFile_transformed)\n",
        "\n",
        "# # Inverse scaling\n",
        "# predictions_InversedSVM = robust.inverse_transform(predictions_ScaledSVM.reshape(-1, 1)).reshape(-1)\n",
        "# predictions_InversedSVM = [round(x, 1) for x in predictions_InversedSVM]\n"
      ]
    },
    {
      "cell_type": "code",
      "execution_count": null,
      "metadata": {
        "id": "Nlk6uBtn2LZ9"
      },
      "outputs": [],
      "source": [
        "# submission_df = pd.DataFrame({\"ID\": range(len(predictions_InversedSVM)), \"Class\": predictions_InversedSVM})\n",
        "# submission_df.to_csv(\"Submission_SVM_Optimized.csv\", index=False)\n"
      ]
    }
  ],
  "metadata": {
    "colab": {
      "provenance": []
    },
    "kernelspec": {
      "display_name": "Python 3",
      "name": "python3"
    },
    "language_info": {
      "name": "python"
    }
  },
  "nbformat": 4,
  "nbformat_minor": 0
}

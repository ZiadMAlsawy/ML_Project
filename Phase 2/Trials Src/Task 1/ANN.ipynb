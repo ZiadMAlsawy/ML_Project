{
 "cells": [
  {
   "cell_type": "markdown",
   "id": "47074114",
   "metadata": {
    "papermill": {
     "duration": 0.009266,
     "end_time": "2024-12-14T15:39:52.909033",
     "exception": false,
     "start_time": "2024-12-14T15:39:52.899767",
     "status": "completed"
    },
    "tags": []
   },
   "source": [
    "# Imports"
   ]
  },
  {
   "cell_type": "code",
   "execution_count": 1,
   "id": "c21667d8",
   "metadata": {
    "execution": {
     "iopub.execute_input": "2024-12-14T15:39:52.928888Z",
     "iopub.status.busy": "2024-12-14T15:39:52.928491Z",
     "iopub.status.idle": "2024-12-14T15:40:08.159034Z",
     "shell.execute_reply": "2024-12-14T15:40:08.158217Z"
    },
    "papermill": {
     "duration": 15.242835,
     "end_time": "2024-12-14T15:40:08.161534",
     "exception": false,
     "start_time": "2024-12-14T15:39:52.918699",
     "status": "completed"
    },
    "tags": []
   },
   "outputs": [],
   "source": [
    "import numpy as np \n",
    "import pandas as pd \n",
    "import matplotlib.pyplot as plt\n",
    "from sklearn.neural_network import MLPRegressor\n",
    "import seaborn as sns\n",
    "import tabulate\n",
    "from keras.models import Sequential\n",
    "from keras.layers import Dense\n",
    "from sklearn.model_selection import train_test_split\n",
    "from sklearn.metrics import mean_squared_error\n",
    "import tensorflow as tf\n",
    "from tensorflow.keras.optimizers import Adam,SGD, RMSprop,AdamW\n",
    "from sklearn.preprocessing import RobustScaler,LabelEncoder\n",
    "import os\n",
    "from sklearn.svm import SVR"
   ]
  },
  {
   "cell_type": "markdown",
   "id": "7881ffab",
   "metadata": {
    "papermill": {
     "duration": 0.008131,
     "end_time": "2024-12-14T15:40:08.178714",
     "exception": false,
     "start_time": "2024-12-14T15:40:08.170583",
     "status": "completed"
    },
    "tags": []
   },
   "source": [
    "# Get Paths to datasets (Credits to Adham)"
   ]
  },
  {
   "cell_type": "code",
   "execution_count": 2,
   "id": "e8360eca",
   "metadata": {
    "execution": {
     "iopub.execute_input": "2024-12-14T15:40:08.197123Z",
     "iopub.status.busy": "2024-12-14T15:40:08.196486Z",
     "iopub.status.idle": "2024-12-14T15:40:08.222739Z",
     "shell.execute_reply": "2024-12-14T15:40:08.221614Z"
    },
    "papermill": {
     "duration": 0.037846,
     "end_time": "2024-12-14T15:40:08.224841",
     "exception": false,
     "start_time": "2024-12-14T15:40:08.186995",
     "status": "completed"
    },
    "tags": []
   },
   "outputs": [
    {
     "name": "stdout",
     "output_type": "stream",
     "text": [
      "/kaggle/input/regression-test-file/Regression_test_file.csv\n",
      "/kaggle/input/financial-risk-for-loan-approval/Loan.csv\n",
      "/kaggle/input/financial-risk-for-loan-approval/CSV Generation.py\n"
     ]
    }
   ],
   "source": [
    "plt.style.use(\"fivethirtyeight\")\n",
    "for dirname, _, filenames in os.walk('/kaggle/input'):\n",
    "    for filename in filenames:\n",
    "        print(os.path.join(dirname, filename))"
   ]
  },
  {
   "cell_type": "code",
   "execution_count": 3,
   "id": "78e25944",
   "metadata": {
    "execution": {
     "iopub.execute_input": "2024-12-14T15:40:08.243467Z",
     "iopub.status.busy": "2024-12-14T15:40:08.243066Z",
     "iopub.status.idle": "2024-12-14T15:40:08.445715Z",
     "shell.execute_reply": "2024-12-14T15:40:08.444517Z"
    },
    "papermill": {
     "duration": 0.214843,
     "end_time": "2024-12-14T15:40:08.448245",
     "exception": false,
     "start_time": "2024-12-14T15:40:08.233402",
     "status": "completed"
    },
    "tags": []
   },
   "outputs": [],
   "source": [
    "loan = pd.read_csv(\"/kaggle/input/financial-risk-for-loan-approval/Loan.csv\")\n",
    "testFile = pd.read_csv(\"/kaggle/input/regression-test-file/Regression_test_file.csv\")\n",
    "copy = loan.copy()"
   ]
  },
  {
   "cell_type": "markdown",
   "id": "7cfe334e",
   "metadata": {
    "papermill": {
     "duration": 0.010171,
     "end_time": "2024-12-14T15:40:08.470248",
     "exception": false,
     "start_time": "2024-12-14T15:40:08.460077",
     "status": "completed"
    },
    "tags": []
   },
   "source": [
    "# Handling Missing and duplicates"
   ]
  },
  {
   "cell_type": "code",
   "execution_count": 4,
   "id": "a724e036",
   "metadata": {
    "execution": {
     "iopub.execute_input": "2024-12-14T15:40:08.490526Z",
     "iopub.status.busy": "2024-12-14T15:40:08.490106Z",
     "iopub.status.idle": "2024-12-14T15:40:08.594202Z",
     "shell.execute_reply": "2024-12-14T15:40:08.593110Z"
    },
    "papermill": {
     "duration": 0.116703,
     "end_time": "2024-12-14T15:40:08.596363",
     "exception": false,
     "start_time": "2024-12-14T15:40:08.479660",
     "status": "completed"
    },
    "tags": []
   },
   "outputs": [
    {
     "data": {
      "text/html": [
       "<div>\n",
       "<style scoped>\n",
       "    .dataframe tbody tr th:only-of-type {\n",
       "        vertical-align: middle;\n",
       "    }\n",
       "\n",
       "    .dataframe tbody tr th {\n",
       "        vertical-align: top;\n",
       "    }\n",
       "\n",
       "    .dataframe thead th {\n",
       "        text-align: right;\n",
       "    }\n",
       "</style>\n",
       "<table border=\"1\" class=\"dataframe\">\n",
       "  <thead>\n",
       "    <tr style=\"text-align: right;\">\n",
       "      <th></th>\n",
       "      <th>Age</th>\n",
       "      <th>AnnualIncome</th>\n",
       "      <th>CreditScore</th>\n",
       "      <th>Experience</th>\n",
       "      <th>LoanAmount</th>\n",
       "      <th>LoanDuration</th>\n",
       "      <th>NumberOfDependents</th>\n",
       "      <th>MonthlyDebtPayments</th>\n",
       "      <th>CreditCardUtilizationRate</th>\n",
       "      <th>NumberOfOpenCreditLines</th>\n",
       "      <th>...</th>\n",
       "      <th>MonthlyIncome</th>\n",
       "      <th>UtilityBillsPaymentHistory</th>\n",
       "      <th>JobTenure</th>\n",
       "      <th>NetWorth</th>\n",
       "      <th>BaseInterestRate</th>\n",
       "      <th>InterestRate</th>\n",
       "      <th>MonthlyLoanPayment</th>\n",
       "      <th>TotalDebtToIncomeRatio</th>\n",
       "      <th>LoanApproved</th>\n",
       "      <th>RiskScore</th>\n",
       "    </tr>\n",
       "  </thead>\n",
       "  <tbody>\n",
       "    <tr>\n",
       "      <th>count</th>\n",
       "      <td>20000.000000</td>\n",
       "      <td>20000.000000</td>\n",
       "      <td>20000.000000</td>\n",
       "      <td>20000.000000</td>\n",
       "      <td>20000.000000</td>\n",
       "      <td>20000.000000</td>\n",
       "      <td>20000.000000</td>\n",
       "      <td>20000.000000</td>\n",
       "      <td>20000.000000</td>\n",
       "      <td>20000.000000</td>\n",
       "      <td>...</td>\n",
       "      <td>20000.000000</td>\n",
       "      <td>20000.000000</td>\n",
       "      <td>20000.000000</td>\n",
       "      <td>2.000000e+04</td>\n",
       "      <td>20000.000000</td>\n",
       "      <td>20000.000000</td>\n",
       "      <td>20000.000000</td>\n",
       "      <td>20000.000000</td>\n",
       "      <td>20000.000000</td>\n",
       "      <td>20000.000000</td>\n",
       "    </tr>\n",
       "    <tr>\n",
       "      <th>mean</th>\n",
       "      <td>39.752600</td>\n",
       "      <td>59161.473550</td>\n",
       "      <td>571.612400</td>\n",
       "      <td>17.522750</td>\n",
       "      <td>24882.867800</td>\n",
       "      <td>54.057000</td>\n",
       "      <td>1.517300</td>\n",
       "      <td>454.292700</td>\n",
       "      <td>0.286381</td>\n",
       "      <td>3.023350</td>\n",
       "      <td>...</td>\n",
       "      <td>4891.715521</td>\n",
       "      <td>0.799918</td>\n",
       "      <td>5.002650</td>\n",
       "      <td>7.229432e+04</td>\n",
       "      <td>0.239124</td>\n",
       "      <td>0.239110</td>\n",
       "      <td>911.607052</td>\n",
       "      <td>0.402182</td>\n",
       "      <td>0.239000</td>\n",
       "      <td>50.766780</td>\n",
       "    </tr>\n",
       "    <tr>\n",
       "      <th>std</th>\n",
       "      <td>11.622713</td>\n",
       "      <td>40350.845168</td>\n",
       "      <td>50.997358</td>\n",
       "      <td>11.316836</td>\n",
       "      <td>13427.421217</td>\n",
       "      <td>24.664857</td>\n",
       "      <td>1.386325</td>\n",
       "      <td>240.507609</td>\n",
       "      <td>0.159793</td>\n",
       "      <td>1.736161</td>\n",
       "      <td>...</td>\n",
       "      <td>3296.771598</td>\n",
       "      <td>0.120665</td>\n",
       "      <td>2.236804</td>\n",
       "      <td>1.179200e+05</td>\n",
       "      <td>0.035509</td>\n",
       "      <td>0.042205</td>\n",
       "      <td>674.583473</td>\n",
       "      <td>0.338924</td>\n",
       "      <td>0.426483</td>\n",
       "      <td>7.778262</td>\n",
       "    </tr>\n",
       "    <tr>\n",
       "      <th>min</th>\n",
       "      <td>18.000000</td>\n",
       "      <td>15000.000000</td>\n",
       "      <td>343.000000</td>\n",
       "      <td>0.000000</td>\n",
       "      <td>3674.000000</td>\n",
       "      <td>12.000000</td>\n",
       "      <td>0.000000</td>\n",
       "      <td>50.000000</td>\n",
       "      <td>0.000974</td>\n",
       "      <td>0.000000</td>\n",
       "      <td>...</td>\n",
       "      <td>1250.000000</td>\n",
       "      <td>0.259203</td>\n",
       "      <td>0.000000</td>\n",
       "      <td>1.000000e+03</td>\n",
       "      <td>0.130101</td>\n",
       "      <td>0.113310</td>\n",
       "      <td>97.030193</td>\n",
       "      <td>0.016043</td>\n",
       "      <td>0.000000</td>\n",
       "      <td>28.800000</td>\n",
       "    </tr>\n",
       "    <tr>\n",
       "      <th>25%</th>\n",
       "      <td>32.000000</td>\n",
       "      <td>31679.000000</td>\n",
       "      <td>540.000000</td>\n",
       "      <td>9.000000</td>\n",
       "      <td>15575.000000</td>\n",
       "      <td>36.000000</td>\n",
       "      <td>0.000000</td>\n",
       "      <td>286.000000</td>\n",
       "      <td>0.160794</td>\n",
       "      <td>2.000000</td>\n",
       "      <td>...</td>\n",
       "      <td>2629.583333</td>\n",
       "      <td>0.727379</td>\n",
       "      <td>3.000000</td>\n",
       "      <td>8.734750e+03</td>\n",
       "      <td>0.213889</td>\n",
       "      <td>0.209142</td>\n",
       "      <td>493.763700</td>\n",
       "      <td>0.179693</td>\n",
       "      <td>0.000000</td>\n",
       "      <td>46.000000</td>\n",
       "    </tr>\n",
       "    <tr>\n",
       "      <th>50%</th>\n",
       "      <td>40.000000</td>\n",
       "      <td>48566.000000</td>\n",
       "      <td>578.000000</td>\n",
       "      <td>17.000000</td>\n",
       "      <td>21914.500000</td>\n",
       "      <td>48.000000</td>\n",
       "      <td>1.000000</td>\n",
       "      <td>402.000000</td>\n",
       "      <td>0.266673</td>\n",
       "      <td>3.000000</td>\n",
       "      <td>...</td>\n",
       "      <td>4034.750000</td>\n",
       "      <td>0.820962</td>\n",
       "      <td>5.000000</td>\n",
       "      <td>3.285550e+04</td>\n",
       "      <td>0.236157</td>\n",
       "      <td>0.235390</td>\n",
       "      <td>728.511452</td>\n",
       "      <td>0.302711</td>\n",
       "      <td>0.000000</td>\n",
       "      <td>52.000000</td>\n",
       "    </tr>\n",
       "    <tr>\n",
       "      <th>75%</th>\n",
       "      <td>48.000000</td>\n",
       "      <td>74391.000000</td>\n",
       "      <td>609.000000</td>\n",
       "      <td>25.000000</td>\n",
       "      <td>30835.000000</td>\n",
       "      <td>72.000000</td>\n",
       "      <td>2.000000</td>\n",
       "      <td>564.000000</td>\n",
       "      <td>0.390634</td>\n",
       "      <td>4.000000</td>\n",
       "      <td>...</td>\n",
       "      <td>6163.000000</td>\n",
       "      <td>0.892333</td>\n",
       "      <td>6.000000</td>\n",
       "      <td>8.882550e+04</td>\n",
       "      <td>0.261533</td>\n",
       "      <td>0.265532</td>\n",
       "      <td>1112.770759</td>\n",
       "      <td>0.509214</td>\n",
       "      <td>0.000000</td>\n",
       "      <td>56.000000</td>\n",
       "    </tr>\n",
       "    <tr>\n",
       "      <th>max</th>\n",
       "      <td>80.000000</td>\n",
       "      <td>485341.000000</td>\n",
       "      <td>712.000000</td>\n",
       "      <td>61.000000</td>\n",
       "      <td>184732.000000</td>\n",
       "      <td>120.000000</td>\n",
       "      <td>5.000000</td>\n",
       "      <td>2919.000000</td>\n",
       "      <td>0.917380</td>\n",
       "      <td>13.000000</td>\n",
       "      <td>...</td>\n",
       "      <td>25000.000000</td>\n",
       "      <td>0.999433</td>\n",
       "      <td>16.000000</td>\n",
       "      <td>2.603208e+06</td>\n",
       "      <td>0.405029</td>\n",
       "      <td>0.446787</td>\n",
       "      <td>10892.629520</td>\n",
       "      <td>4.647657</td>\n",
       "      <td>1.000000</td>\n",
       "      <td>84.000000</td>\n",
       "    </tr>\n",
       "  </tbody>\n",
       "</table>\n",
       "<p>8 rows × 30 columns</p>\n",
       "</div>"
      ],
      "text/plain": [
       "                Age   AnnualIncome   CreditScore    Experience     LoanAmount  \\\n",
       "count  20000.000000   20000.000000  20000.000000  20000.000000   20000.000000   \n",
       "mean      39.752600   59161.473550    571.612400     17.522750   24882.867800   \n",
       "std       11.622713   40350.845168     50.997358     11.316836   13427.421217   \n",
       "min       18.000000   15000.000000    343.000000      0.000000    3674.000000   \n",
       "25%       32.000000   31679.000000    540.000000      9.000000   15575.000000   \n",
       "50%       40.000000   48566.000000    578.000000     17.000000   21914.500000   \n",
       "75%       48.000000   74391.000000    609.000000     25.000000   30835.000000   \n",
       "max       80.000000  485341.000000    712.000000     61.000000  184732.000000   \n",
       "\n",
       "       LoanDuration  NumberOfDependents  MonthlyDebtPayments  \\\n",
       "count  20000.000000        20000.000000         20000.000000   \n",
       "mean      54.057000            1.517300           454.292700   \n",
       "std       24.664857            1.386325           240.507609   \n",
       "min       12.000000            0.000000            50.000000   \n",
       "25%       36.000000            0.000000           286.000000   \n",
       "50%       48.000000            1.000000           402.000000   \n",
       "75%       72.000000            2.000000           564.000000   \n",
       "max      120.000000            5.000000          2919.000000   \n",
       "\n",
       "       CreditCardUtilizationRate  NumberOfOpenCreditLines  ...  MonthlyIncome  \\\n",
       "count               20000.000000             20000.000000  ...   20000.000000   \n",
       "mean                    0.286381                 3.023350  ...    4891.715521   \n",
       "std                     0.159793                 1.736161  ...    3296.771598   \n",
       "min                     0.000974                 0.000000  ...    1250.000000   \n",
       "25%                     0.160794                 2.000000  ...    2629.583333   \n",
       "50%                     0.266673                 3.000000  ...    4034.750000   \n",
       "75%                     0.390634                 4.000000  ...    6163.000000   \n",
       "max                     0.917380                13.000000  ...   25000.000000   \n",
       "\n",
       "       UtilityBillsPaymentHistory     JobTenure      NetWorth  \\\n",
       "count                20000.000000  20000.000000  2.000000e+04   \n",
       "mean                     0.799918      5.002650  7.229432e+04   \n",
       "std                      0.120665      2.236804  1.179200e+05   \n",
       "min                      0.259203      0.000000  1.000000e+03   \n",
       "25%                      0.727379      3.000000  8.734750e+03   \n",
       "50%                      0.820962      5.000000  3.285550e+04   \n",
       "75%                      0.892333      6.000000  8.882550e+04   \n",
       "max                      0.999433     16.000000  2.603208e+06   \n",
       "\n",
       "       BaseInterestRate  InterestRate  MonthlyLoanPayment  \\\n",
       "count      20000.000000  20000.000000        20000.000000   \n",
       "mean           0.239124      0.239110          911.607052   \n",
       "std            0.035509      0.042205          674.583473   \n",
       "min            0.130101      0.113310           97.030193   \n",
       "25%            0.213889      0.209142          493.763700   \n",
       "50%            0.236157      0.235390          728.511452   \n",
       "75%            0.261533      0.265532         1112.770759   \n",
       "max            0.405029      0.446787        10892.629520   \n",
       "\n",
       "       TotalDebtToIncomeRatio  LoanApproved     RiskScore  \n",
       "count            20000.000000  20000.000000  20000.000000  \n",
       "mean                 0.402182      0.239000     50.766780  \n",
       "std                  0.338924      0.426483      7.778262  \n",
       "min                  0.016043      0.000000     28.800000  \n",
       "25%                  0.179693      0.000000     46.000000  \n",
       "50%                  0.302711      0.000000     52.000000  \n",
       "75%                  0.509214      0.000000     56.000000  \n",
       "max                  4.647657      1.000000     84.000000  \n",
       "\n",
       "[8 rows x 30 columns]"
      ]
     },
     "execution_count": 4,
     "metadata": {},
     "output_type": "execute_result"
    }
   ],
   "source": [
    "copy.describe()"
   ]
  },
  {
   "cell_type": "code",
   "execution_count": 5,
   "id": "f4efecc1",
   "metadata": {
    "execution": {
     "iopub.execute_input": "2024-12-14T15:40:08.616050Z",
     "iopub.status.busy": "2024-12-14T15:40:08.615701Z",
     "iopub.status.idle": "2024-12-14T15:40:08.645210Z",
     "shell.execute_reply": "2024-12-14T15:40:08.644244Z"
    },
    "papermill": {
     "duration": 0.0422,
     "end_time": "2024-12-14T15:40:08.647633",
     "exception": false,
     "start_time": "2024-12-14T15:40:08.605433",
     "status": "completed"
    },
    "tags": []
   },
   "outputs": [
    {
     "name": "stdout",
     "output_type": "stream",
     "text": [
      "<class 'pandas.core.frame.DataFrame'>\n",
      "RangeIndex: 20000 entries, 0 to 19999\n",
      "Data columns (total 36 columns):\n",
      " #   Column                      Non-Null Count  Dtype  \n",
      "---  ------                      --------------  -----  \n",
      " 0   ApplicationDate             20000 non-null  object \n",
      " 1   Age                         20000 non-null  int64  \n",
      " 2   AnnualIncome                20000 non-null  int64  \n",
      " 3   CreditScore                 20000 non-null  int64  \n",
      " 4   EmploymentStatus            20000 non-null  object \n",
      " 5   EducationLevel              20000 non-null  object \n",
      " 6   Experience                  20000 non-null  int64  \n",
      " 7   LoanAmount                  20000 non-null  int64  \n",
      " 8   LoanDuration                20000 non-null  int64  \n",
      " 9   MaritalStatus               20000 non-null  object \n",
      " 10  NumberOfDependents          20000 non-null  int64  \n",
      " 11  HomeOwnershipStatus         20000 non-null  object \n",
      " 12  MonthlyDebtPayments         20000 non-null  int64  \n",
      " 13  CreditCardUtilizationRate   20000 non-null  float64\n",
      " 14  NumberOfOpenCreditLines     20000 non-null  int64  \n",
      " 15  NumberOfCreditInquiries     20000 non-null  int64  \n",
      " 16  DebtToIncomeRatio           20000 non-null  float64\n",
      " 17  BankruptcyHistory           20000 non-null  int64  \n",
      " 18  LoanPurpose                 20000 non-null  object \n",
      " 19  PreviousLoanDefaults        20000 non-null  int64  \n",
      " 20  PaymentHistory              20000 non-null  int64  \n",
      " 21  LengthOfCreditHistory       20000 non-null  int64  \n",
      " 22  SavingsAccountBalance       20000 non-null  int64  \n",
      " 23  CheckingAccountBalance      20000 non-null  int64  \n",
      " 24  TotalAssets                 20000 non-null  int64  \n",
      " 25  TotalLiabilities            20000 non-null  int64  \n",
      " 26  MonthlyIncome               20000 non-null  float64\n",
      " 27  UtilityBillsPaymentHistory  20000 non-null  float64\n",
      " 28  JobTenure                   20000 non-null  int64  \n",
      " 29  NetWorth                    20000 non-null  int64  \n",
      " 30  BaseInterestRate            20000 non-null  float64\n",
      " 31  InterestRate                20000 non-null  float64\n",
      " 32  MonthlyLoanPayment          20000 non-null  float64\n",
      " 33  TotalDebtToIncomeRatio      20000 non-null  float64\n",
      " 34  LoanApproved                20000 non-null  int64  \n",
      " 35  RiskScore                   20000 non-null  float64\n",
      "dtypes: float64(9), int64(21), object(6)\n",
      "memory usage: 5.5+ MB\n"
     ]
    }
   ],
   "source": [
    "copy.info()"
   ]
  },
  {
   "cell_type": "code",
   "execution_count": 6,
   "id": "6070a8d5",
   "metadata": {
    "execution": {
     "iopub.execute_input": "2024-12-14T15:40:08.667739Z",
     "iopub.status.busy": "2024-12-14T15:40:08.667358Z",
     "iopub.status.idle": "2024-12-14T15:40:08.681858Z",
     "shell.execute_reply": "2024-12-14T15:40:08.680895Z"
    },
    "papermill": {
     "duration": 0.026997,
     "end_time": "2024-12-14T15:40:08.683877",
     "exception": false,
     "start_time": "2024-12-14T15:40:08.656880",
     "status": "completed"
    },
    "tags": []
   },
   "outputs": [
    {
     "data": {
      "text/plain": [
       "ApplicationDate               0\n",
       "Age                           0\n",
       "AnnualIncome                  0\n",
       "CreditScore                   0\n",
       "EmploymentStatus              0\n",
       "EducationLevel                0\n",
       "Experience                    0\n",
       "LoanAmount                    0\n",
       "LoanDuration                  0\n",
       "MaritalStatus                 0\n",
       "NumberOfDependents            0\n",
       "HomeOwnershipStatus           0\n",
       "MonthlyDebtPayments           0\n",
       "CreditCardUtilizationRate     0\n",
       "NumberOfOpenCreditLines       0\n",
       "NumberOfCreditInquiries       0\n",
       "DebtToIncomeRatio             0\n",
       "BankruptcyHistory             0\n",
       "LoanPurpose                   0\n",
       "PreviousLoanDefaults          0\n",
       "PaymentHistory                0\n",
       "LengthOfCreditHistory         0\n",
       "SavingsAccountBalance         0\n",
       "CheckingAccountBalance        0\n",
       "TotalAssets                   0\n",
       "TotalLiabilities              0\n",
       "MonthlyIncome                 0\n",
       "UtilityBillsPaymentHistory    0\n",
       "JobTenure                     0\n",
       "NetWorth                      0\n",
       "BaseInterestRate              0\n",
       "InterestRate                  0\n",
       "MonthlyLoanPayment            0\n",
       "TotalDebtToIncomeRatio        0\n",
       "LoanApproved                  0\n",
       "RiskScore                     0\n",
       "dtype: int64"
      ]
     },
     "execution_count": 6,
     "metadata": {},
     "output_type": "execute_result"
    }
   ],
   "source": [
    "copy.isna().sum()"
   ]
  },
  {
   "cell_type": "code",
   "execution_count": 7,
   "id": "ec942e9e",
   "metadata": {
    "execution": {
     "iopub.execute_input": "2024-12-14T15:40:08.703710Z",
     "iopub.status.busy": "2024-12-14T15:40:08.702980Z",
     "iopub.status.idle": "2024-12-14T15:40:08.736288Z",
     "shell.execute_reply": "2024-12-14T15:40:08.735308Z"
    },
    "papermill": {
     "duration": 0.04549,
     "end_time": "2024-12-14T15:40:08.738463",
     "exception": false,
     "start_time": "2024-12-14T15:40:08.692973",
     "status": "completed"
    },
    "tags": []
   },
   "outputs": [
    {
     "data": {
      "text/plain": [
       "0"
      ]
     },
     "execution_count": 7,
     "metadata": {},
     "output_type": "execute_result"
    }
   ],
   "source": [
    "copy.duplicated().sum()"
   ]
  },
  {
   "cell_type": "markdown",
   "id": "f3f72ee7",
   "metadata": {
    "papermill": {
     "duration": 0.009007,
     "end_time": "2024-12-14T15:40:08.756869",
     "exception": false,
     "start_time": "2024-12-14T15:40:08.747862",
     "status": "completed"
    },
    "tags": []
   },
   "source": [
    "**Dropping**"
   ]
  },
  {
   "cell_type": "code",
   "execution_count": 8,
   "id": "15cf7936",
   "metadata": {
    "execution": {
     "iopub.execute_input": "2024-12-14T15:40:08.778065Z",
     "iopub.status.busy": "2024-12-14T15:40:08.777683Z",
     "iopub.status.idle": "2024-12-14T15:40:08.846840Z",
     "shell.execute_reply": "2024-12-14T15:40:08.845840Z"
    },
    "papermill": {
     "duration": 0.082031,
     "end_time": "2024-12-14T15:40:08.849091",
     "exception": false,
     "start_time": "2024-12-14T15:40:08.767060",
     "status": "completed"
    },
    "tags": []
   },
   "outputs": [
    {
     "data": {
      "text/html": [
       "<div>\n",
       "<style scoped>\n",
       "    .dataframe tbody tr th:only-of-type {\n",
       "        vertical-align: middle;\n",
       "    }\n",
       "\n",
       "    .dataframe tbody tr th {\n",
       "        vertical-align: top;\n",
       "    }\n",
       "\n",
       "    .dataframe thead th {\n",
       "        text-align: right;\n",
       "    }\n",
       "</style>\n",
       "<table border=\"1\" class=\"dataframe\">\n",
       "  <thead>\n",
       "    <tr style=\"text-align: right;\">\n",
       "      <th></th>\n",
       "      <th>Age</th>\n",
       "      <th>AnnualIncome</th>\n",
       "      <th>CreditScore</th>\n",
       "      <th>EmploymentStatus</th>\n",
       "      <th>EducationLevel</th>\n",
       "      <th>Experience</th>\n",
       "      <th>LoanAmount</th>\n",
       "      <th>LoanDuration</th>\n",
       "      <th>MaritalStatus</th>\n",
       "      <th>NumberOfDependents</th>\n",
       "      <th>...</th>\n",
       "      <th>MonthlyIncome</th>\n",
       "      <th>UtilityBillsPaymentHistory</th>\n",
       "      <th>JobTenure</th>\n",
       "      <th>NetWorth</th>\n",
       "      <th>BaseInterestRate</th>\n",
       "      <th>InterestRate</th>\n",
       "      <th>MonthlyLoanPayment</th>\n",
       "      <th>TotalDebtToIncomeRatio</th>\n",
       "      <th>LoanApproved</th>\n",
       "      <th>RiskScore</th>\n",
       "    </tr>\n",
       "  </thead>\n",
       "  <tbody>\n",
       "    <tr>\n",
       "      <th>0</th>\n",
       "      <td>45</td>\n",
       "      <td>39948</td>\n",
       "      <td>617</td>\n",
       "      <td>Employed</td>\n",
       "      <td>Master</td>\n",
       "      <td>22</td>\n",
       "      <td>13152</td>\n",
       "      <td>48</td>\n",
       "      <td>Married</td>\n",
       "      <td>2</td>\n",
       "      <td>...</td>\n",
       "      <td>3329.000000</td>\n",
       "      <td>0.724972</td>\n",
       "      <td>11</td>\n",
       "      <td>126928</td>\n",
       "      <td>0.199652</td>\n",
       "      <td>0.227590</td>\n",
       "      <td>419.805992</td>\n",
       "      <td>0.181077</td>\n",
       "      <td>0</td>\n",
       "      <td>49.0</td>\n",
       "    </tr>\n",
       "    <tr>\n",
       "      <th>1</th>\n",
       "      <td>38</td>\n",
       "      <td>39709</td>\n",
       "      <td>628</td>\n",
       "      <td>Employed</td>\n",
       "      <td>Associate</td>\n",
       "      <td>15</td>\n",
       "      <td>26045</td>\n",
       "      <td>48</td>\n",
       "      <td>Single</td>\n",
       "      <td>1</td>\n",
       "      <td>...</td>\n",
       "      <td>3309.083333</td>\n",
       "      <td>0.935132</td>\n",
       "      <td>3</td>\n",
       "      <td>43609</td>\n",
       "      <td>0.207045</td>\n",
       "      <td>0.201077</td>\n",
       "      <td>794.054238</td>\n",
       "      <td>0.389852</td>\n",
       "      <td>0</td>\n",
       "      <td>52.0</td>\n",
       "    </tr>\n",
       "    <tr>\n",
       "      <th>2</th>\n",
       "      <td>47</td>\n",
       "      <td>40724</td>\n",
       "      <td>570</td>\n",
       "      <td>Employed</td>\n",
       "      <td>Bachelor</td>\n",
       "      <td>26</td>\n",
       "      <td>17627</td>\n",
       "      <td>36</td>\n",
       "      <td>Married</td>\n",
       "      <td>2</td>\n",
       "      <td>...</td>\n",
       "      <td>3393.666667</td>\n",
       "      <td>0.872241</td>\n",
       "      <td>6</td>\n",
       "      <td>5205</td>\n",
       "      <td>0.217627</td>\n",
       "      <td>0.212548</td>\n",
       "      <td>666.406688</td>\n",
       "      <td>0.462157</td>\n",
       "      <td>0</td>\n",
       "      <td>52.0</td>\n",
       "    </tr>\n",
       "    <tr>\n",
       "      <th>3</th>\n",
       "      <td>58</td>\n",
       "      <td>69084</td>\n",
       "      <td>545</td>\n",
       "      <td>Employed</td>\n",
       "      <td>High School</td>\n",
       "      <td>34</td>\n",
       "      <td>37898</td>\n",
       "      <td>96</td>\n",
       "      <td>Single</td>\n",
       "      <td>1</td>\n",
       "      <td>...</td>\n",
       "      <td>5757.000000</td>\n",
       "      <td>0.896155</td>\n",
       "      <td>5</td>\n",
       "      <td>99452</td>\n",
       "      <td>0.300398</td>\n",
       "      <td>0.300911</td>\n",
       "      <td>1047.506980</td>\n",
       "      <td>0.313098</td>\n",
       "      <td>0</td>\n",
       "      <td>54.0</td>\n",
       "    </tr>\n",
       "    <tr>\n",
       "      <th>4</th>\n",
       "      <td>37</td>\n",
       "      <td>103264</td>\n",
       "      <td>594</td>\n",
       "      <td>Employed</td>\n",
       "      <td>Associate</td>\n",
       "      <td>17</td>\n",
       "      <td>9184</td>\n",
       "      <td>36</td>\n",
       "      <td>Married</td>\n",
       "      <td>1</td>\n",
       "      <td>...</td>\n",
       "      <td>8605.333333</td>\n",
       "      <td>0.941369</td>\n",
       "      <td>5</td>\n",
       "      <td>227019</td>\n",
       "      <td>0.197184</td>\n",
       "      <td>0.175990</td>\n",
       "      <td>330.179140</td>\n",
       "      <td>0.070210</td>\n",
       "      <td>1</td>\n",
       "      <td>36.0</td>\n",
       "    </tr>\n",
       "    <tr>\n",
       "      <th>...</th>\n",
       "      <td>...</td>\n",
       "      <td>...</td>\n",
       "      <td>...</td>\n",
       "      <td>...</td>\n",
       "      <td>...</td>\n",
       "      <td>...</td>\n",
       "      <td>...</td>\n",
       "      <td>...</td>\n",
       "      <td>...</td>\n",
       "      <td>...</td>\n",
       "      <td>...</td>\n",
       "      <td>...</td>\n",
       "      <td>...</td>\n",
       "      <td>...</td>\n",
       "      <td>...</td>\n",
       "      <td>...</td>\n",
       "      <td>...</td>\n",
       "      <td>...</td>\n",
       "      <td>...</td>\n",
       "      <td>...</td>\n",
       "      <td>...</td>\n",
       "    </tr>\n",
       "    <tr>\n",
       "      <th>19995</th>\n",
       "      <td>44</td>\n",
       "      <td>30180</td>\n",
       "      <td>587</td>\n",
       "      <td>Employed</td>\n",
       "      <td>High School</td>\n",
       "      <td>19</td>\n",
       "      <td>24521</td>\n",
       "      <td>36</td>\n",
       "      <td>Married</td>\n",
       "      <td>3</td>\n",
       "      <td>...</td>\n",
       "      <td>2515.000000</td>\n",
       "      <td>0.826217</td>\n",
       "      <td>1</td>\n",
       "      <td>55327</td>\n",
       "      <td>0.216021</td>\n",
       "      <td>0.195574</td>\n",
       "      <td>905.767712</td>\n",
       "      <td>0.627741</td>\n",
       "      <td>0</td>\n",
       "      <td>55.0</td>\n",
       "    </tr>\n",
       "    <tr>\n",
       "      <th>19996</th>\n",
       "      <td>56</td>\n",
       "      <td>49246</td>\n",
       "      <td>567</td>\n",
       "      <td>Employed</td>\n",
       "      <td>Associate</td>\n",
       "      <td>33</td>\n",
       "      <td>25818</td>\n",
       "      <td>36</td>\n",
       "      <td>Married</td>\n",
       "      <td>5</td>\n",
       "      <td>...</td>\n",
       "      <td>4103.833333</td>\n",
       "      <td>0.816618</td>\n",
       "      <td>3</td>\n",
       "      <td>64002</td>\n",
       "      <td>0.227318</td>\n",
       "      <td>0.199168</td>\n",
       "      <td>958.395633</td>\n",
       "      <td>0.334418</td>\n",
       "      <td>0</td>\n",
       "      <td>54.0</td>\n",
       "    </tr>\n",
       "    <tr>\n",
       "      <th>19997</th>\n",
       "      <td>44</td>\n",
       "      <td>48958</td>\n",
       "      <td>645</td>\n",
       "      <td>Employed</td>\n",
       "      <td>Bachelor</td>\n",
       "      <td>20</td>\n",
       "      <td>37033</td>\n",
       "      <td>72</td>\n",
       "      <td>Married</td>\n",
       "      <td>3</td>\n",
       "      <td>...</td>\n",
       "      <td>4079.833333</td>\n",
       "      <td>0.887216</td>\n",
       "      <td>3</td>\n",
       "      <td>103663</td>\n",
       "      <td>0.229533</td>\n",
       "      <td>0.226766</td>\n",
       "      <td>945.427454</td>\n",
       "      <td>0.357227</td>\n",
       "      <td>0</td>\n",
       "      <td>45.0</td>\n",
       "    </tr>\n",
       "    <tr>\n",
       "      <th>19998</th>\n",
       "      <td>60</td>\n",
       "      <td>41025</td>\n",
       "      <td>560</td>\n",
       "      <td>Employed</td>\n",
       "      <td>High School</td>\n",
       "      <td>36</td>\n",
       "      <td>14760</td>\n",
       "      <td>72</td>\n",
       "      <td>Married</td>\n",
       "      <td>3</td>\n",
       "      <td>...</td>\n",
       "      <td>3418.750000</td>\n",
       "      <td>0.843787</td>\n",
       "      <td>5</td>\n",
       "      <td>10600</td>\n",
       "      <td>0.249760</td>\n",
       "      <td>0.264873</td>\n",
       "      <td>411.168284</td>\n",
       "      <td>0.408678</td>\n",
       "      <td>0</td>\n",
       "      <td>59.0</td>\n",
       "    </tr>\n",
       "    <tr>\n",
       "      <th>19999</th>\n",
       "      <td>20</td>\n",
       "      <td>53227</td>\n",
       "      <td>574</td>\n",
       "      <td>Employed</td>\n",
       "      <td>Associate</td>\n",
       "      <td>0</td>\n",
       "      <td>32055</td>\n",
       "      <td>48</td>\n",
       "      <td>Married</td>\n",
       "      <td>0</td>\n",
       "      <td>...</td>\n",
       "      <td>4435.583333</td>\n",
       "      <td>0.853801</td>\n",
       "      <td>5</td>\n",
       "      <td>41372</td>\n",
       "      <td>0.240055</td>\n",
       "      <td>0.242693</td>\n",
       "      <td>1049.830407</td>\n",
       "      <td>0.298006</td>\n",
       "      <td>0</td>\n",
       "      <td>59.0</td>\n",
       "    </tr>\n",
       "  </tbody>\n",
       "</table>\n",
       "<p>20000 rows × 35 columns</p>\n",
       "</div>"
      ],
      "text/plain": [
       "       Age  AnnualIncome  CreditScore EmploymentStatus EducationLevel  \\\n",
       "0       45         39948          617         Employed         Master   \n",
       "1       38         39709          628         Employed      Associate   \n",
       "2       47         40724          570         Employed       Bachelor   \n",
       "3       58         69084          545         Employed    High School   \n",
       "4       37        103264          594         Employed      Associate   \n",
       "...    ...           ...          ...              ...            ...   \n",
       "19995   44         30180          587         Employed    High School   \n",
       "19996   56         49246          567         Employed      Associate   \n",
       "19997   44         48958          645         Employed       Bachelor   \n",
       "19998   60         41025          560         Employed    High School   \n",
       "19999   20         53227          574         Employed      Associate   \n",
       "\n",
       "       Experience  LoanAmount  LoanDuration MaritalStatus  NumberOfDependents  \\\n",
       "0              22       13152            48       Married                   2   \n",
       "1              15       26045            48        Single                   1   \n",
       "2              26       17627            36       Married                   2   \n",
       "3              34       37898            96        Single                   1   \n",
       "4              17        9184            36       Married                   1   \n",
       "...           ...         ...           ...           ...                 ...   \n",
       "19995          19       24521            36       Married                   3   \n",
       "19996          33       25818            36       Married                   5   \n",
       "19997          20       37033            72       Married                   3   \n",
       "19998          36       14760            72       Married                   3   \n",
       "19999           0       32055            48       Married                   0   \n",
       "\n",
       "       ... MonthlyIncome  UtilityBillsPaymentHistory  JobTenure  NetWorth  \\\n",
       "0      ...   3329.000000                    0.724972         11    126928   \n",
       "1      ...   3309.083333                    0.935132          3     43609   \n",
       "2      ...   3393.666667                    0.872241          6      5205   \n",
       "3      ...   5757.000000                    0.896155          5     99452   \n",
       "4      ...   8605.333333                    0.941369          5    227019   \n",
       "...    ...           ...                         ...        ...       ...   \n",
       "19995  ...   2515.000000                    0.826217          1     55327   \n",
       "19996  ...   4103.833333                    0.816618          3     64002   \n",
       "19997  ...   4079.833333                    0.887216          3    103663   \n",
       "19998  ...   3418.750000                    0.843787          5     10600   \n",
       "19999  ...   4435.583333                    0.853801          5     41372   \n",
       "\n",
       "       BaseInterestRate  InterestRate  MonthlyLoanPayment  \\\n",
       "0              0.199652      0.227590          419.805992   \n",
       "1              0.207045      0.201077          794.054238   \n",
       "2              0.217627      0.212548          666.406688   \n",
       "3              0.300398      0.300911         1047.506980   \n",
       "4              0.197184      0.175990          330.179140   \n",
       "...                 ...           ...                 ...   \n",
       "19995          0.216021      0.195574          905.767712   \n",
       "19996          0.227318      0.199168          958.395633   \n",
       "19997          0.229533      0.226766          945.427454   \n",
       "19998          0.249760      0.264873          411.168284   \n",
       "19999          0.240055      0.242693         1049.830407   \n",
       "\n",
       "      TotalDebtToIncomeRatio  LoanApproved  RiskScore  \n",
       "0                   0.181077             0       49.0  \n",
       "1                   0.389852             0       52.0  \n",
       "2                   0.462157             0       52.0  \n",
       "3                   0.313098             0       54.0  \n",
       "4                   0.070210             1       36.0  \n",
       "...                      ...           ...        ...  \n",
       "19995               0.627741             0       55.0  \n",
       "19996               0.334418             0       54.0  \n",
       "19997               0.357227             0       45.0  \n",
       "19998               0.408678             0       59.0  \n",
       "19999               0.298006             0       59.0  \n",
       "\n",
       "[20000 rows x 35 columns]"
      ]
     },
     "execution_count": 8,
     "metadata": {},
     "output_type": "execute_result"
    }
   ],
   "source": [
    "copy = copy.drop(columns = \"ApplicationDate\")\n",
    "copy.drop_duplicates()\n",
    "copy.dropna()"
   ]
  },
  {
   "cell_type": "markdown",
   "id": "768bda50",
   "metadata": {
    "papermill": {
     "duration": 0.01088,
     "end_time": "2024-12-14T15:40:08.869839",
     "exception": false,
     "start_time": "2024-12-14T15:40:08.858959",
     "status": "completed"
    },
    "tags": []
   },
   "source": [
    "**Dropping**"
   ]
  },
  {
   "cell_type": "code",
   "execution_count": 9,
   "id": "503aa6a6",
   "metadata": {
    "execution": {
     "iopub.execute_input": "2024-12-14T15:40:08.891584Z",
     "iopub.status.busy": "2024-12-14T15:40:08.891192Z",
     "iopub.status.idle": "2024-12-14T15:40:08.918506Z",
     "shell.execute_reply": "2024-12-14T15:40:08.917552Z"
    },
    "papermill": {
     "duration": 0.041204,
     "end_time": "2024-12-14T15:40:08.920909",
     "exception": false,
     "start_time": "2024-12-14T15:40:08.879705",
     "status": "completed"
    },
    "tags": []
   },
   "outputs": [
    {
     "data": {
      "text/html": [
       "<div>\n",
       "<style scoped>\n",
       "    .dataframe tbody tr th:only-of-type {\n",
       "        vertical-align: middle;\n",
       "    }\n",
       "\n",
       "    .dataframe tbody tr th {\n",
       "        vertical-align: top;\n",
       "    }\n",
       "\n",
       "    .dataframe thead th {\n",
       "        text-align: right;\n",
       "    }\n",
       "</style>\n",
       "<table border=\"1\" class=\"dataframe\">\n",
       "  <thead>\n",
       "    <tr style=\"text-align: right;\">\n",
       "      <th></th>\n",
       "      <th>Age</th>\n",
       "      <th>AnnualIncome</th>\n",
       "      <th>CreditScore</th>\n",
       "      <th>EmploymentStatus</th>\n",
       "      <th>EducationLevel</th>\n",
       "      <th>Experience</th>\n",
       "      <th>LoanAmount</th>\n",
       "      <th>LoanDuration</th>\n",
       "      <th>MaritalStatus</th>\n",
       "      <th>NumberOfDependents</th>\n",
       "      <th>...</th>\n",
       "      <th>TotalLiabilities</th>\n",
       "      <th>MonthlyIncome</th>\n",
       "      <th>UtilityBillsPaymentHistory</th>\n",
       "      <th>JobTenure</th>\n",
       "      <th>NetWorth</th>\n",
       "      <th>BaseInterestRate</th>\n",
       "      <th>InterestRate</th>\n",
       "      <th>MonthlyLoanPayment</th>\n",
       "      <th>TotalDebtToIncomeRatio</th>\n",
       "      <th>LoanApproved</th>\n",
       "    </tr>\n",
       "  </thead>\n",
       "  <tbody>\n",
       "    <tr>\n",
       "      <th>0</th>\n",
       "      <td>45</td>\n",
       "      <td>39948</td>\n",
       "      <td>617</td>\n",
       "      <td>Employed</td>\n",
       "      <td>Master</td>\n",
       "      <td>22</td>\n",
       "      <td>13152</td>\n",
       "      <td>48</td>\n",
       "      <td>Married</td>\n",
       "      <td>2</td>\n",
       "      <td>...</td>\n",
       "      <td>19183</td>\n",
       "      <td>3329.000000</td>\n",
       "      <td>0.724972</td>\n",
       "      <td>11</td>\n",
       "      <td>126928</td>\n",
       "      <td>0.199652</td>\n",
       "      <td>0.227590</td>\n",
       "      <td>419.805992</td>\n",
       "      <td>0.181077</td>\n",
       "      <td>0</td>\n",
       "    </tr>\n",
       "    <tr>\n",
       "      <th>1</th>\n",
       "      <td>33</td>\n",
       "      <td>29096</td>\n",
       "      <td>570</td>\n",
       "      <td>Employed</td>\n",
       "      <td>Associate</td>\n",
       "      <td>12</td>\n",
       "      <td>40138</td>\n",
       "      <td>24</td>\n",
       "      <td>Married</td>\n",
       "      <td>3</td>\n",
       "      <td>...</td>\n",
       "      <td>50013</td>\n",
       "      <td>2424.666667</td>\n",
       "      <td>0.760758</td>\n",
       "      <td>4</td>\n",
       "      <td>36237</td>\n",
       "      <td>0.230138</td>\n",
       "      <td>0.248601</td>\n",
       "      <td>2139.408949</td>\n",
       "      <td>1.164865</td>\n",
       "      <td>0</td>\n",
       "    </tr>\n",
       "    <tr>\n",
       "      <th>2</th>\n",
       "      <td>50</td>\n",
       "      <td>60992</td>\n",
       "      <td>663</td>\n",
       "      <td>Employed</td>\n",
       "      <td>Bachelor</td>\n",
       "      <td>30</td>\n",
       "      <td>24642</td>\n",
       "      <td>48</td>\n",
       "      <td>Single</td>\n",
       "      <td>0</td>\n",
       "      <td>...</td>\n",
       "      <td>13350</td>\n",
       "      <td>5082.666667</td>\n",
       "      <td>0.917148</td>\n",
       "      <td>4</td>\n",
       "      <td>38852</td>\n",
       "      <td>0.188142</td>\n",
       "      <td>0.216449</td>\n",
       "      <td>771.630413</td>\n",
       "      <td>0.282456</td>\n",
       "      <td>0</td>\n",
       "    </tr>\n",
       "    <tr>\n",
       "      <th>3</th>\n",
       "      <td>43</td>\n",
       "      <td>100032</td>\n",
       "      <td>524</td>\n",
       "      <td>Employed</td>\n",
       "      <td>Master</td>\n",
       "      <td>21</td>\n",
       "      <td>19105</td>\n",
       "      <td>60</td>\n",
       "      <td>Married</td>\n",
       "      <td>0</td>\n",
       "      <td>...</td>\n",
       "      <td>4301</td>\n",
       "      <td>8336.000000</td>\n",
       "      <td>0.831494</td>\n",
       "      <td>6</td>\n",
       "      <td>45588</td>\n",
       "      <td>0.262105</td>\n",
       "      <td>0.209684</td>\n",
       "      <td>516.514890</td>\n",
       "      <td>0.160810</td>\n",
       "      <td>1</td>\n",
       "    </tr>\n",
       "    <tr>\n",
       "      <th>4</th>\n",
       "      <td>33</td>\n",
       "      <td>35882</td>\n",
       "      <td>620</td>\n",
       "      <td>Employed</td>\n",
       "      <td>Master</td>\n",
       "      <td>11</td>\n",
       "      <td>9259</td>\n",
       "      <td>48</td>\n",
       "      <td>Single</td>\n",
       "      <td>0</td>\n",
       "      <td>...</td>\n",
       "      <td>91262</td>\n",
       "      <td>2990.166667</td>\n",
       "      <td>0.883372</td>\n",
       "      <td>3</td>\n",
       "      <td>8266</td>\n",
       "      <td>0.194259</td>\n",
       "      <td>0.200011</td>\n",
       "      <td>281.760387</td>\n",
       "      <td>0.180177</td>\n",
       "      <td>0</td>\n",
       "    </tr>\n",
       "    <tr>\n",
       "      <th>...</th>\n",
       "      <td>...</td>\n",
       "      <td>...</td>\n",
       "      <td>...</td>\n",
       "      <td>...</td>\n",
       "      <td>...</td>\n",
       "      <td>...</td>\n",
       "      <td>...</td>\n",
       "      <td>...</td>\n",
       "      <td>...</td>\n",
       "      <td>...</td>\n",
       "      <td>...</td>\n",
       "      <td>...</td>\n",
       "      <td>...</td>\n",
       "      <td>...</td>\n",
       "      <td>...</td>\n",
       "      <td>...</td>\n",
       "      <td>...</td>\n",
       "      <td>...</td>\n",
       "      <td>...</td>\n",
       "      <td>...</td>\n",
       "      <td>...</td>\n",
       "    </tr>\n",
       "    <tr>\n",
       "      <th>995</th>\n",
       "      <td>45</td>\n",
       "      <td>45453</td>\n",
       "      <td>518</td>\n",
       "      <td>Employed</td>\n",
       "      <td>Master</td>\n",
       "      <td>23</td>\n",
       "      <td>36807</td>\n",
       "      <td>24</td>\n",
       "      <td>Married</td>\n",
       "      <td>2</td>\n",
       "      <td>...</td>\n",
       "      <td>14772</td>\n",
       "      <td>3787.750000</td>\n",
       "      <td>0.887467</td>\n",
       "      <td>5</td>\n",
       "      <td>39580</td>\n",
       "      <td>0.252807</td>\n",
       "      <td>0.237099</td>\n",
       "      <td>1940.701755</td>\n",
       "      <td>0.645159</td>\n",
       "      <td>0</td>\n",
       "    </tr>\n",
       "    <tr>\n",
       "      <th>996</th>\n",
       "      <td>26</td>\n",
       "      <td>47517</td>\n",
       "      <td>533</td>\n",
       "      <td>Employed</td>\n",
       "      <td>Associate</td>\n",
       "      <td>3</td>\n",
       "      <td>12185</td>\n",
       "      <td>72</td>\n",
       "      <td>Divorced</td>\n",
       "      <td>3</td>\n",
       "      <td>...</td>\n",
       "      <td>34408</td>\n",
       "      <td>3959.750000</td>\n",
       "      <td>0.799362</td>\n",
       "      <td>5</td>\n",
       "      <td>47114</td>\n",
       "      <td>0.260685</td>\n",
       "      <td>0.296527</td>\n",
       "      <td>363.851501</td>\n",
       "      <td>0.125223</td>\n",
       "      <td>0</td>\n",
       "    </tr>\n",
       "    <tr>\n",
       "      <th>997</th>\n",
       "      <td>69</td>\n",
       "      <td>38715</td>\n",
       "      <td>670</td>\n",
       "      <td>Employed</td>\n",
       "      <td>High School</td>\n",
       "      <td>46</td>\n",
       "      <td>11703</td>\n",
       "      <td>12</td>\n",
       "      <td>Single</td>\n",
       "      <td>3</td>\n",
       "      <td>...</td>\n",
       "      <td>4102</td>\n",
       "      <td>3226.250000</td>\n",
       "      <td>0.850983</td>\n",
       "      <td>4</td>\n",
       "      <td>189145</td>\n",
       "      <td>0.141703</td>\n",
       "      <td>0.162197</td>\n",
       "      <td>1063.040355</td>\n",
       "      <td>0.470218</td>\n",
       "      <td>0</td>\n",
       "    </tr>\n",
       "    <tr>\n",
       "      <th>998</th>\n",
       "      <td>23</td>\n",
       "      <td>101892</td>\n",
       "      <td>482</td>\n",
       "      <td>Employed</td>\n",
       "      <td>Bachelor</td>\n",
       "      <td>1</td>\n",
       "      <td>38161</td>\n",
       "      <td>24</td>\n",
       "      <td>Widowed</td>\n",
       "      <td>1</td>\n",
       "      <td>...</td>\n",
       "      <td>24493</td>\n",
       "      <td>8491.000000</td>\n",
       "      <td>0.823695</td>\n",
       "      <td>5</td>\n",
       "      <td>10427</td>\n",
       "      <td>0.272161</td>\n",
       "      <td>0.278276</td>\n",
       "      <td>2091.248768</td>\n",
       "      <td>0.264780</td>\n",
       "      <td>0</td>\n",
       "    </tr>\n",
       "    <tr>\n",
       "      <th>999</th>\n",
       "      <td>51</td>\n",
       "      <td>26160</td>\n",
       "      <td>540</td>\n",
       "      <td>Employed</td>\n",
       "      <td>Bachelor</td>\n",
       "      <td>30</td>\n",
       "      <td>11762</td>\n",
       "      <td>48</td>\n",
       "      <td>Married</td>\n",
       "      <td>2</td>\n",
       "      <td>...</td>\n",
       "      <td>71998</td>\n",
       "      <td>2180.000000</td>\n",
       "      <td>0.707106</td>\n",
       "      <td>4</td>\n",
       "      <td>151517</td>\n",
       "      <td>0.236762</td>\n",
       "      <td>0.231562</td>\n",
       "      <td>377.996983</td>\n",
       "      <td>0.317430</td>\n",
       "      <td>0</td>\n",
       "    </tr>\n",
       "  </tbody>\n",
       "</table>\n",
       "<p>1000 rows × 34 columns</p>\n",
       "</div>"
      ],
      "text/plain": [
       "     Age  AnnualIncome  CreditScore EmploymentStatus EducationLevel  \\\n",
       "0     45         39948          617         Employed         Master   \n",
       "1     33         29096          570         Employed      Associate   \n",
       "2     50         60992          663         Employed       Bachelor   \n",
       "3     43        100032          524         Employed         Master   \n",
       "4     33         35882          620         Employed         Master   \n",
       "..   ...           ...          ...              ...            ...   \n",
       "995   45         45453          518         Employed         Master   \n",
       "996   26         47517          533         Employed      Associate   \n",
       "997   69         38715          670         Employed    High School   \n",
       "998   23        101892          482         Employed       Bachelor   \n",
       "999   51         26160          540         Employed       Bachelor   \n",
       "\n",
       "     Experience  LoanAmount  LoanDuration MaritalStatus  NumberOfDependents  \\\n",
       "0            22       13152            48       Married                   2   \n",
       "1            12       40138            24       Married                   3   \n",
       "2            30       24642            48        Single                   0   \n",
       "3            21       19105            60       Married                   0   \n",
       "4            11        9259            48        Single                   0   \n",
       "..          ...         ...           ...           ...                 ...   \n",
       "995          23       36807            24       Married                   2   \n",
       "996           3       12185            72      Divorced                   3   \n",
       "997          46       11703            12        Single                   3   \n",
       "998           1       38161            24       Widowed                   1   \n",
       "999          30       11762            48       Married                   2   \n",
       "\n",
       "     ... TotalLiabilities  MonthlyIncome  UtilityBillsPaymentHistory  \\\n",
       "0    ...            19183    3329.000000                    0.724972   \n",
       "1    ...            50013    2424.666667                    0.760758   \n",
       "2    ...            13350    5082.666667                    0.917148   \n",
       "3    ...             4301    8336.000000                    0.831494   \n",
       "4    ...            91262    2990.166667                    0.883372   \n",
       "..   ...              ...            ...                         ...   \n",
       "995  ...            14772    3787.750000                    0.887467   \n",
       "996  ...            34408    3959.750000                    0.799362   \n",
       "997  ...             4102    3226.250000                    0.850983   \n",
       "998  ...            24493    8491.000000                    0.823695   \n",
       "999  ...            71998    2180.000000                    0.707106   \n",
       "\n",
       "     JobTenure  NetWorth  BaseInterestRate  InterestRate MonthlyLoanPayment  \\\n",
       "0           11    126928          0.199652      0.227590         419.805992   \n",
       "1            4     36237          0.230138      0.248601        2139.408949   \n",
       "2            4     38852          0.188142      0.216449         771.630413   \n",
       "3            6     45588          0.262105      0.209684         516.514890   \n",
       "4            3      8266          0.194259      0.200011         281.760387   \n",
       "..         ...       ...               ...           ...                ...   \n",
       "995          5     39580          0.252807      0.237099        1940.701755   \n",
       "996          5     47114          0.260685      0.296527         363.851501   \n",
       "997          4    189145          0.141703      0.162197        1063.040355   \n",
       "998          5     10427          0.272161      0.278276        2091.248768   \n",
       "999          4    151517          0.236762      0.231562         377.996983   \n",
       "\n",
       "     TotalDebtToIncomeRatio  LoanApproved  \n",
       "0                  0.181077             0  \n",
       "1                  1.164865             0  \n",
       "2                  0.282456             0  \n",
       "3                  0.160810             1  \n",
       "4                  0.180177             0  \n",
       "..                      ...           ...  \n",
       "995                0.645159             0  \n",
       "996                0.125223             0  \n",
       "997                0.470218             0  \n",
       "998                0.264780             0  \n",
       "999                0.317430             0  \n",
       "\n",
       "[1000 rows x 34 columns]"
      ]
     },
     "execution_count": 9,
     "metadata": {},
     "output_type": "execute_result"
    }
   ],
   "source": [
    "testFile = testFile.drop(columns = \"ApplicationDate\")\n",
    "testFile.drop_duplicates()\n",
    "testFile.dropna()"
   ]
  },
  {
   "cell_type": "markdown",
   "id": "d1c2b00a",
   "metadata": {
    "papermill": {
     "duration": 0.009885,
     "end_time": "2024-12-14T15:40:08.941010",
     "exception": false,
     "start_time": "2024-12-14T15:40:08.931125",
     "status": "completed"
    },
    "tags": []
   },
   "source": [
    "# Handling Categorical Columns For Dataset File"
   ]
  },
  {
   "cell_type": "code",
   "execution_count": 10,
   "id": "2f5afe4e",
   "metadata": {
    "execution": {
     "iopub.execute_input": "2024-12-14T15:40:08.962602Z",
     "iopub.status.busy": "2024-12-14T15:40:08.962237Z",
     "iopub.status.idle": "2024-12-14T15:40:08.989105Z",
     "shell.execute_reply": "2024-12-14T15:40:08.988003Z"
    },
    "papermill": {
     "duration": 0.040542,
     "end_time": "2024-12-14T15:40:08.991552",
     "exception": false,
     "start_time": "2024-12-14T15:40:08.951010",
     "status": "completed"
    },
    "tags": []
   },
   "outputs": [],
   "source": [
    "listOfColumns = []\n",
    "\n",
    "listOfCategoricalColumns = []\n",
    "for i in copy.select_dtypes(include = 'number'):\n",
    "    listOfColumns.append(i)\n",
    "\n",
    "\n",
    "for j in copy.columns:\n",
    "\n",
    "    if j not in listOfColumns:\n",
    "        listOfCategoricalColumns.append(j)\n",
    "le = LabelEncoder()\n",
    "for i in listOfCategoricalColumns:\n",
    "    copy[i] = le.fit_transform(copy[i])"
   ]
  },
  {
   "cell_type": "markdown",
   "id": "8df24add",
   "metadata": {
    "papermill": {
     "duration": 0.010349,
     "end_time": "2024-12-14T15:40:09.012405",
     "exception": false,
     "start_time": "2024-12-14T15:40:09.002056",
     "status": "completed"
    },
    "tags": []
   },
   "source": [
    "# Features and target defining"
   ]
  },
  {
   "cell_type": "code",
   "execution_count": 11,
   "id": "6ddff12c",
   "metadata": {
    "execution": {
     "iopub.execute_input": "2024-12-14T15:40:09.034809Z",
     "iopub.status.busy": "2024-12-14T15:40:09.034433Z",
     "iopub.status.idle": "2024-12-14T15:40:09.040913Z",
     "shell.execute_reply": "2024-12-14T15:40:09.040097Z"
    },
    "papermill": {
     "duration": 0.020233,
     "end_time": "2024-12-14T15:40:09.042949",
     "exception": false,
     "start_time": "2024-12-14T15:40:09.022716",
     "status": "completed"
    },
    "tags": []
   },
   "outputs": [],
   "source": [
    "X_Loan = copy.drop(columns = ['RiskScore'])\n",
    "Y_Loan = copy[\"RiskScore\"]"
   ]
  },
  {
   "cell_type": "markdown",
   "id": "d77aaa97",
   "metadata": {
    "papermill": {
     "duration": 0.01016,
     "end_time": "2024-12-14T15:40:09.063356",
     "exception": false,
     "start_time": "2024-12-14T15:40:09.053196",
     "status": "completed"
    },
    "tags": []
   },
   "source": [
    "# Handling Outliars"
   ]
  },
  {
   "cell_type": "code",
   "execution_count": 12,
   "id": "1d3a39be",
   "metadata": {
    "execution": {
     "iopub.execute_input": "2024-12-14T15:40:09.085363Z",
     "iopub.status.busy": "2024-12-14T15:40:09.084985Z",
     "iopub.status.idle": "2024-12-14T15:40:09.136209Z",
     "shell.execute_reply": "2024-12-14T15:40:09.135403Z"
    },
    "papermill": {
     "duration": 0.065301,
     "end_time": "2024-12-14T15:40:09.138650",
     "exception": false,
     "start_time": "2024-12-14T15:40:09.073349",
     "status": "completed"
    },
    "tags": []
   },
   "outputs": [],
   "source": [
    "robust = RobustScaler()\n",
    "scaledXLoan = robust.fit_transform(X_Loan)\n",
    "scaledYLoan = robust.fit_transform(Y_Loan.values.reshape(-1,1))"
   ]
  },
  {
   "cell_type": "markdown",
   "id": "8b101e6d",
   "metadata": {
    "papermill": {
     "duration": 0.0098,
     "end_time": "2024-12-14T15:40:09.158910",
     "exception": false,
     "start_time": "2024-12-14T15:40:09.149110",
     "status": "completed"
    },
    "tags": []
   },
   "source": [
    "# Handling Categorical Columns For Test File"
   ]
  },
  {
   "cell_type": "code",
   "execution_count": 13,
   "id": "94e6ed87",
   "metadata": {
    "execution": {
     "iopub.execute_input": "2024-12-14T15:40:09.180707Z",
     "iopub.status.busy": "2024-12-14T15:40:09.180322Z",
     "iopub.status.idle": "2024-12-14T15:40:09.189947Z",
     "shell.execute_reply": "2024-12-14T15:40:09.188952Z"
    },
    "papermill": {
     "duration": 0.022776,
     "end_time": "2024-12-14T15:40:09.191817",
     "exception": false,
     "start_time": "2024-12-14T15:40:09.169041",
     "status": "completed"
    },
    "tags": []
   },
   "outputs": [],
   "source": [
    "listOfColumns1 = []\n",
    "\n",
    "listOfCategoricalColumns1 = []\n",
    "for i in testFile.select_dtypes(include = 'number'):\n",
    "    listOfColumns1.append(i)\n",
    "\n",
    "\n",
    "for j in testFile.columns:\n",
    "\n",
    "    if j not in listOfColumns1:\n",
    "        listOfCategoricalColumns1.append(j)\n",
    "le = LabelEncoder()\n",
    "for i in listOfCategoricalColumns1:\n",
    "    testFile[i] = le.fit_transform(testFile[i])"
   ]
  },
  {
   "cell_type": "markdown",
   "id": "8fb7ae4f",
   "metadata": {
    "papermill": {
     "duration": 0.0097,
     "end_time": "2024-12-14T15:40:09.211928",
     "exception": false,
     "start_time": "2024-12-14T15:40:09.202228",
     "status": "completed"
    },
    "tags": []
   },
   "source": [
    "# Handling Outliars"
   ]
  },
  {
   "cell_type": "code",
   "execution_count": 14,
   "id": "5fa51c23",
   "metadata": {
    "execution": {
     "iopub.execute_input": "2024-12-14T15:40:09.233553Z",
     "iopub.status.busy": "2024-12-14T15:40:09.233144Z",
     "iopub.status.idle": "2024-12-14T15:40:09.248480Z",
     "shell.execute_reply": "2024-12-14T15:40:09.247634Z"
    },
    "papermill": {
     "duration": 0.028596,
     "end_time": "2024-12-14T15:40:09.250482",
     "exception": false,
     "start_time": "2024-12-14T15:40:09.221886",
     "status": "completed"
    },
    "tags": []
   },
   "outputs": [],
   "source": [
    "robust_TestFile = RobustScaler()\n",
    "scaledTestFile = robust_TestFile.fit_transform(testFile)"
   ]
  },
  {
   "cell_type": "code",
   "execution_count": 15,
   "id": "df2571b1",
   "metadata": {
    "execution": {
     "iopub.execute_input": "2024-12-14T15:40:09.272244Z",
     "iopub.status.busy": "2024-12-14T15:40:09.271895Z",
     "iopub.status.idle": "2024-12-14T15:40:09.277804Z",
     "shell.execute_reply": "2024-12-14T15:40:09.276896Z"
    },
    "papermill": {
     "duration": 0.019247,
     "end_time": "2024-12-14T15:40:09.279871",
     "exception": false,
     "start_time": "2024-12-14T15:40:09.260624",
     "status": "completed"
    },
    "tags": []
   },
   "outputs": [
    {
     "data": {
      "text/plain": [
       "(20000, 34)"
      ]
     },
     "execution_count": 15,
     "metadata": {},
     "output_type": "execute_result"
    }
   ],
   "source": [
    "scaledXLoan.shape"
   ]
  },
  {
   "cell_type": "code",
   "execution_count": 16,
   "id": "65496c63",
   "metadata": {
    "execution": {
     "iopub.execute_input": "2024-12-14T15:40:09.303574Z",
     "iopub.status.busy": "2024-12-14T15:40:09.302784Z",
     "iopub.status.idle": "2024-12-14T15:40:09.309333Z",
     "shell.execute_reply": "2024-12-14T15:40:09.308235Z"
    },
    "papermill": {
     "duration": 0.020908,
     "end_time": "2024-12-14T15:40:09.311285",
     "exception": false,
     "start_time": "2024-12-14T15:40:09.290377",
     "status": "completed"
    },
    "tags": []
   },
   "outputs": [
    {
     "data": {
      "text/plain": [
       "(20000, 1)"
      ]
     },
     "execution_count": 16,
     "metadata": {},
     "output_type": "execute_result"
    }
   ],
   "source": [
    "scaledYLoan.shape"
   ]
  },
  {
   "cell_type": "code",
   "execution_count": 17,
   "id": "c17e58d7",
   "metadata": {
    "execution": {
     "iopub.execute_input": "2024-12-14T15:40:09.333775Z",
     "iopub.status.busy": "2024-12-14T15:40:09.333396Z",
     "iopub.status.idle": "2024-12-14T15:40:09.339448Z",
     "shell.execute_reply": "2024-12-14T15:40:09.338443Z"
    },
    "papermill": {
     "duration": 0.0195,
     "end_time": "2024-12-14T15:40:09.341402",
     "exception": false,
     "start_time": "2024-12-14T15:40:09.321902",
     "status": "completed"
    },
    "tags": []
   },
   "outputs": [
    {
     "data": {
      "text/plain": [
       "(1000, 34)"
      ]
     },
     "execution_count": 17,
     "metadata": {},
     "output_type": "execute_result"
    }
   ],
   "source": [
    "scaledTestFile.shape"
   ]
  },
  {
   "cell_type": "markdown",
   "id": "f9ab4821",
   "metadata": {
    "papermill": {
     "duration": 0.010181,
     "end_time": "2024-12-14T15:40:09.361954",
     "exception": false,
     "start_time": "2024-12-14T15:40:09.351773",
     "status": "completed"
    },
    "tags": []
   },
   "source": [
    "# Train test split"
   ]
  },
  {
   "cell_type": "code",
   "execution_count": 18,
   "id": "bc81d22a",
   "metadata": {
    "execution": {
     "iopub.execute_input": "2024-12-14T15:40:09.384215Z",
     "iopub.status.busy": "2024-12-14T15:40:09.383790Z",
     "iopub.status.idle": "2024-12-14T15:40:09.395506Z",
     "shell.execute_reply": "2024-12-14T15:40:09.394629Z"
    },
    "papermill": {
     "duration": 0.025335,
     "end_time": "2024-12-14T15:40:09.397673",
     "exception": false,
     "start_time": "2024-12-14T15:40:09.372338",
     "status": "completed"
    },
    "tags": []
   },
   "outputs": [],
   "source": [
    "X_train, X_val, y_train, y_val = train_test_split( scaledXLoan, scaledYLoan, test_size=0.2, random_state=42)"
   ]
  },
  {
   "cell_type": "markdown",
   "id": "e68785ae",
   "metadata": {
    "papermill": {
     "duration": 0.010084,
     "end_time": "2024-12-14T15:40:09.418253",
     "exception": false,
     "start_time": "2024-12-14T15:40:09.408169",
     "status": "completed"
    },
    "tags": []
   },
   "source": [
    "# Neural Network "
   ]
  },
  {
   "cell_type": "markdown",
   "id": "e8f8f498",
   "metadata": {
    "papermill": {
     "duration": 0.010075,
     "end_time": "2024-12-14T15:40:09.438728",
     "exception": false,
     "start_time": "2024-12-14T15:40:09.428653",
     "status": "completed"
    },
    "tags": []
   },
   "source": [
    "***Training and Evaluating***"
   ]
  },
  {
   "cell_type": "markdown",
   "id": "637f01b9",
   "metadata": {
    "papermill": {
     "duration": 0.010118,
     "end_time": "2024-12-14T15:40:09.459226",
     "exception": false,
     "start_time": "2024-12-14T15:40:09.449108",
     "status": "completed"
    },
    "tags": []
   },
   "source": [
    "**Trial 1**\n",
    "* We have used 1 hidden layer with 100 neorons.\n",
    "* Adam optimizer was used.\n",
    "* We tested with relu activation function.\n",
    "* We used learning rate 0.001\n",
    "* Finally we tested with 10 epochs.\n",
    "* The MSE was approx. 0.018."
   ]
  },
  {
   "cell_type": "code",
   "execution_count": 19,
   "id": "47313ddb",
   "metadata": {
    "execution": {
     "iopub.execute_input": "2024-12-14T15:40:09.481566Z",
     "iopub.status.busy": "2024-12-14T15:40:09.481218Z",
     "iopub.status.idle": "2024-12-14T15:40:09.485549Z",
     "shell.execute_reply": "2024-12-14T15:40:09.484514Z"
    },
    "papermill": {
     "duration": 0.018042,
     "end_time": "2024-12-14T15:40:09.487664",
     "exception": false,
     "start_time": "2024-12-14T15:40:09.469622",
     "status": "completed"
    },
    "tags": []
   },
   "outputs": [],
   "source": [
    "# ANN = Sequential()\n",
    "# ANN.add(Dense(100, activation='relu', input_dim = X_train.shape[1]))\n",
    "# ANN.add(Dense(1))\n",
    "# ANN.compile(optimizer=Adam(learning_rate=0.001), loss='mean_squared_error' ,metrics=['accuracy'])\n",
    "# ANN.fit(X_train, y_train, epochs=10, batch_size=32, validation_data=(X_val, y_val))\n",
    "# ANN.evaluate(X_val, y_val)"
   ]
  },
  {
   "cell_type": "markdown",
   "id": "a77f1e6f",
   "metadata": {
    "papermill": {
     "duration": 0.010159,
     "end_time": "2024-12-14T15:40:09.508625",
     "exception": false,
     "start_time": "2024-12-14T15:40:09.498466",
     "status": "completed"
    },
    "tags": []
   },
   "source": [
    "**Trial 2**\n",
    "* We have used 1 hidden layer with 100 neorons.\n",
    "* Qdam Optimizer was used.\n",
    "* We tested with relu activation function.\n",
    "* Learning rate with 0.005.\n",
    "* Finally we tested with 50 epochs.\n",
    "* The MSE was approx. 0.009.\n",
    "Obsevations:\n",
    "    * When incresing learning rate and no.of epochs whe MSE Decresed.  "
   ]
  },
  {
   "cell_type": "code",
   "execution_count": 20,
   "id": "8dd363ea",
   "metadata": {
    "execution": {
     "iopub.execute_input": "2024-12-14T15:40:09.530966Z",
     "iopub.status.busy": "2024-12-14T15:40:09.530634Z",
     "iopub.status.idle": "2024-12-14T15:40:09.535064Z",
     "shell.execute_reply": "2024-12-14T15:40:09.534070Z"
    },
    "papermill": {
     "duration": 0.01812,
     "end_time": "2024-12-14T15:40:09.537020",
     "exception": false,
     "start_time": "2024-12-14T15:40:09.518900",
     "status": "completed"
    },
    "tags": []
   },
   "outputs": [],
   "source": [
    "# ANN = Sequential()\n",
    "# ANN.add(Dense(100, activation='relu', input_dim = X_train.shape[1]))\n",
    "# ANN.add(Dense(1))\n",
    "# ANN.compile(optimizer=Adam(learning_rate=0.005), loss='mean_squared_error' ,metrics=['accuracy'])\n",
    "# ANN.fit(X_train, y_train, epochs=50, batch_size=32, validation_data=(X_val, y_val))\n",
    "# ANN.evaluate(X_val, y_val)"
   ]
  },
  {
   "cell_type": "markdown",
   "id": "4b59b351",
   "metadata": {
    "papermill": {
     "duration": 0.010334,
     "end_time": "2024-12-14T15:40:09.557683",
     "exception": false,
     "start_time": "2024-12-14T15:40:09.547349",
     "status": "completed"
    },
    "tags": []
   },
   "source": [
    "**Trial 3**\n",
    "* We have used 1 hidden layer with 100 neorons.\n",
    "* Learning rate was 0.01\n",
    "* Activation function relu was applied.\n",
    "* epochs number was 60\n",
    "* The MSE was 0.013\n",
    "Observations:\n",
    "    * When highly increasing learning rate the loss has increased again."
   ]
  },
  {
   "cell_type": "code",
   "execution_count": 21,
   "id": "4fe6f185",
   "metadata": {
    "execution": {
     "iopub.execute_input": "2024-12-14T15:40:09.579950Z",
     "iopub.status.busy": "2024-12-14T15:40:09.579570Z",
     "iopub.status.idle": "2024-12-14T15:40:09.584071Z",
     "shell.execute_reply": "2024-12-14T15:40:09.583051Z"
    },
    "papermill": {
     "duration": 0.018279,
     "end_time": "2024-12-14T15:40:09.586180",
     "exception": false,
     "start_time": "2024-12-14T15:40:09.567901",
     "status": "completed"
    },
    "tags": []
   },
   "outputs": [],
   "source": [
    "# ANN = Sequential()\n",
    "# ANN.add(Dense(100, activation='relu', input_dim = X_train.shape[1]))\n",
    "# ANN.add(Dense(1))\n",
    "# ANN.compile(optimizer=Adam(learning_rate=0.01), loss='mean_squared_error' ,metrics=['accuracy'])\n",
    "# ANN.fit(X_train, y_train, epochs=60, batch_size=32, validation_data=(X_val, y_val))\n",
    "# ANN.evaluate(X_val, y_val)"
   ]
  },
  {
   "cell_type": "markdown",
   "id": "83019f07",
   "metadata": {
    "papermill": {
     "duration": 0.010171,
     "end_time": "2024-12-14T15:40:09.606987",
     "exception": false,
     "start_time": "2024-12-14T15:40:09.596816",
     "status": "completed"
    },
    "tags": []
   },
   "source": [
    "**Trial 4**\n",
    "* We have used 1 hidden layer with 100 neorons.\n",
    "* Learning rate was 0.009\n",
    "* Activation function relu was applied.\n",
    "* epochs number was 60\n",
    "* The MSE was 0.0115\n",
    "* Observations:\n",
    "    * When slightly decreasing learning rate the loss has decreasd again."
   ]
  },
  {
   "cell_type": "code",
   "execution_count": 22,
   "id": "f86659a0",
   "metadata": {
    "execution": {
     "iopub.execute_input": "2024-12-14T15:40:09.629844Z",
     "iopub.status.busy": "2024-12-14T15:40:09.629457Z",
     "iopub.status.idle": "2024-12-14T15:40:09.633901Z",
     "shell.execute_reply": "2024-12-14T15:40:09.632999Z"
    },
    "papermill": {
     "duration": 0.01804,
     "end_time": "2024-12-14T15:40:09.635745",
     "exception": false,
     "start_time": "2024-12-14T15:40:09.617705",
     "status": "completed"
    },
    "tags": []
   },
   "outputs": [],
   "source": [
    "# ANN = Sequential()\n",
    "# ANN.add(Dense(100, activation='relu', input_dim = X_train.shape[1]))\n",
    "# ANN.add(Dense(1))\n",
    "# ANN.compile(optimizer=Adam(learning_rate=0.009), loss='mean_squared_error')\n",
    "# ANN.fit(X_train, y_train, epochs=60, batch_size=32, validation_data=(X_val, y_val))\n",
    "# ANN.evaluate(X_val, y_val)"
   ]
  },
  {
   "cell_type": "markdown",
   "id": "c6053ee9",
   "metadata": {
    "papermill": {
     "duration": 0.010173,
     "end_time": "2024-12-14T15:40:09.656524",
     "exception": false,
     "start_time": "2024-12-14T15:40:09.646351",
     "status": "completed"
    },
    "tags": []
   },
   "source": [
    "**Trial 5**\n",
    "* We have used 1 hidden layer with 100 neorons.\n",
    "* Learning rate was 0.005\n",
    "* Activation function tanh was applied.\n",
    "* epochs number was 10\n",
    "* The MSE was 0.013\n",
    "* Observations:\n",
    "    * When slightly decreasing learning rate the loss has decreasd again."
   ]
  },
  {
   "cell_type": "code",
   "execution_count": 23,
   "id": "4cffe243",
   "metadata": {
    "execution": {
     "iopub.execute_input": "2024-12-14T15:40:09.679086Z",
     "iopub.status.busy": "2024-12-14T15:40:09.678704Z",
     "iopub.status.idle": "2024-12-14T15:40:18.381202Z",
     "shell.execute_reply": "2024-12-14T15:40:18.380057Z"
    },
    "papermill": {
     "duration": 8.716289,
     "end_time": "2024-12-14T15:40:18.383277",
     "exception": false,
     "start_time": "2024-12-14T15:40:09.666988",
     "status": "completed"
    },
    "tags": []
   },
   "outputs": [
    {
     "name": "stdout",
     "output_type": "stream",
     "text": [
      "Epoch 1/10\n"
     ]
    },
    {
     "name": "stderr",
     "output_type": "stream",
     "text": [
      "/opt/conda/lib/python3.10/site-packages/keras/src/layers/core/dense.py:87: UserWarning: Do not pass an `input_shape`/`input_dim` argument to a layer. When using Sequential models, prefer using an `Input(shape)` object as the first layer in the model instead.\n",
      "  super().__init__(activity_regularizer=activity_regularizer, **kwargs)\n"
     ]
    },
    {
     "name": "stdout",
     "output_type": "stream",
     "text": [
      "\u001b[1m500/500\u001b[0m \u001b[32m━━━━━━━━━━━━━━━━━━━━\u001b[0m\u001b[37m\u001b[0m \u001b[1m2s\u001b[0m 2ms/step - loss: 0.1058 - val_loss: 0.0355\n",
      "Epoch 2/10\n",
      "\u001b[1m500/500\u001b[0m \u001b[32m━━━━━━━━━━━━━━━━━━━━\u001b[0m\u001b[37m\u001b[0m \u001b[1m1s\u001b[0m 1ms/step - loss: 0.0314 - val_loss: 0.0308\n",
      "Epoch 3/10\n",
      "\u001b[1m500/500\u001b[0m \u001b[32m━━━━━━━━━━━━━━━━━━━━\u001b[0m\u001b[37m\u001b[0m \u001b[1m1s\u001b[0m 2ms/step - loss: 0.0261 - val_loss: 0.0271\n",
      "Epoch 4/10\n",
      "\u001b[1m500/500\u001b[0m \u001b[32m━━━━━━━━━━━━━━━━━━━━\u001b[0m\u001b[37m\u001b[0m \u001b[1m1s\u001b[0m 1ms/step - loss: 0.0219 - val_loss: 0.0181\n",
      "Epoch 5/10\n",
      "\u001b[1m500/500\u001b[0m \u001b[32m━━━━━━━━━━━━━━━━━━━━\u001b[0m\u001b[37m\u001b[0m \u001b[1m1s\u001b[0m 1ms/step - loss: 0.0180 - val_loss: 0.0152\n",
      "Epoch 6/10\n",
      "\u001b[1m500/500\u001b[0m \u001b[32m━━━━━━━━━━━━━━━━━━━━\u001b[0m\u001b[37m\u001b[0m \u001b[1m1s\u001b[0m 1ms/step - loss: 0.0162 - val_loss: 0.0162\n",
      "Epoch 7/10\n",
      "\u001b[1m500/500\u001b[0m \u001b[32m━━━━━━━━━━━━━━━━━━━━\u001b[0m\u001b[37m\u001b[0m \u001b[1m1s\u001b[0m 1ms/step - loss: 0.0150 - val_loss: 0.0168\n",
      "Epoch 8/10\n",
      "\u001b[1m500/500\u001b[0m \u001b[32m━━━━━━━━━━━━━━━━━━━━\u001b[0m\u001b[37m\u001b[0m \u001b[1m1s\u001b[0m 1ms/step - loss: 0.0146 - val_loss: 0.0154\n",
      "Epoch 9/10\n",
      "\u001b[1m500/500\u001b[0m \u001b[32m━━━━━━━━━━━━━━━━━━━━\u001b[0m\u001b[37m\u001b[0m \u001b[1m1s\u001b[0m 1ms/step - loss: 0.0139 - val_loss: 0.0135\n",
      "Epoch 10/10\n",
      "\u001b[1m500/500\u001b[0m \u001b[32m━━━━━━━━━━━━━━━━━━━━\u001b[0m\u001b[37m\u001b[0m \u001b[1m1s\u001b[0m 1ms/step - loss: 0.0140 - val_loss: 0.0131\n",
      "\u001b[1m125/125\u001b[0m \u001b[32m━━━━━━━━━━━━━━━━━━━━\u001b[0m\u001b[37m\u001b[0m \u001b[1m0s\u001b[0m 942us/step - loss: 0.0130\n"
     ]
    },
    {
     "data": {
      "text/plain": [
       "0.013115559704601765"
      ]
     },
     "execution_count": 23,
     "metadata": {},
     "output_type": "execute_result"
    }
   ],
   "source": [
    "ANN = Sequential()\n",
    "ANN.add(Dense(100, activation='tanh', input_dim = X_train.shape[1]))\n",
    "ANN.add(Dense(1))\n",
    "ANN.compile(optimizer=Adam(learning_rate=0.005), loss='mean_squared_error')\n",
    "ANN.fit(X_train, y_train, epochs=10, batch_size=32, validation_data=(X_val, y_val))\n",
    "ANN.evaluate(X_val, y_val)"
   ]
  },
  {
   "cell_type": "markdown",
   "id": "2aebe17f",
   "metadata": {
    "papermill": {
     "duration": 0.018126,
     "end_time": "2024-12-14T15:40:18.420126",
     "exception": false,
     "start_time": "2024-12-14T15:40:18.402000",
     "status": "completed"
    },
    "tags": []
   },
   "source": [
    "**Predictions**"
   ]
  },
  {
   "cell_type": "code",
   "execution_count": 24,
   "id": "fdfe3d1b",
   "metadata": {
    "execution": {
     "iopub.execute_input": "2024-12-14T15:40:18.458600Z",
     "iopub.status.busy": "2024-12-14T15:40:18.458210Z",
     "iopub.status.idle": "2024-12-14T15:40:18.637547Z",
     "shell.execute_reply": "2024-12-14T15:40:18.636414Z"
    },
    "papermill": {
     "duration": 0.201619,
     "end_time": "2024-12-14T15:40:18.640079",
     "exception": false,
     "start_time": "2024-12-14T15:40:18.438460",
     "status": "completed"
    },
    "tags": []
   },
   "outputs": [
    {
     "name": "stdout",
     "output_type": "stream",
     "text": [
      "\u001b[1m32/32\u001b[0m \u001b[32m━━━━━━━━━━━━━━━━━━━━\u001b[0m\u001b[37m\u001b[0m \u001b[1m0s\u001b[0m 2ms/step\n"
     ]
    }
   ],
   "source": [
    "predections_ScaledANN = ANN.predict(scaledTestFile)"
   ]
  },
  {
   "cell_type": "markdown",
   "id": "881c4d57",
   "metadata": {
    "papermill": {
     "duration": 0.018179,
     "end_time": "2024-12-14T15:40:18.677517",
     "exception": false,
     "start_time": "2024-12-14T15:40:18.659338",
     "status": "completed"
    },
    "tags": []
   },
   "source": [
    "**Getting unScaled Values for predictions**"
   ]
  },
  {
   "cell_type": "code",
   "execution_count": 25,
   "id": "3a4336aa",
   "metadata": {
    "execution": {
     "iopub.execute_input": "2024-12-14T15:40:18.716073Z",
     "iopub.status.busy": "2024-12-14T15:40:18.715708Z",
     "iopub.status.idle": "2024-12-14T15:40:18.721330Z",
     "shell.execute_reply": "2024-12-14T15:40:18.720319Z"
    },
    "papermill": {
     "duration": 0.027338,
     "end_time": "2024-12-14T15:40:18.723381",
     "exception": false,
     "start_time": "2024-12-14T15:40:18.696043",
     "status": "completed"
    },
    "tags": []
   },
   "outputs": [],
   "source": [
    "predictions_InversedANN = robust.inverse_transform(predections_ScaledANN.reshape(-1,1))\n",
    "predictions_InversedANN = predictions_InversedANN.reshape(-1)\n",
    "#predictions_InversedANN = [round(x,1) for x in predictions_InversedANN]"
   ]
  },
  {
   "cell_type": "markdown",
   "id": "ec7c07a3",
   "metadata": {
    "papermill": {
     "duration": 0.018111,
     "end_time": "2024-12-14T15:40:18.760137",
     "exception": false,
     "start_time": "2024-12-14T15:40:18.742026",
     "status": "completed"
    },
    "tags": []
   },
   "source": [
    "# File Export (Credits to Adham)"
   ]
  },
  {
   "cell_type": "code",
   "execution_count": 26,
   "id": "7606e482",
   "metadata": {
    "execution": {
     "iopub.execute_input": "2024-12-14T15:40:18.799143Z",
     "iopub.status.busy": "2024-12-14T15:40:18.798769Z",
     "iopub.status.idle": "2024-12-14T15:40:18.810494Z",
     "shell.execute_reply": "2024-12-14T15:40:18.809474Z"
    },
    "papermill": {
     "duration": 0.033422,
     "end_time": "2024-12-14T15:40:18.812628",
     "exception": false,
     "start_time": "2024-12-14T15:40:18.779206",
     "status": "completed"
    },
    "tags": []
   },
   "outputs": [],
   "source": [
    "dictt = {\n",
    "    \"ID\": [i for i in range(len(predictions_InversedANN))],\n",
    "    \"Class\": predictions_InversedANN\n",
    "}\n",
    "df = pd.DataFrame(dictt)\n",
    "df.to_csv(\"Submission.csv\", index=False)"
   ]
  },
  {
   "cell_type": "markdown",
   "id": "7fbe18b7",
   "metadata": {
    "papermill": {
     "duration": 0.017721,
     "end_time": "2024-12-14T15:40:18.848831",
     "exception": false,
     "start_time": "2024-12-14T15:40:18.831110",
     "status": "completed"
    },
    "tags": []
   },
   "source": [
    "# SVM"
   ]
  },
  {
   "cell_type": "markdown",
   "id": "3792ce56",
   "metadata": {
    "papermill": {
     "duration": 0.018293,
     "end_time": "2024-12-14T15:40:18.885293",
     "exception": false,
     "start_time": "2024-12-14T15:40:18.867000",
     "status": "completed"
    },
    "tags": []
   },
   "source": [
    "**Training and Evaluation**"
   ]
  },
  {
   "cell_type": "code",
   "execution_count": 27,
   "id": "e775edb5",
   "metadata": {
    "execution": {
     "iopub.execute_input": "2024-12-14T15:40:18.924615Z",
     "iopub.status.busy": "2024-12-14T15:40:18.924270Z",
     "iopub.status.idle": "2024-12-14T15:40:18.928481Z",
     "shell.execute_reply": "2024-12-14T15:40:18.927469Z"
    },
    "papermill": {
     "duration": 0.025728,
     "end_time": "2024-12-14T15:40:18.930602",
     "exception": false,
     "start_time": "2024-12-14T15:40:18.904874",
     "status": "completed"
    },
    "tags": []
   },
   "outputs": [],
   "source": [
    "#Write your trials here\n",
    "#Each trial in a cell has markdown contains description of what kernal used,etc.."
   ]
  },
  {
   "cell_type": "markdown",
   "id": "e7fe2834",
   "metadata": {
    "papermill": {
     "duration": 0.01787,
     "end_time": "2024-12-14T15:40:18.966844",
     "exception": false,
     "start_time": "2024-12-14T15:40:18.948974",
     "status": "completed"
    },
    "tags": []
   },
   "source": [
    "**Predictions**"
   ]
  },
  {
   "cell_type": "code",
   "execution_count": 28,
   "id": "ed96af6a",
   "metadata": {
    "execution": {
     "iopub.execute_input": "2024-12-14T15:40:19.004415Z",
     "iopub.status.busy": "2024-12-14T15:40:19.004034Z",
     "iopub.status.idle": "2024-12-14T15:40:19.008349Z",
     "shell.execute_reply": "2024-12-14T15:40:19.007360Z"
    },
    "papermill": {
     "duration": 0.025414,
     "end_time": "2024-12-14T15:40:19.010300",
     "exception": false,
     "start_time": "2024-12-14T15:40:18.984886",
     "status": "completed"
    },
    "tags": []
   },
   "outputs": [],
   "source": [
    "#predections_ScaledSVM = SVM.predict(scaledTestFile)"
   ]
  },
  {
   "cell_type": "markdown",
   "id": "60b087f9",
   "metadata": {
    "papermill": {
     "duration": 0.017958,
     "end_time": "2024-12-14T15:40:19.047048",
     "exception": false,
     "start_time": "2024-12-14T15:40:19.029090",
     "status": "completed"
    },
    "tags": []
   },
   "source": [
    "**Getting unScaled Values for predictions**"
   ]
  },
  {
   "cell_type": "code",
   "execution_count": 29,
   "id": "d3ade2d3",
   "metadata": {
    "execution": {
     "iopub.execute_input": "2024-12-14T15:40:19.085665Z",
     "iopub.status.busy": "2024-12-14T15:40:19.084671Z",
     "iopub.status.idle": "2024-12-14T15:40:19.089138Z",
     "shell.execute_reply": "2024-12-14T15:40:19.088216Z"
    },
    "papermill": {
     "duration": 0.025887,
     "end_time": "2024-12-14T15:40:19.091128",
     "exception": false,
     "start_time": "2024-12-14T15:40:19.065241",
     "status": "completed"
    },
    "tags": []
   },
   "outputs": [],
   "source": [
    "# predictions_InversedSVM = robust.inverse_transform(predections_ScaledSVM.reshape(-1,1))\n",
    "# predictions_InversedSVM = predictions_InversedSVM.reshape(-1)\n",
    "# predictions_InversedSVM = [round(x,1) for x in predictions_InversedSVM]"
   ]
  },
  {
   "cell_type": "markdown",
   "id": "f3a31b71",
   "metadata": {
    "papermill": {
     "duration": 0.018293,
     "end_time": "2024-12-14T15:40:19.127777",
     "exception": false,
     "start_time": "2024-12-14T15:40:19.109484",
     "status": "completed"
    },
    "tags": []
   },
   "source": [
    "# File Export (Credits to Adham)"
   ]
  },
  {
   "cell_type": "code",
   "execution_count": 30,
   "id": "a3eeb4d0",
   "metadata": {
    "execution": {
     "iopub.execute_input": "2024-12-14T15:40:19.166219Z",
     "iopub.status.busy": "2024-12-14T15:40:19.165842Z",
     "iopub.status.idle": "2024-12-14T15:40:19.170593Z",
     "shell.execute_reply": "2024-12-14T15:40:19.169560Z"
    },
    "papermill": {
     "duration": 0.026323,
     "end_time": "2024-12-14T15:40:19.172582",
     "exception": false,
     "start_time": "2024-12-14T15:40:19.146259",
     "status": "completed"
    },
    "tags": []
   },
   "outputs": [],
   "source": [
    "# dictt = {\n",
    "#     \"ID\": [i for i in range(len(predictions_InversedSVM))],\n",
    "#     \"Class\": predictions_InversedSVM\n",
    "# }\n",
    "# df = pd.DataFrame(dictt)\n",
    "# df.to_csv(\"Submission.csv\", index=False)"
   ]
  }
 ],
 "metadata": {
  "kaggle": {
   "accelerator": "none",
   "dataSources": [
    {
     "datasetId": 5660999,
     "sourceId": 9341109,
     "sourceType": "datasetVersion"
    },
    {
     "datasetId": 6290970,
     "sourceId": 10183647,
     "sourceType": "datasetVersion"
    }
   ],
   "dockerImageVersionId": 30804,
   "isGpuEnabled": false,
   "isInternetEnabled": false,
   "language": "python",
   "sourceType": "notebook"
  },
  "kernelspec": {
   "display_name": "Python 3",
   "language": "python",
   "name": "python3"
  },
  "language_info": {
   "codemirror_mode": {
    "name": "ipython",
    "version": 3
   },
   "file_extension": ".py",
   "mimetype": "text/x-python",
   "name": "python",
   "nbconvert_exporter": "python",
   "pygments_lexer": "ipython3",
   "version": "3.10.14"
  },
  "papermill": {
   "default_parameters": {},
   "duration": 30.423889,
   "end_time": "2024-12-14T15:40:20.715262",
   "environment_variables": {},
   "exception": null,
   "input_path": "__notebook__.ipynb",
   "output_path": "__notebook__.ipynb",
   "parameters": {},
   "start_time": "2024-12-14T15:39:50.291373",
   "version": "2.6.0"
  }
 },
 "nbformat": 4,
 "nbformat_minor": 5
}

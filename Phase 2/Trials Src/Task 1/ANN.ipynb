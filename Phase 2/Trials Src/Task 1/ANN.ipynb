{
 "cells": [
  {
   "cell_type": "markdown",
   "id": "a3253658",
   "metadata": {
    "papermill": {
     "duration": 0.008321,
     "end_time": "2024-12-14T15:25:13.584237",
     "exception": false,
     "start_time": "2024-12-14T15:25:13.575916",
     "status": "completed"
    },
    "tags": []
   },
   "source": [
    "# Imports"
   ]
  },
  {
   "cell_type": "code",
   "execution_count": 1,
   "id": "48f9a77f",
   "metadata": {
    "execution": {
     "iopub.execute_input": "2024-12-14T15:25:13.602170Z",
     "iopub.status.busy": "2024-12-14T15:25:13.601789Z",
     "iopub.status.idle": "2024-12-14T15:25:29.246095Z",
     "shell.execute_reply": "2024-12-14T15:25:29.244884Z"
    },
    "papermill": {
     "duration": 15.656682,
     "end_time": "2024-12-14T15:25:29.248623",
     "exception": false,
     "start_time": "2024-12-14T15:25:13.591941",
     "status": "completed"
    },
    "tags": []
   },
   "outputs": [],
   "source": [
    "import numpy as np \n",
    "import pandas as pd \n",
    "import matplotlib.pyplot as plt\n",
    "from sklearn.neural_network import MLPRegressor\n",
    "import seaborn as sns\n",
    "import tabulate\n",
    "from keras.models import Sequential\n",
    "from keras.layers import Dense\n",
    "from sklearn.model_selection import train_test_split\n",
    "from sklearn.metrics import mean_squared_error\n",
    "import tensorflow as tf\n",
    "from tensorflow.keras.optimizers import Adam,SGD, RMSprop,AdamW\n",
    "from sklearn.preprocessing import RobustScaler,LabelEncoder\n",
    "import os\n",
    "from sklearn.svm import SVR"
   ]
  },
  {
   "cell_type": "markdown",
   "id": "bc2cd363",
   "metadata": {
    "papermill": {
     "duration": 0.007167,
     "end_time": "2024-12-14T15:25:29.263432",
     "exception": false,
     "start_time": "2024-12-14T15:25:29.256265",
     "status": "completed"
    },
    "tags": []
   },
   "source": [
    "# Get Paths to datasets (Credits to Adham)"
   ]
  },
  {
   "cell_type": "code",
   "execution_count": 2,
   "id": "78f3021d",
   "metadata": {
    "execution": {
     "iopub.execute_input": "2024-12-14T15:25:29.280275Z",
     "iopub.status.busy": "2024-12-14T15:25:29.279542Z",
     "iopub.status.idle": "2024-12-14T15:25:29.300505Z",
     "shell.execute_reply": "2024-12-14T15:25:29.299460Z"
    },
    "papermill": {
     "duration": 0.031722,
     "end_time": "2024-12-14T15:25:29.302643",
     "exception": false,
     "start_time": "2024-12-14T15:25:29.270921",
     "status": "completed"
    },
    "tags": []
   },
   "outputs": [
    {
     "name": "stdout",
     "output_type": "stream",
     "text": [
      "/kaggle/input/financial-risk-for-loan-approval/Loan.csv\n",
      "/kaggle/input/financial-risk-for-loan-approval/CSV Generation.py\n",
      "/kaggle/input/regression-test-file/Regression_test_file.csv\n"
     ]
    }
   ],
   "source": [
    "plt.style.use(\"fivethirtyeight\")\n",
    "for dirname, _, filenames in os.walk('/kaggle/input'):\n",
    "    for filename in filenames:\n",
    "        print(os.path.join(dirname, filename))"
   ]
  },
  {
   "cell_type": "code",
   "execution_count": 3,
   "id": "8302fd5d",
   "metadata": {
    "execution": {
     "iopub.execute_input": "2024-12-14T15:25:29.319460Z",
     "iopub.status.busy": "2024-12-14T15:25:29.319034Z",
     "iopub.status.idle": "2024-12-14T15:25:29.542241Z",
     "shell.execute_reply": "2024-12-14T15:25:29.541071Z"
    },
    "papermill": {
     "duration": 0.234367,
     "end_time": "2024-12-14T15:25:29.544771",
     "exception": false,
     "start_time": "2024-12-14T15:25:29.310404",
     "status": "completed"
    },
    "tags": []
   },
   "outputs": [],
   "source": [
    "loan = pd.read_csv(\"/kaggle/input/financial-risk-for-loan-approval/Loan.csv\")\n",
    "testFile = pd.read_csv(\"/kaggle/input/regression-test-file/Regression_test_file.csv\")\n",
    "copy = loan.copy()"
   ]
  },
  {
   "cell_type": "markdown",
   "id": "94fd63cb",
   "metadata": {
    "papermill": {
     "duration": 0.007258,
     "end_time": "2024-12-14T15:25:29.559866",
     "exception": false,
     "start_time": "2024-12-14T15:25:29.552608",
     "status": "completed"
    },
    "tags": []
   },
   "source": [
    "# Handling Missing and duplicates"
   ]
  },
  {
   "cell_type": "code",
   "execution_count": 4,
   "id": "32aed0b5",
   "metadata": {
    "execution": {
     "iopub.execute_input": "2024-12-14T15:25:29.577484Z",
     "iopub.status.busy": "2024-12-14T15:25:29.577092Z",
     "iopub.status.idle": "2024-12-14T15:25:29.683683Z",
     "shell.execute_reply": "2024-12-14T15:25:29.682572Z"
    },
    "papermill": {
     "duration": 0.118384,
     "end_time": "2024-12-14T15:25:29.685906",
     "exception": false,
     "start_time": "2024-12-14T15:25:29.567522",
     "status": "completed"
    },
    "tags": []
   },
   "outputs": [
    {
     "data": {
      "text/html": [
       "<div>\n",
       "<style scoped>\n",
       "    .dataframe tbody tr th:only-of-type {\n",
       "        vertical-align: middle;\n",
       "    }\n",
       "\n",
       "    .dataframe tbody tr th {\n",
       "        vertical-align: top;\n",
       "    }\n",
       "\n",
       "    .dataframe thead th {\n",
       "        text-align: right;\n",
       "    }\n",
       "</style>\n",
       "<table border=\"1\" class=\"dataframe\">\n",
       "  <thead>\n",
       "    <tr style=\"text-align: right;\">\n",
       "      <th></th>\n",
       "      <th>Age</th>\n",
       "      <th>AnnualIncome</th>\n",
       "      <th>CreditScore</th>\n",
       "      <th>Experience</th>\n",
       "      <th>LoanAmount</th>\n",
       "      <th>LoanDuration</th>\n",
       "      <th>NumberOfDependents</th>\n",
       "      <th>MonthlyDebtPayments</th>\n",
       "      <th>CreditCardUtilizationRate</th>\n",
       "      <th>NumberOfOpenCreditLines</th>\n",
       "      <th>...</th>\n",
       "      <th>MonthlyIncome</th>\n",
       "      <th>UtilityBillsPaymentHistory</th>\n",
       "      <th>JobTenure</th>\n",
       "      <th>NetWorth</th>\n",
       "      <th>BaseInterestRate</th>\n",
       "      <th>InterestRate</th>\n",
       "      <th>MonthlyLoanPayment</th>\n",
       "      <th>TotalDebtToIncomeRatio</th>\n",
       "      <th>LoanApproved</th>\n",
       "      <th>RiskScore</th>\n",
       "    </tr>\n",
       "  </thead>\n",
       "  <tbody>\n",
       "    <tr>\n",
       "      <th>count</th>\n",
       "      <td>20000.000000</td>\n",
       "      <td>20000.000000</td>\n",
       "      <td>20000.000000</td>\n",
       "      <td>20000.000000</td>\n",
       "      <td>20000.000000</td>\n",
       "      <td>20000.000000</td>\n",
       "      <td>20000.000000</td>\n",
       "      <td>20000.000000</td>\n",
       "      <td>20000.000000</td>\n",
       "      <td>20000.000000</td>\n",
       "      <td>...</td>\n",
       "      <td>20000.000000</td>\n",
       "      <td>20000.000000</td>\n",
       "      <td>20000.000000</td>\n",
       "      <td>2.000000e+04</td>\n",
       "      <td>20000.000000</td>\n",
       "      <td>20000.000000</td>\n",
       "      <td>20000.000000</td>\n",
       "      <td>20000.000000</td>\n",
       "      <td>20000.000000</td>\n",
       "      <td>20000.000000</td>\n",
       "    </tr>\n",
       "    <tr>\n",
       "      <th>mean</th>\n",
       "      <td>39.752600</td>\n",
       "      <td>59161.473550</td>\n",
       "      <td>571.612400</td>\n",
       "      <td>17.522750</td>\n",
       "      <td>24882.867800</td>\n",
       "      <td>54.057000</td>\n",
       "      <td>1.517300</td>\n",
       "      <td>454.292700</td>\n",
       "      <td>0.286381</td>\n",
       "      <td>3.023350</td>\n",
       "      <td>...</td>\n",
       "      <td>4891.715521</td>\n",
       "      <td>0.799918</td>\n",
       "      <td>5.002650</td>\n",
       "      <td>7.229432e+04</td>\n",
       "      <td>0.239124</td>\n",
       "      <td>0.239110</td>\n",
       "      <td>911.607052</td>\n",
       "      <td>0.402182</td>\n",
       "      <td>0.239000</td>\n",
       "      <td>50.766780</td>\n",
       "    </tr>\n",
       "    <tr>\n",
       "      <th>std</th>\n",
       "      <td>11.622713</td>\n",
       "      <td>40350.845168</td>\n",
       "      <td>50.997358</td>\n",
       "      <td>11.316836</td>\n",
       "      <td>13427.421217</td>\n",
       "      <td>24.664857</td>\n",
       "      <td>1.386325</td>\n",
       "      <td>240.507609</td>\n",
       "      <td>0.159793</td>\n",
       "      <td>1.736161</td>\n",
       "      <td>...</td>\n",
       "      <td>3296.771598</td>\n",
       "      <td>0.120665</td>\n",
       "      <td>2.236804</td>\n",
       "      <td>1.179200e+05</td>\n",
       "      <td>0.035509</td>\n",
       "      <td>0.042205</td>\n",
       "      <td>674.583473</td>\n",
       "      <td>0.338924</td>\n",
       "      <td>0.426483</td>\n",
       "      <td>7.778262</td>\n",
       "    </tr>\n",
       "    <tr>\n",
       "      <th>min</th>\n",
       "      <td>18.000000</td>\n",
       "      <td>15000.000000</td>\n",
       "      <td>343.000000</td>\n",
       "      <td>0.000000</td>\n",
       "      <td>3674.000000</td>\n",
       "      <td>12.000000</td>\n",
       "      <td>0.000000</td>\n",
       "      <td>50.000000</td>\n",
       "      <td>0.000974</td>\n",
       "      <td>0.000000</td>\n",
       "      <td>...</td>\n",
       "      <td>1250.000000</td>\n",
       "      <td>0.259203</td>\n",
       "      <td>0.000000</td>\n",
       "      <td>1.000000e+03</td>\n",
       "      <td>0.130101</td>\n",
       "      <td>0.113310</td>\n",
       "      <td>97.030193</td>\n",
       "      <td>0.016043</td>\n",
       "      <td>0.000000</td>\n",
       "      <td>28.800000</td>\n",
       "    </tr>\n",
       "    <tr>\n",
       "      <th>25%</th>\n",
       "      <td>32.000000</td>\n",
       "      <td>31679.000000</td>\n",
       "      <td>540.000000</td>\n",
       "      <td>9.000000</td>\n",
       "      <td>15575.000000</td>\n",
       "      <td>36.000000</td>\n",
       "      <td>0.000000</td>\n",
       "      <td>286.000000</td>\n",
       "      <td>0.160794</td>\n",
       "      <td>2.000000</td>\n",
       "      <td>...</td>\n",
       "      <td>2629.583333</td>\n",
       "      <td>0.727379</td>\n",
       "      <td>3.000000</td>\n",
       "      <td>8.734750e+03</td>\n",
       "      <td>0.213889</td>\n",
       "      <td>0.209142</td>\n",
       "      <td>493.763700</td>\n",
       "      <td>0.179693</td>\n",
       "      <td>0.000000</td>\n",
       "      <td>46.000000</td>\n",
       "    </tr>\n",
       "    <tr>\n",
       "      <th>50%</th>\n",
       "      <td>40.000000</td>\n",
       "      <td>48566.000000</td>\n",
       "      <td>578.000000</td>\n",
       "      <td>17.000000</td>\n",
       "      <td>21914.500000</td>\n",
       "      <td>48.000000</td>\n",
       "      <td>1.000000</td>\n",
       "      <td>402.000000</td>\n",
       "      <td>0.266673</td>\n",
       "      <td>3.000000</td>\n",
       "      <td>...</td>\n",
       "      <td>4034.750000</td>\n",
       "      <td>0.820962</td>\n",
       "      <td>5.000000</td>\n",
       "      <td>3.285550e+04</td>\n",
       "      <td>0.236157</td>\n",
       "      <td>0.235390</td>\n",
       "      <td>728.511452</td>\n",
       "      <td>0.302711</td>\n",
       "      <td>0.000000</td>\n",
       "      <td>52.000000</td>\n",
       "    </tr>\n",
       "    <tr>\n",
       "      <th>75%</th>\n",
       "      <td>48.000000</td>\n",
       "      <td>74391.000000</td>\n",
       "      <td>609.000000</td>\n",
       "      <td>25.000000</td>\n",
       "      <td>30835.000000</td>\n",
       "      <td>72.000000</td>\n",
       "      <td>2.000000</td>\n",
       "      <td>564.000000</td>\n",
       "      <td>0.390634</td>\n",
       "      <td>4.000000</td>\n",
       "      <td>...</td>\n",
       "      <td>6163.000000</td>\n",
       "      <td>0.892333</td>\n",
       "      <td>6.000000</td>\n",
       "      <td>8.882550e+04</td>\n",
       "      <td>0.261533</td>\n",
       "      <td>0.265532</td>\n",
       "      <td>1112.770759</td>\n",
       "      <td>0.509214</td>\n",
       "      <td>0.000000</td>\n",
       "      <td>56.000000</td>\n",
       "    </tr>\n",
       "    <tr>\n",
       "      <th>max</th>\n",
       "      <td>80.000000</td>\n",
       "      <td>485341.000000</td>\n",
       "      <td>712.000000</td>\n",
       "      <td>61.000000</td>\n",
       "      <td>184732.000000</td>\n",
       "      <td>120.000000</td>\n",
       "      <td>5.000000</td>\n",
       "      <td>2919.000000</td>\n",
       "      <td>0.917380</td>\n",
       "      <td>13.000000</td>\n",
       "      <td>...</td>\n",
       "      <td>25000.000000</td>\n",
       "      <td>0.999433</td>\n",
       "      <td>16.000000</td>\n",
       "      <td>2.603208e+06</td>\n",
       "      <td>0.405029</td>\n",
       "      <td>0.446787</td>\n",
       "      <td>10892.629520</td>\n",
       "      <td>4.647657</td>\n",
       "      <td>1.000000</td>\n",
       "      <td>84.000000</td>\n",
       "    </tr>\n",
       "  </tbody>\n",
       "</table>\n",
       "<p>8 rows × 30 columns</p>\n",
       "</div>"
      ],
      "text/plain": [
       "                Age   AnnualIncome   CreditScore    Experience     LoanAmount  \\\n",
       "count  20000.000000   20000.000000  20000.000000  20000.000000   20000.000000   \n",
       "mean      39.752600   59161.473550    571.612400     17.522750   24882.867800   \n",
       "std       11.622713   40350.845168     50.997358     11.316836   13427.421217   \n",
       "min       18.000000   15000.000000    343.000000      0.000000    3674.000000   \n",
       "25%       32.000000   31679.000000    540.000000      9.000000   15575.000000   \n",
       "50%       40.000000   48566.000000    578.000000     17.000000   21914.500000   \n",
       "75%       48.000000   74391.000000    609.000000     25.000000   30835.000000   \n",
       "max       80.000000  485341.000000    712.000000     61.000000  184732.000000   \n",
       "\n",
       "       LoanDuration  NumberOfDependents  MonthlyDebtPayments  \\\n",
       "count  20000.000000        20000.000000         20000.000000   \n",
       "mean      54.057000            1.517300           454.292700   \n",
       "std       24.664857            1.386325           240.507609   \n",
       "min       12.000000            0.000000            50.000000   \n",
       "25%       36.000000            0.000000           286.000000   \n",
       "50%       48.000000            1.000000           402.000000   \n",
       "75%       72.000000            2.000000           564.000000   \n",
       "max      120.000000            5.000000          2919.000000   \n",
       "\n",
       "       CreditCardUtilizationRate  NumberOfOpenCreditLines  ...  MonthlyIncome  \\\n",
       "count               20000.000000             20000.000000  ...   20000.000000   \n",
       "mean                    0.286381                 3.023350  ...    4891.715521   \n",
       "std                     0.159793                 1.736161  ...    3296.771598   \n",
       "min                     0.000974                 0.000000  ...    1250.000000   \n",
       "25%                     0.160794                 2.000000  ...    2629.583333   \n",
       "50%                     0.266673                 3.000000  ...    4034.750000   \n",
       "75%                     0.390634                 4.000000  ...    6163.000000   \n",
       "max                     0.917380                13.000000  ...   25000.000000   \n",
       "\n",
       "       UtilityBillsPaymentHistory     JobTenure      NetWorth  \\\n",
       "count                20000.000000  20000.000000  2.000000e+04   \n",
       "mean                     0.799918      5.002650  7.229432e+04   \n",
       "std                      0.120665      2.236804  1.179200e+05   \n",
       "min                      0.259203      0.000000  1.000000e+03   \n",
       "25%                      0.727379      3.000000  8.734750e+03   \n",
       "50%                      0.820962      5.000000  3.285550e+04   \n",
       "75%                      0.892333      6.000000  8.882550e+04   \n",
       "max                      0.999433     16.000000  2.603208e+06   \n",
       "\n",
       "       BaseInterestRate  InterestRate  MonthlyLoanPayment  \\\n",
       "count      20000.000000  20000.000000        20000.000000   \n",
       "mean           0.239124      0.239110          911.607052   \n",
       "std            0.035509      0.042205          674.583473   \n",
       "min            0.130101      0.113310           97.030193   \n",
       "25%            0.213889      0.209142          493.763700   \n",
       "50%            0.236157      0.235390          728.511452   \n",
       "75%            0.261533      0.265532         1112.770759   \n",
       "max            0.405029      0.446787        10892.629520   \n",
       "\n",
       "       TotalDebtToIncomeRatio  LoanApproved     RiskScore  \n",
       "count            20000.000000  20000.000000  20000.000000  \n",
       "mean                 0.402182      0.239000     50.766780  \n",
       "std                  0.338924      0.426483      7.778262  \n",
       "min                  0.016043      0.000000     28.800000  \n",
       "25%                  0.179693      0.000000     46.000000  \n",
       "50%                  0.302711      0.000000     52.000000  \n",
       "75%                  0.509214      0.000000     56.000000  \n",
       "max                  4.647657      1.000000     84.000000  \n",
       "\n",
       "[8 rows x 30 columns]"
      ]
     },
     "execution_count": 4,
     "metadata": {},
     "output_type": "execute_result"
    }
   ],
   "source": [
    "copy.describe()"
   ]
  },
  {
   "cell_type": "code",
   "execution_count": 5,
   "id": "3565c9d4",
   "metadata": {
    "execution": {
     "iopub.execute_input": "2024-12-14T15:25:29.704138Z",
     "iopub.status.busy": "2024-12-14T15:25:29.703712Z",
     "iopub.status.idle": "2024-12-14T15:25:29.740534Z",
     "shell.execute_reply": "2024-12-14T15:25:29.739173Z"
    },
    "papermill": {
     "duration": 0.048707,
     "end_time": "2024-12-14T15:25:29.743131",
     "exception": false,
     "start_time": "2024-12-14T15:25:29.694424",
     "status": "completed"
    },
    "tags": []
   },
   "outputs": [
    {
     "name": "stdout",
     "output_type": "stream",
     "text": [
      "<class 'pandas.core.frame.DataFrame'>\n",
      "RangeIndex: 20000 entries, 0 to 19999\n",
      "Data columns (total 36 columns):\n",
      " #   Column                      Non-Null Count  Dtype  \n",
      "---  ------                      --------------  -----  \n",
      " 0   ApplicationDate             20000 non-null  object \n",
      " 1   Age                         20000 non-null  int64  \n",
      " 2   AnnualIncome                20000 non-null  int64  \n",
      " 3   CreditScore                 20000 non-null  int64  \n",
      " 4   EmploymentStatus            20000 non-null  object \n",
      " 5   EducationLevel              20000 non-null  object \n",
      " 6   Experience                  20000 non-null  int64  \n",
      " 7   LoanAmount                  20000 non-null  int64  \n",
      " 8   LoanDuration                20000 non-null  int64  \n",
      " 9   MaritalStatus               20000 non-null  object \n",
      " 10  NumberOfDependents          20000 non-null  int64  \n",
      " 11  HomeOwnershipStatus         20000 non-null  object \n",
      " 12  MonthlyDebtPayments         20000 non-null  int64  \n",
      " 13  CreditCardUtilizationRate   20000 non-null  float64\n",
      " 14  NumberOfOpenCreditLines     20000 non-null  int64  \n",
      " 15  NumberOfCreditInquiries     20000 non-null  int64  \n",
      " 16  DebtToIncomeRatio           20000 non-null  float64\n",
      " 17  BankruptcyHistory           20000 non-null  int64  \n",
      " 18  LoanPurpose                 20000 non-null  object \n",
      " 19  PreviousLoanDefaults        20000 non-null  int64  \n",
      " 20  PaymentHistory              20000 non-null  int64  \n",
      " 21  LengthOfCreditHistory       20000 non-null  int64  \n",
      " 22  SavingsAccountBalance       20000 non-null  int64  \n",
      " 23  CheckingAccountBalance      20000 non-null  int64  \n",
      " 24  TotalAssets                 20000 non-null  int64  \n",
      " 25  TotalLiabilities            20000 non-null  int64  \n",
      " 26  MonthlyIncome               20000 non-null  float64\n",
      " 27  UtilityBillsPaymentHistory  20000 non-null  float64\n",
      " 28  JobTenure                   20000 non-null  int64  \n",
      " 29  NetWorth                    20000 non-null  int64  \n",
      " 30  BaseInterestRate            20000 non-null  float64\n",
      " 31  InterestRate                20000 non-null  float64\n",
      " 32  MonthlyLoanPayment          20000 non-null  float64\n",
      " 33  TotalDebtToIncomeRatio      20000 non-null  float64\n",
      " 34  LoanApproved                20000 non-null  int64  \n",
      " 35  RiskScore                   20000 non-null  float64\n",
      "dtypes: float64(9), int64(21), object(6)\n",
      "memory usage: 5.5+ MB\n"
     ]
    }
   ],
   "source": [
    "copy.info()"
   ]
  },
  {
   "cell_type": "code",
   "execution_count": 6,
   "id": "1ff41a58",
   "metadata": {
    "execution": {
     "iopub.execute_input": "2024-12-14T15:25:29.761197Z",
     "iopub.status.busy": "2024-12-14T15:25:29.760849Z",
     "iopub.status.idle": "2024-12-14T15:25:29.775675Z",
     "shell.execute_reply": "2024-12-14T15:25:29.774646Z"
    },
    "papermill": {
     "duration": 0.026499,
     "end_time": "2024-12-14T15:25:29.777822",
     "exception": false,
     "start_time": "2024-12-14T15:25:29.751323",
     "status": "completed"
    },
    "tags": []
   },
   "outputs": [
    {
     "data": {
      "text/plain": [
       "ApplicationDate               0\n",
       "Age                           0\n",
       "AnnualIncome                  0\n",
       "CreditScore                   0\n",
       "EmploymentStatus              0\n",
       "EducationLevel                0\n",
       "Experience                    0\n",
       "LoanAmount                    0\n",
       "LoanDuration                  0\n",
       "MaritalStatus                 0\n",
       "NumberOfDependents            0\n",
       "HomeOwnershipStatus           0\n",
       "MonthlyDebtPayments           0\n",
       "CreditCardUtilizationRate     0\n",
       "NumberOfOpenCreditLines       0\n",
       "NumberOfCreditInquiries       0\n",
       "DebtToIncomeRatio             0\n",
       "BankruptcyHistory             0\n",
       "LoanPurpose                   0\n",
       "PreviousLoanDefaults          0\n",
       "PaymentHistory                0\n",
       "LengthOfCreditHistory         0\n",
       "SavingsAccountBalance         0\n",
       "CheckingAccountBalance        0\n",
       "TotalAssets                   0\n",
       "TotalLiabilities              0\n",
       "MonthlyIncome                 0\n",
       "UtilityBillsPaymentHistory    0\n",
       "JobTenure                     0\n",
       "NetWorth                      0\n",
       "BaseInterestRate              0\n",
       "InterestRate                  0\n",
       "MonthlyLoanPayment            0\n",
       "TotalDebtToIncomeRatio        0\n",
       "LoanApproved                  0\n",
       "RiskScore                     0\n",
       "dtype: int64"
      ]
     },
     "execution_count": 6,
     "metadata": {},
     "output_type": "execute_result"
    }
   ],
   "source": [
    "copy.isna().sum()"
   ]
  },
  {
   "cell_type": "code",
   "execution_count": 7,
   "id": "daf27cf2",
   "metadata": {
    "execution": {
     "iopub.execute_input": "2024-12-14T15:25:29.798013Z",
     "iopub.status.busy": "2024-12-14T15:25:29.797272Z",
     "iopub.status.idle": "2024-12-14T15:25:29.830307Z",
     "shell.execute_reply": "2024-12-14T15:25:29.829292Z"
    },
    "papermill": {
     "duration": 0.046344,
     "end_time": "2024-12-14T15:25:29.832363",
     "exception": false,
     "start_time": "2024-12-14T15:25:29.786019",
     "status": "completed"
    },
    "tags": []
   },
   "outputs": [
    {
     "data": {
      "text/plain": [
       "0"
      ]
     },
     "execution_count": 7,
     "metadata": {},
     "output_type": "execute_result"
    }
   ],
   "source": [
    "copy.duplicated().sum()"
   ]
  },
  {
   "cell_type": "markdown",
   "id": "1e96c68b",
   "metadata": {
    "papermill": {
     "duration": 0.008016,
     "end_time": "2024-12-14T15:25:29.848657",
     "exception": false,
     "start_time": "2024-12-14T15:25:29.840641",
     "status": "completed"
    },
    "tags": []
   },
   "source": [
    "**Dropping**"
   ]
  },
  {
   "cell_type": "code",
   "execution_count": 8,
   "id": "541d8149",
   "metadata": {
    "execution": {
     "iopub.execute_input": "2024-12-14T15:25:29.867256Z",
     "iopub.status.busy": "2024-12-14T15:25:29.866287Z",
     "iopub.status.idle": "2024-12-14T15:25:29.961321Z",
     "shell.execute_reply": "2024-12-14T15:25:29.960143Z"
    },
    "papermill": {
     "duration": 0.107745,
     "end_time": "2024-12-14T15:25:29.964556",
     "exception": false,
     "start_time": "2024-12-14T15:25:29.856811",
     "status": "completed"
    },
    "tags": []
   },
   "outputs": [
    {
     "data": {
      "text/html": [
       "<div>\n",
       "<style scoped>\n",
       "    .dataframe tbody tr th:only-of-type {\n",
       "        vertical-align: middle;\n",
       "    }\n",
       "\n",
       "    .dataframe tbody tr th {\n",
       "        vertical-align: top;\n",
       "    }\n",
       "\n",
       "    .dataframe thead th {\n",
       "        text-align: right;\n",
       "    }\n",
       "</style>\n",
       "<table border=\"1\" class=\"dataframe\">\n",
       "  <thead>\n",
       "    <tr style=\"text-align: right;\">\n",
       "      <th></th>\n",
       "      <th>Age</th>\n",
       "      <th>AnnualIncome</th>\n",
       "      <th>CreditScore</th>\n",
       "      <th>EmploymentStatus</th>\n",
       "      <th>EducationLevel</th>\n",
       "      <th>Experience</th>\n",
       "      <th>LoanAmount</th>\n",
       "      <th>LoanDuration</th>\n",
       "      <th>MaritalStatus</th>\n",
       "      <th>NumberOfDependents</th>\n",
       "      <th>...</th>\n",
       "      <th>MonthlyIncome</th>\n",
       "      <th>UtilityBillsPaymentHistory</th>\n",
       "      <th>JobTenure</th>\n",
       "      <th>NetWorth</th>\n",
       "      <th>BaseInterestRate</th>\n",
       "      <th>InterestRate</th>\n",
       "      <th>MonthlyLoanPayment</th>\n",
       "      <th>TotalDebtToIncomeRatio</th>\n",
       "      <th>LoanApproved</th>\n",
       "      <th>RiskScore</th>\n",
       "    </tr>\n",
       "  </thead>\n",
       "  <tbody>\n",
       "    <tr>\n",
       "      <th>0</th>\n",
       "      <td>45</td>\n",
       "      <td>39948</td>\n",
       "      <td>617</td>\n",
       "      <td>Employed</td>\n",
       "      <td>Master</td>\n",
       "      <td>22</td>\n",
       "      <td>13152</td>\n",
       "      <td>48</td>\n",
       "      <td>Married</td>\n",
       "      <td>2</td>\n",
       "      <td>...</td>\n",
       "      <td>3329.000000</td>\n",
       "      <td>0.724972</td>\n",
       "      <td>11</td>\n",
       "      <td>126928</td>\n",
       "      <td>0.199652</td>\n",
       "      <td>0.227590</td>\n",
       "      <td>419.805992</td>\n",
       "      <td>0.181077</td>\n",
       "      <td>0</td>\n",
       "      <td>49.0</td>\n",
       "    </tr>\n",
       "    <tr>\n",
       "      <th>1</th>\n",
       "      <td>38</td>\n",
       "      <td>39709</td>\n",
       "      <td>628</td>\n",
       "      <td>Employed</td>\n",
       "      <td>Associate</td>\n",
       "      <td>15</td>\n",
       "      <td>26045</td>\n",
       "      <td>48</td>\n",
       "      <td>Single</td>\n",
       "      <td>1</td>\n",
       "      <td>...</td>\n",
       "      <td>3309.083333</td>\n",
       "      <td>0.935132</td>\n",
       "      <td>3</td>\n",
       "      <td>43609</td>\n",
       "      <td>0.207045</td>\n",
       "      <td>0.201077</td>\n",
       "      <td>794.054238</td>\n",
       "      <td>0.389852</td>\n",
       "      <td>0</td>\n",
       "      <td>52.0</td>\n",
       "    </tr>\n",
       "    <tr>\n",
       "      <th>2</th>\n",
       "      <td>47</td>\n",
       "      <td>40724</td>\n",
       "      <td>570</td>\n",
       "      <td>Employed</td>\n",
       "      <td>Bachelor</td>\n",
       "      <td>26</td>\n",
       "      <td>17627</td>\n",
       "      <td>36</td>\n",
       "      <td>Married</td>\n",
       "      <td>2</td>\n",
       "      <td>...</td>\n",
       "      <td>3393.666667</td>\n",
       "      <td>0.872241</td>\n",
       "      <td>6</td>\n",
       "      <td>5205</td>\n",
       "      <td>0.217627</td>\n",
       "      <td>0.212548</td>\n",
       "      <td>666.406688</td>\n",
       "      <td>0.462157</td>\n",
       "      <td>0</td>\n",
       "      <td>52.0</td>\n",
       "    </tr>\n",
       "    <tr>\n",
       "      <th>3</th>\n",
       "      <td>58</td>\n",
       "      <td>69084</td>\n",
       "      <td>545</td>\n",
       "      <td>Employed</td>\n",
       "      <td>High School</td>\n",
       "      <td>34</td>\n",
       "      <td>37898</td>\n",
       "      <td>96</td>\n",
       "      <td>Single</td>\n",
       "      <td>1</td>\n",
       "      <td>...</td>\n",
       "      <td>5757.000000</td>\n",
       "      <td>0.896155</td>\n",
       "      <td>5</td>\n",
       "      <td>99452</td>\n",
       "      <td>0.300398</td>\n",
       "      <td>0.300911</td>\n",
       "      <td>1047.506980</td>\n",
       "      <td>0.313098</td>\n",
       "      <td>0</td>\n",
       "      <td>54.0</td>\n",
       "    </tr>\n",
       "    <tr>\n",
       "      <th>4</th>\n",
       "      <td>37</td>\n",
       "      <td>103264</td>\n",
       "      <td>594</td>\n",
       "      <td>Employed</td>\n",
       "      <td>Associate</td>\n",
       "      <td>17</td>\n",
       "      <td>9184</td>\n",
       "      <td>36</td>\n",
       "      <td>Married</td>\n",
       "      <td>1</td>\n",
       "      <td>...</td>\n",
       "      <td>8605.333333</td>\n",
       "      <td>0.941369</td>\n",
       "      <td>5</td>\n",
       "      <td>227019</td>\n",
       "      <td>0.197184</td>\n",
       "      <td>0.175990</td>\n",
       "      <td>330.179140</td>\n",
       "      <td>0.070210</td>\n",
       "      <td>1</td>\n",
       "      <td>36.0</td>\n",
       "    </tr>\n",
       "    <tr>\n",
       "      <th>...</th>\n",
       "      <td>...</td>\n",
       "      <td>...</td>\n",
       "      <td>...</td>\n",
       "      <td>...</td>\n",
       "      <td>...</td>\n",
       "      <td>...</td>\n",
       "      <td>...</td>\n",
       "      <td>...</td>\n",
       "      <td>...</td>\n",
       "      <td>...</td>\n",
       "      <td>...</td>\n",
       "      <td>...</td>\n",
       "      <td>...</td>\n",
       "      <td>...</td>\n",
       "      <td>...</td>\n",
       "      <td>...</td>\n",
       "      <td>...</td>\n",
       "      <td>...</td>\n",
       "      <td>...</td>\n",
       "      <td>...</td>\n",
       "      <td>...</td>\n",
       "    </tr>\n",
       "    <tr>\n",
       "      <th>19995</th>\n",
       "      <td>44</td>\n",
       "      <td>30180</td>\n",
       "      <td>587</td>\n",
       "      <td>Employed</td>\n",
       "      <td>High School</td>\n",
       "      <td>19</td>\n",
       "      <td>24521</td>\n",
       "      <td>36</td>\n",
       "      <td>Married</td>\n",
       "      <td>3</td>\n",
       "      <td>...</td>\n",
       "      <td>2515.000000</td>\n",
       "      <td>0.826217</td>\n",
       "      <td>1</td>\n",
       "      <td>55327</td>\n",
       "      <td>0.216021</td>\n",
       "      <td>0.195574</td>\n",
       "      <td>905.767712</td>\n",
       "      <td>0.627741</td>\n",
       "      <td>0</td>\n",
       "      <td>55.0</td>\n",
       "    </tr>\n",
       "    <tr>\n",
       "      <th>19996</th>\n",
       "      <td>56</td>\n",
       "      <td>49246</td>\n",
       "      <td>567</td>\n",
       "      <td>Employed</td>\n",
       "      <td>Associate</td>\n",
       "      <td>33</td>\n",
       "      <td>25818</td>\n",
       "      <td>36</td>\n",
       "      <td>Married</td>\n",
       "      <td>5</td>\n",
       "      <td>...</td>\n",
       "      <td>4103.833333</td>\n",
       "      <td>0.816618</td>\n",
       "      <td>3</td>\n",
       "      <td>64002</td>\n",
       "      <td>0.227318</td>\n",
       "      <td>0.199168</td>\n",
       "      <td>958.395633</td>\n",
       "      <td>0.334418</td>\n",
       "      <td>0</td>\n",
       "      <td>54.0</td>\n",
       "    </tr>\n",
       "    <tr>\n",
       "      <th>19997</th>\n",
       "      <td>44</td>\n",
       "      <td>48958</td>\n",
       "      <td>645</td>\n",
       "      <td>Employed</td>\n",
       "      <td>Bachelor</td>\n",
       "      <td>20</td>\n",
       "      <td>37033</td>\n",
       "      <td>72</td>\n",
       "      <td>Married</td>\n",
       "      <td>3</td>\n",
       "      <td>...</td>\n",
       "      <td>4079.833333</td>\n",
       "      <td>0.887216</td>\n",
       "      <td>3</td>\n",
       "      <td>103663</td>\n",
       "      <td>0.229533</td>\n",
       "      <td>0.226766</td>\n",
       "      <td>945.427454</td>\n",
       "      <td>0.357227</td>\n",
       "      <td>0</td>\n",
       "      <td>45.0</td>\n",
       "    </tr>\n",
       "    <tr>\n",
       "      <th>19998</th>\n",
       "      <td>60</td>\n",
       "      <td>41025</td>\n",
       "      <td>560</td>\n",
       "      <td>Employed</td>\n",
       "      <td>High School</td>\n",
       "      <td>36</td>\n",
       "      <td>14760</td>\n",
       "      <td>72</td>\n",
       "      <td>Married</td>\n",
       "      <td>3</td>\n",
       "      <td>...</td>\n",
       "      <td>3418.750000</td>\n",
       "      <td>0.843787</td>\n",
       "      <td>5</td>\n",
       "      <td>10600</td>\n",
       "      <td>0.249760</td>\n",
       "      <td>0.264873</td>\n",
       "      <td>411.168284</td>\n",
       "      <td>0.408678</td>\n",
       "      <td>0</td>\n",
       "      <td>59.0</td>\n",
       "    </tr>\n",
       "    <tr>\n",
       "      <th>19999</th>\n",
       "      <td>20</td>\n",
       "      <td>53227</td>\n",
       "      <td>574</td>\n",
       "      <td>Employed</td>\n",
       "      <td>Associate</td>\n",
       "      <td>0</td>\n",
       "      <td>32055</td>\n",
       "      <td>48</td>\n",
       "      <td>Married</td>\n",
       "      <td>0</td>\n",
       "      <td>...</td>\n",
       "      <td>4435.583333</td>\n",
       "      <td>0.853801</td>\n",
       "      <td>5</td>\n",
       "      <td>41372</td>\n",
       "      <td>0.240055</td>\n",
       "      <td>0.242693</td>\n",
       "      <td>1049.830407</td>\n",
       "      <td>0.298006</td>\n",
       "      <td>0</td>\n",
       "      <td>59.0</td>\n",
       "    </tr>\n",
       "  </tbody>\n",
       "</table>\n",
       "<p>20000 rows × 35 columns</p>\n",
       "</div>"
      ],
      "text/plain": [
       "       Age  AnnualIncome  CreditScore EmploymentStatus EducationLevel  \\\n",
       "0       45         39948          617         Employed         Master   \n",
       "1       38         39709          628         Employed      Associate   \n",
       "2       47         40724          570         Employed       Bachelor   \n",
       "3       58         69084          545         Employed    High School   \n",
       "4       37        103264          594         Employed      Associate   \n",
       "...    ...           ...          ...              ...            ...   \n",
       "19995   44         30180          587         Employed    High School   \n",
       "19996   56         49246          567         Employed      Associate   \n",
       "19997   44         48958          645         Employed       Bachelor   \n",
       "19998   60         41025          560         Employed    High School   \n",
       "19999   20         53227          574         Employed      Associate   \n",
       "\n",
       "       Experience  LoanAmount  LoanDuration MaritalStatus  NumberOfDependents  \\\n",
       "0              22       13152            48       Married                   2   \n",
       "1              15       26045            48        Single                   1   \n",
       "2              26       17627            36       Married                   2   \n",
       "3              34       37898            96        Single                   1   \n",
       "4              17        9184            36       Married                   1   \n",
       "...           ...         ...           ...           ...                 ...   \n",
       "19995          19       24521            36       Married                   3   \n",
       "19996          33       25818            36       Married                   5   \n",
       "19997          20       37033            72       Married                   3   \n",
       "19998          36       14760            72       Married                   3   \n",
       "19999           0       32055            48       Married                   0   \n",
       "\n",
       "       ... MonthlyIncome  UtilityBillsPaymentHistory  JobTenure  NetWorth  \\\n",
       "0      ...   3329.000000                    0.724972         11    126928   \n",
       "1      ...   3309.083333                    0.935132          3     43609   \n",
       "2      ...   3393.666667                    0.872241          6      5205   \n",
       "3      ...   5757.000000                    0.896155          5     99452   \n",
       "4      ...   8605.333333                    0.941369          5    227019   \n",
       "...    ...           ...                         ...        ...       ...   \n",
       "19995  ...   2515.000000                    0.826217          1     55327   \n",
       "19996  ...   4103.833333                    0.816618          3     64002   \n",
       "19997  ...   4079.833333                    0.887216          3    103663   \n",
       "19998  ...   3418.750000                    0.843787          5     10600   \n",
       "19999  ...   4435.583333                    0.853801          5     41372   \n",
       "\n",
       "       BaseInterestRate  InterestRate  MonthlyLoanPayment  \\\n",
       "0              0.199652      0.227590          419.805992   \n",
       "1              0.207045      0.201077          794.054238   \n",
       "2              0.217627      0.212548          666.406688   \n",
       "3              0.300398      0.300911         1047.506980   \n",
       "4              0.197184      0.175990          330.179140   \n",
       "...                 ...           ...                 ...   \n",
       "19995          0.216021      0.195574          905.767712   \n",
       "19996          0.227318      0.199168          958.395633   \n",
       "19997          0.229533      0.226766          945.427454   \n",
       "19998          0.249760      0.264873          411.168284   \n",
       "19999          0.240055      0.242693         1049.830407   \n",
       "\n",
       "      TotalDebtToIncomeRatio  LoanApproved  RiskScore  \n",
       "0                   0.181077             0       49.0  \n",
       "1                   0.389852             0       52.0  \n",
       "2                   0.462157             0       52.0  \n",
       "3                   0.313098             0       54.0  \n",
       "4                   0.070210             1       36.0  \n",
       "...                      ...           ...        ...  \n",
       "19995               0.627741             0       55.0  \n",
       "19996               0.334418             0       54.0  \n",
       "19997               0.357227             0       45.0  \n",
       "19998               0.408678             0       59.0  \n",
       "19999               0.298006             0       59.0  \n",
       "\n",
       "[20000 rows x 35 columns]"
      ]
     },
     "execution_count": 8,
     "metadata": {},
     "output_type": "execute_result"
    }
   ],
   "source": [
    "copy = copy.drop(columns = \"ApplicationDate\")\n",
    "copy.drop_duplicates()\n",
    "copy.dropna()"
   ]
  },
  {
   "cell_type": "markdown",
   "id": "21c49852",
   "metadata": {
    "papermill": {
     "duration": 0.008654,
     "end_time": "2024-12-14T15:25:29.983167",
     "exception": false,
     "start_time": "2024-12-14T15:25:29.974513",
     "status": "completed"
    },
    "tags": []
   },
   "source": [
    "**Dropping**"
   ]
  },
  {
   "cell_type": "code",
   "execution_count": 9,
   "id": "84d121ba",
   "metadata": {
    "execution": {
     "iopub.execute_input": "2024-12-14T15:25:30.002492Z",
     "iopub.status.busy": "2024-12-14T15:25:30.002108Z",
     "iopub.status.idle": "2024-12-14T15:25:30.031074Z",
     "shell.execute_reply": "2024-12-14T15:25:30.029987Z"
    },
    "papermill": {
     "duration": 0.041703,
     "end_time": "2024-12-14T15:25:30.033511",
     "exception": false,
     "start_time": "2024-12-14T15:25:29.991808",
     "status": "completed"
    },
    "tags": []
   },
   "outputs": [
    {
     "data": {
      "text/html": [
       "<div>\n",
       "<style scoped>\n",
       "    .dataframe tbody tr th:only-of-type {\n",
       "        vertical-align: middle;\n",
       "    }\n",
       "\n",
       "    .dataframe tbody tr th {\n",
       "        vertical-align: top;\n",
       "    }\n",
       "\n",
       "    .dataframe thead th {\n",
       "        text-align: right;\n",
       "    }\n",
       "</style>\n",
       "<table border=\"1\" class=\"dataframe\">\n",
       "  <thead>\n",
       "    <tr style=\"text-align: right;\">\n",
       "      <th></th>\n",
       "      <th>Age</th>\n",
       "      <th>AnnualIncome</th>\n",
       "      <th>CreditScore</th>\n",
       "      <th>EmploymentStatus</th>\n",
       "      <th>EducationLevel</th>\n",
       "      <th>Experience</th>\n",
       "      <th>LoanAmount</th>\n",
       "      <th>LoanDuration</th>\n",
       "      <th>MaritalStatus</th>\n",
       "      <th>NumberOfDependents</th>\n",
       "      <th>...</th>\n",
       "      <th>TotalLiabilities</th>\n",
       "      <th>MonthlyIncome</th>\n",
       "      <th>UtilityBillsPaymentHistory</th>\n",
       "      <th>JobTenure</th>\n",
       "      <th>NetWorth</th>\n",
       "      <th>BaseInterestRate</th>\n",
       "      <th>InterestRate</th>\n",
       "      <th>MonthlyLoanPayment</th>\n",
       "      <th>TotalDebtToIncomeRatio</th>\n",
       "      <th>LoanApproved</th>\n",
       "    </tr>\n",
       "  </thead>\n",
       "  <tbody>\n",
       "    <tr>\n",
       "      <th>0</th>\n",
       "      <td>45</td>\n",
       "      <td>39948</td>\n",
       "      <td>617</td>\n",
       "      <td>Employed</td>\n",
       "      <td>Master</td>\n",
       "      <td>22</td>\n",
       "      <td>13152</td>\n",
       "      <td>48</td>\n",
       "      <td>Married</td>\n",
       "      <td>2</td>\n",
       "      <td>...</td>\n",
       "      <td>19183</td>\n",
       "      <td>3329.000000</td>\n",
       "      <td>0.724972</td>\n",
       "      <td>11</td>\n",
       "      <td>126928</td>\n",
       "      <td>0.199652</td>\n",
       "      <td>0.227590</td>\n",
       "      <td>419.805992</td>\n",
       "      <td>0.181077</td>\n",
       "      <td>0</td>\n",
       "    </tr>\n",
       "    <tr>\n",
       "      <th>1</th>\n",
       "      <td>33</td>\n",
       "      <td>29096</td>\n",
       "      <td>570</td>\n",
       "      <td>Employed</td>\n",
       "      <td>Associate</td>\n",
       "      <td>12</td>\n",
       "      <td>40138</td>\n",
       "      <td>24</td>\n",
       "      <td>Married</td>\n",
       "      <td>3</td>\n",
       "      <td>...</td>\n",
       "      <td>50013</td>\n",
       "      <td>2424.666667</td>\n",
       "      <td>0.760758</td>\n",
       "      <td>4</td>\n",
       "      <td>36237</td>\n",
       "      <td>0.230138</td>\n",
       "      <td>0.248601</td>\n",
       "      <td>2139.408949</td>\n",
       "      <td>1.164865</td>\n",
       "      <td>0</td>\n",
       "    </tr>\n",
       "    <tr>\n",
       "      <th>2</th>\n",
       "      <td>50</td>\n",
       "      <td>60992</td>\n",
       "      <td>663</td>\n",
       "      <td>Employed</td>\n",
       "      <td>Bachelor</td>\n",
       "      <td>30</td>\n",
       "      <td>24642</td>\n",
       "      <td>48</td>\n",
       "      <td>Single</td>\n",
       "      <td>0</td>\n",
       "      <td>...</td>\n",
       "      <td>13350</td>\n",
       "      <td>5082.666667</td>\n",
       "      <td>0.917148</td>\n",
       "      <td>4</td>\n",
       "      <td>38852</td>\n",
       "      <td>0.188142</td>\n",
       "      <td>0.216449</td>\n",
       "      <td>771.630413</td>\n",
       "      <td>0.282456</td>\n",
       "      <td>0</td>\n",
       "    </tr>\n",
       "    <tr>\n",
       "      <th>3</th>\n",
       "      <td>43</td>\n",
       "      <td>100032</td>\n",
       "      <td>524</td>\n",
       "      <td>Employed</td>\n",
       "      <td>Master</td>\n",
       "      <td>21</td>\n",
       "      <td>19105</td>\n",
       "      <td>60</td>\n",
       "      <td>Married</td>\n",
       "      <td>0</td>\n",
       "      <td>...</td>\n",
       "      <td>4301</td>\n",
       "      <td>8336.000000</td>\n",
       "      <td>0.831494</td>\n",
       "      <td>6</td>\n",
       "      <td>45588</td>\n",
       "      <td>0.262105</td>\n",
       "      <td>0.209684</td>\n",
       "      <td>516.514890</td>\n",
       "      <td>0.160810</td>\n",
       "      <td>1</td>\n",
       "    </tr>\n",
       "    <tr>\n",
       "      <th>4</th>\n",
       "      <td>33</td>\n",
       "      <td>35882</td>\n",
       "      <td>620</td>\n",
       "      <td>Employed</td>\n",
       "      <td>Master</td>\n",
       "      <td>11</td>\n",
       "      <td>9259</td>\n",
       "      <td>48</td>\n",
       "      <td>Single</td>\n",
       "      <td>0</td>\n",
       "      <td>...</td>\n",
       "      <td>91262</td>\n",
       "      <td>2990.166667</td>\n",
       "      <td>0.883372</td>\n",
       "      <td>3</td>\n",
       "      <td>8266</td>\n",
       "      <td>0.194259</td>\n",
       "      <td>0.200011</td>\n",
       "      <td>281.760387</td>\n",
       "      <td>0.180177</td>\n",
       "      <td>0</td>\n",
       "    </tr>\n",
       "    <tr>\n",
       "      <th>...</th>\n",
       "      <td>...</td>\n",
       "      <td>...</td>\n",
       "      <td>...</td>\n",
       "      <td>...</td>\n",
       "      <td>...</td>\n",
       "      <td>...</td>\n",
       "      <td>...</td>\n",
       "      <td>...</td>\n",
       "      <td>...</td>\n",
       "      <td>...</td>\n",
       "      <td>...</td>\n",
       "      <td>...</td>\n",
       "      <td>...</td>\n",
       "      <td>...</td>\n",
       "      <td>...</td>\n",
       "      <td>...</td>\n",
       "      <td>...</td>\n",
       "      <td>...</td>\n",
       "      <td>...</td>\n",
       "      <td>...</td>\n",
       "      <td>...</td>\n",
       "    </tr>\n",
       "    <tr>\n",
       "      <th>995</th>\n",
       "      <td>45</td>\n",
       "      <td>45453</td>\n",
       "      <td>518</td>\n",
       "      <td>Employed</td>\n",
       "      <td>Master</td>\n",
       "      <td>23</td>\n",
       "      <td>36807</td>\n",
       "      <td>24</td>\n",
       "      <td>Married</td>\n",
       "      <td>2</td>\n",
       "      <td>...</td>\n",
       "      <td>14772</td>\n",
       "      <td>3787.750000</td>\n",
       "      <td>0.887467</td>\n",
       "      <td>5</td>\n",
       "      <td>39580</td>\n",
       "      <td>0.252807</td>\n",
       "      <td>0.237099</td>\n",
       "      <td>1940.701755</td>\n",
       "      <td>0.645159</td>\n",
       "      <td>0</td>\n",
       "    </tr>\n",
       "    <tr>\n",
       "      <th>996</th>\n",
       "      <td>26</td>\n",
       "      <td>47517</td>\n",
       "      <td>533</td>\n",
       "      <td>Employed</td>\n",
       "      <td>Associate</td>\n",
       "      <td>3</td>\n",
       "      <td>12185</td>\n",
       "      <td>72</td>\n",
       "      <td>Divorced</td>\n",
       "      <td>3</td>\n",
       "      <td>...</td>\n",
       "      <td>34408</td>\n",
       "      <td>3959.750000</td>\n",
       "      <td>0.799362</td>\n",
       "      <td>5</td>\n",
       "      <td>47114</td>\n",
       "      <td>0.260685</td>\n",
       "      <td>0.296527</td>\n",
       "      <td>363.851501</td>\n",
       "      <td>0.125223</td>\n",
       "      <td>0</td>\n",
       "    </tr>\n",
       "    <tr>\n",
       "      <th>997</th>\n",
       "      <td>69</td>\n",
       "      <td>38715</td>\n",
       "      <td>670</td>\n",
       "      <td>Employed</td>\n",
       "      <td>High School</td>\n",
       "      <td>46</td>\n",
       "      <td>11703</td>\n",
       "      <td>12</td>\n",
       "      <td>Single</td>\n",
       "      <td>3</td>\n",
       "      <td>...</td>\n",
       "      <td>4102</td>\n",
       "      <td>3226.250000</td>\n",
       "      <td>0.850983</td>\n",
       "      <td>4</td>\n",
       "      <td>189145</td>\n",
       "      <td>0.141703</td>\n",
       "      <td>0.162197</td>\n",
       "      <td>1063.040355</td>\n",
       "      <td>0.470218</td>\n",
       "      <td>0</td>\n",
       "    </tr>\n",
       "    <tr>\n",
       "      <th>998</th>\n",
       "      <td>23</td>\n",
       "      <td>101892</td>\n",
       "      <td>482</td>\n",
       "      <td>Employed</td>\n",
       "      <td>Bachelor</td>\n",
       "      <td>1</td>\n",
       "      <td>38161</td>\n",
       "      <td>24</td>\n",
       "      <td>Widowed</td>\n",
       "      <td>1</td>\n",
       "      <td>...</td>\n",
       "      <td>24493</td>\n",
       "      <td>8491.000000</td>\n",
       "      <td>0.823695</td>\n",
       "      <td>5</td>\n",
       "      <td>10427</td>\n",
       "      <td>0.272161</td>\n",
       "      <td>0.278276</td>\n",
       "      <td>2091.248768</td>\n",
       "      <td>0.264780</td>\n",
       "      <td>0</td>\n",
       "    </tr>\n",
       "    <tr>\n",
       "      <th>999</th>\n",
       "      <td>51</td>\n",
       "      <td>26160</td>\n",
       "      <td>540</td>\n",
       "      <td>Employed</td>\n",
       "      <td>Bachelor</td>\n",
       "      <td>30</td>\n",
       "      <td>11762</td>\n",
       "      <td>48</td>\n",
       "      <td>Married</td>\n",
       "      <td>2</td>\n",
       "      <td>...</td>\n",
       "      <td>71998</td>\n",
       "      <td>2180.000000</td>\n",
       "      <td>0.707106</td>\n",
       "      <td>4</td>\n",
       "      <td>151517</td>\n",
       "      <td>0.236762</td>\n",
       "      <td>0.231562</td>\n",
       "      <td>377.996983</td>\n",
       "      <td>0.317430</td>\n",
       "      <td>0</td>\n",
       "    </tr>\n",
       "  </tbody>\n",
       "</table>\n",
       "<p>1000 rows × 34 columns</p>\n",
       "</div>"
      ],
      "text/plain": [
       "     Age  AnnualIncome  CreditScore EmploymentStatus EducationLevel  \\\n",
       "0     45         39948          617         Employed         Master   \n",
       "1     33         29096          570         Employed      Associate   \n",
       "2     50         60992          663         Employed       Bachelor   \n",
       "3     43        100032          524         Employed         Master   \n",
       "4     33         35882          620         Employed         Master   \n",
       "..   ...           ...          ...              ...            ...   \n",
       "995   45         45453          518         Employed         Master   \n",
       "996   26         47517          533         Employed      Associate   \n",
       "997   69         38715          670         Employed    High School   \n",
       "998   23        101892          482         Employed       Bachelor   \n",
       "999   51         26160          540         Employed       Bachelor   \n",
       "\n",
       "     Experience  LoanAmount  LoanDuration MaritalStatus  NumberOfDependents  \\\n",
       "0            22       13152            48       Married                   2   \n",
       "1            12       40138            24       Married                   3   \n",
       "2            30       24642            48        Single                   0   \n",
       "3            21       19105            60       Married                   0   \n",
       "4            11        9259            48        Single                   0   \n",
       "..          ...         ...           ...           ...                 ...   \n",
       "995          23       36807            24       Married                   2   \n",
       "996           3       12185            72      Divorced                   3   \n",
       "997          46       11703            12        Single                   3   \n",
       "998           1       38161            24       Widowed                   1   \n",
       "999          30       11762            48       Married                   2   \n",
       "\n",
       "     ... TotalLiabilities  MonthlyIncome  UtilityBillsPaymentHistory  \\\n",
       "0    ...            19183    3329.000000                    0.724972   \n",
       "1    ...            50013    2424.666667                    0.760758   \n",
       "2    ...            13350    5082.666667                    0.917148   \n",
       "3    ...             4301    8336.000000                    0.831494   \n",
       "4    ...            91262    2990.166667                    0.883372   \n",
       "..   ...              ...            ...                         ...   \n",
       "995  ...            14772    3787.750000                    0.887467   \n",
       "996  ...            34408    3959.750000                    0.799362   \n",
       "997  ...             4102    3226.250000                    0.850983   \n",
       "998  ...            24493    8491.000000                    0.823695   \n",
       "999  ...            71998    2180.000000                    0.707106   \n",
       "\n",
       "     JobTenure  NetWorth  BaseInterestRate  InterestRate MonthlyLoanPayment  \\\n",
       "0           11    126928          0.199652      0.227590         419.805992   \n",
       "1            4     36237          0.230138      0.248601        2139.408949   \n",
       "2            4     38852          0.188142      0.216449         771.630413   \n",
       "3            6     45588          0.262105      0.209684         516.514890   \n",
       "4            3      8266          0.194259      0.200011         281.760387   \n",
       "..         ...       ...               ...           ...                ...   \n",
       "995          5     39580          0.252807      0.237099        1940.701755   \n",
       "996          5     47114          0.260685      0.296527         363.851501   \n",
       "997          4    189145          0.141703      0.162197        1063.040355   \n",
       "998          5     10427          0.272161      0.278276        2091.248768   \n",
       "999          4    151517          0.236762      0.231562         377.996983   \n",
       "\n",
       "     TotalDebtToIncomeRatio  LoanApproved  \n",
       "0                  0.181077             0  \n",
       "1                  1.164865             0  \n",
       "2                  0.282456             0  \n",
       "3                  0.160810             1  \n",
       "4                  0.180177             0  \n",
       "..                      ...           ...  \n",
       "995                0.645159             0  \n",
       "996                0.125223             0  \n",
       "997                0.470218             0  \n",
       "998                0.264780             0  \n",
       "999                0.317430             0  \n",
       "\n",
       "[1000 rows x 34 columns]"
      ]
     },
     "execution_count": 9,
     "metadata": {},
     "output_type": "execute_result"
    }
   ],
   "source": [
    "testFile = testFile.drop(columns = \"ApplicationDate\")\n",
    "testFile.drop_duplicates()\n",
    "testFile.dropna()"
   ]
  },
  {
   "cell_type": "markdown",
   "id": "6587582d",
   "metadata": {
    "papermill": {
     "duration": 0.009005,
     "end_time": "2024-12-14T15:25:30.051944",
     "exception": false,
     "start_time": "2024-12-14T15:25:30.042939",
     "status": "completed"
    },
    "tags": []
   },
   "source": [
    "# Handling Categorical Columns For Dataset File"
   ]
  },
  {
   "cell_type": "code",
   "execution_count": 10,
   "id": "6ad5fa92",
   "metadata": {
    "execution": {
     "iopub.execute_input": "2024-12-14T15:25:30.072217Z",
     "iopub.status.busy": "2024-12-14T15:25:30.071836Z",
     "iopub.status.idle": "2024-12-14T15:25:30.098973Z",
     "shell.execute_reply": "2024-12-14T15:25:30.097968Z"
    },
    "papermill": {
     "duration": 0.040144,
     "end_time": "2024-12-14T15:25:30.101350",
     "exception": false,
     "start_time": "2024-12-14T15:25:30.061206",
     "status": "completed"
    },
    "tags": []
   },
   "outputs": [],
   "source": [
    "listOfColumns = []\n",
    "\n",
    "listOfCategoricalColumns = []\n",
    "for i in copy.select_dtypes(include = 'number'):\n",
    "    listOfColumns.append(i)\n",
    "\n",
    "\n",
    "for j in copy.columns:\n",
    "\n",
    "    if j not in listOfColumns:\n",
    "        listOfCategoricalColumns.append(j)\n",
    "le = LabelEncoder()\n",
    "for i in listOfCategoricalColumns:\n",
    "    copy[i] = le.fit_transform(copy[i])"
   ]
  },
  {
   "cell_type": "markdown",
   "id": "ccb0ef27",
   "metadata": {
    "papermill": {
     "duration": 0.009235,
     "end_time": "2024-12-14T15:25:30.120431",
     "exception": false,
     "start_time": "2024-12-14T15:25:30.111196",
     "status": "completed"
    },
    "tags": []
   },
   "source": [
    "# Features and target defining"
   ]
  },
  {
   "cell_type": "code",
   "execution_count": 11,
   "id": "46deddca",
   "metadata": {
    "execution": {
     "iopub.execute_input": "2024-12-14T15:25:30.140660Z",
     "iopub.status.busy": "2024-12-14T15:25:30.140281Z",
     "iopub.status.idle": "2024-12-14T15:25:30.147801Z",
     "shell.execute_reply": "2024-12-14T15:25:30.146779Z"
    },
    "papermill": {
     "duration": 0.020234,
     "end_time": "2024-12-14T15:25:30.150009",
     "exception": false,
     "start_time": "2024-12-14T15:25:30.129775",
     "status": "completed"
    },
    "tags": []
   },
   "outputs": [],
   "source": [
    "X_Loan = copy.drop(columns = ['RiskScore'])\n",
    "Y_Loan = copy[\"RiskScore\"]"
   ]
  },
  {
   "cell_type": "markdown",
   "id": "5bee3024",
   "metadata": {
    "papermill": {
     "duration": 0.009139,
     "end_time": "2024-12-14T15:25:30.168555",
     "exception": false,
     "start_time": "2024-12-14T15:25:30.159416",
     "status": "completed"
    },
    "tags": []
   },
   "source": [
    "# Handling Outliars"
   ]
  },
  {
   "cell_type": "code",
   "execution_count": 12,
   "id": "5c377c6b",
   "metadata": {
    "execution": {
     "iopub.execute_input": "2024-12-14T15:25:30.189183Z",
     "iopub.status.busy": "2024-12-14T15:25:30.188790Z",
     "iopub.status.idle": "2024-12-14T15:25:30.240660Z",
     "shell.execute_reply": "2024-12-14T15:25:30.239790Z"
    },
    "papermill": {
     "duration": 0.065171,
     "end_time": "2024-12-14T15:25:30.243062",
     "exception": false,
     "start_time": "2024-12-14T15:25:30.177891",
     "status": "completed"
    },
    "tags": []
   },
   "outputs": [],
   "source": [
    "robust = RobustScaler()\n",
    "scaledXLoan = robust.fit_transform(X_Loan)\n",
    "scaledYLoan = robust.fit_transform(Y_Loan.values.reshape(-1,1))"
   ]
  },
  {
   "cell_type": "markdown",
   "id": "bcee9939",
   "metadata": {
    "papermill": {
     "duration": 0.008866,
     "end_time": "2024-12-14T15:25:30.261098",
     "exception": false,
     "start_time": "2024-12-14T15:25:30.252232",
     "status": "completed"
    },
    "tags": []
   },
   "source": [
    "# Handling Categorical Columns For Test File"
   ]
  },
  {
   "cell_type": "code",
   "execution_count": 13,
   "id": "6f827e9d",
   "metadata": {
    "execution": {
     "iopub.execute_input": "2024-12-14T15:25:30.280889Z",
     "iopub.status.busy": "2024-12-14T15:25:30.280509Z",
     "iopub.status.idle": "2024-12-14T15:25:30.290773Z",
     "shell.execute_reply": "2024-12-14T15:25:30.289921Z"
    },
    "papermill": {
     "duration": 0.022529,
     "end_time": "2024-12-14T15:25:30.292794",
     "exception": false,
     "start_time": "2024-12-14T15:25:30.270265",
     "status": "completed"
    },
    "tags": []
   },
   "outputs": [],
   "source": [
    "listOfColumns1 = []\n",
    "\n",
    "listOfCategoricalColumns1 = []\n",
    "for i in testFile.select_dtypes(include = 'number'):\n",
    "    listOfColumns1.append(i)\n",
    "\n",
    "\n",
    "for j in testFile.columns:\n",
    "\n",
    "    if j not in listOfColumns1:\n",
    "        listOfCategoricalColumns1.append(j)\n",
    "le = LabelEncoder()\n",
    "for i in listOfCategoricalColumns1:\n",
    "    testFile[i] = le.fit_transform(testFile[i])"
   ]
  },
  {
   "cell_type": "markdown",
   "id": "57d90a70",
   "metadata": {
    "papermill": {
     "duration": 0.008875,
     "end_time": "2024-12-14T15:25:30.310874",
     "exception": false,
     "start_time": "2024-12-14T15:25:30.301999",
     "status": "completed"
    },
    "tags": []
   },
   "source": [
    "# Handling Outliars"
   ]
  },
  {
   "cell_type": "code",
   "execution_count": 14,
   "id": "484726c1",
   "metadata": {
    "execution": {
     "iopub.execute_input": "2024-12-14T15:25:30.330507Z",
     "iopub.status.busy": "2024-12-14T15:25:30.330163Z",
     "iopub.status.idle": "2024-12-14T15:25:30.346749Z",
     "shell.execute_reply": "2024-12-14T15:25:30.345573Z"
    },
    "papermill": {
     "duration": 0.029527,
     "end_time": "2024-12-14T15:25:30.349420",
     "exception": false,
     "start_time": "2024-12-14T15:25:30.319893",
     "status": "completed"
    },
    "tags": []
   },
   "outputs": [],
   "source": [
    "robust_TestFile = RobustScaler()\n",
    "scaledTestFile = robust_TestFile.fit_transform(testFile)"
   ]
  },
  {
   "cell_type": "code",
   "execution_count": 15,
   "id": "e5dbf5fc",
   "metadata": {
    "execution": {
     "iopub.execute_input": "2024-12-14T15:25:30.369846Z",
     "iopub.status.busy": "2024-12-14T15:25:30.369446Z",
     "iopub.status.idle": "2024-12-14T15:25:30.376610Z",
     "shell.execute_reply": "2024-12-14T15:25:30.375203Z"
    },
    "papermill": {
     "duration": 0.019935,
     "end_time": "2024-12-14T15:25:30.378813",
     "exception": false,
     "start_time": "2024-12-14T15:25:30.358878",
     "status": "completed"
    },
    "tags": []
   },
   "outputs": [
    {
     "data": {
      "text/plain": [
       "(20000, 34)"
      ]
     },
     "execution_count": 15,
     "metadata": {},
     "output_type": "execute_result"
    }
   ],
   "source": [
    "scaledXLoan.shape"
   ]
  },
  {
   "cell_type": "code",
   "execution_count": 16,
   "id": "c622dcbe",
   "metadata": {
    "execution": {
     "iopub.execute_input": "2024-12-14T15:25:30.399235Z",
     "iopub.status.busy": "2024-12-14T15:25:30.398851Z",
     "iopub.status.idle": "2024-12-14T15:25:30.405049Z",
     "shell.execute_reply": "2024-12-14T15:25:30.404038Z"
    },
    "papermill": {
     "duration": 0.0189,
     "end_time": "2024-12-14T15:25:30.407169",
     "exception": false,
     "start_time": "2024-12-14T15:25:30.388269",
     "status": "completed"
    },
    "tags": []
   },
   "outputs": [
    {
     "data": {
      "text/plain": [
       "(20000, 1)"
      ]
     },
     "execution_count": 16,
     "metadata": {},
     "output_type": "execute_result"
    }
   ],
   "source": [
    "scaledYLoan.shape"
   ]
  },
  {
   "cell_type": "code",
   "execution_count": 17,
   "id": "472fc803",
   "metadata": {
    "execution": {
     "iopub.execute_input": "2024-12-14T15:25:30.427765Z",
     "iopub.status.busy": "2024-12-14T15:25:30.427347Z",
     "iopub.status.idle": "2024-12-14T15:25:30.433895Z",
     "shell.execute_reply": "2024-12-14T15:25:30.432806Z"
    },
    "papermill": {
     "duration": 0.01937,
     "end_time": "2024-12-14T15:25:30.436059",
     "exception": false,
     "start_time": "2024-12-14T15:25:30.416689",
     "status": "completed"
    },
    "tags": []
   },
   "outputs": [
    {
     "data": {
      "text/plain": [
       "(1000, 34)"
      ]
     },
     "execution_count": 17,
     "metadata": {},
     "output_type": "execute_result"
    }
   ],
   "source": [
    "scaledTestFile.shape"
   ]
  },
  {
   "cell_type": "markdown",
   "id": "a3d6f57b",
   "metadata": {
    "papermill": {
     "duration": 0.009008,
     "end_time": "2024-12-14T15:25:30.454431",
     "exception": false,
     "start_time": "2024-12-14T15:25:30.445423",
     "status": "completed"
    },
    "tags": []
   },
   "source": [
    "# Train test split"
   ]
  },
  {
   "cell_type": "code",
   "execution_count": 18,
   "id": "97ac17c9",
   "metadata": {
    "execution": {
     "iopub.execute_input": "2024-12-14T15:25:30.474880Z",
     "iopub.status.busy": "2024-12-14T15:25:30.474465Z",
     "iopub.status.idle": "2024-12-14T15:25:30.486343Z",
     "shell.execute_reply": "2024-12-14T15:25:30.485500Z"
    },
    "papermill": {
     "duration": 0.024737,
     "end_time": "2024-12-14T15:25:30.488553",
     "exception": false,
     "start_time": "2024-12-14T15:25:30.463816",
     "status": "completed"
    },
    "tags": []
   },
   "outputs": [],
   "source": [
    "X_train, X_val, y_train, y_val = train_test_split( scaledXLoan, scaledYLoan, test_size=0.2, random_state=42)"
   ]
  },
  {
   "cell_type": "markdown",
   "id": "c492c4b2",
   "metadata": {
    "papermill": {
     "duration": 0.009233,
     "end_time": "2024-12-14T15:25:30.507500",
     "exception": false,
     "start_time": "2024-12-14T15:25:30.498267",
     "status": "completed"
    },
    "tags": []
   },
   "source": [
    "# Neural Network "
   ]
  },
  {
   "cell_type": "markdown",
   "id": "30c7e7fe",
   "metadata": {
    "papermill": {
     "duration": 0.009742,
     "end_time": "2024-12-14T15:25:30.526870",
     "exception": false,
     "start_time": "2024-12-14T15:25:30.517128",
     "status": "completed"
    },
    "tags": []
   },
   "source": [
    "***Training and Evaluating***"
   ]
  },
  {
   "cell_type": "markdown",
   "id": "e68f3a6a",
   "metadata": {
    "papermill": {
     "duration": 0.009059,
     "end_time": "2024-12-14T15:25:30.545437",
     "exception": false,
     "start_time": "2024-12-14T15:25:30.536378",
     "status": "completed"
    },
    "tags": []
   },
   "source": [
    "**Trial 1**\n",
    "* We have used 1 hidden layer with 100 neorons.\n",
    "* Adam optimizer was used.\n",
    "* We tested with relu activation function.\n",
    "* We used learning rate 0.001\n",
    "* Finally we tested with 10 epochs.\n",
    "* The MSE was approx. 0.018."
   ]
  },
  {
   "cell_type": "code",
   "execution_count": 19,
   "id": "a6c0ed16",
   "metadata": {
    "execution": {
     "iopub.execute_input": "2024-12-14T15:25:30.567174Z",
     "iopub.status.busy": "2024-12-14T15:25:30.565720Z",
     "iopub.status.idle": "2024-12-14T15:25:30.570668Z",
     "shell.execute_reply": "2024-12-14T15:25:30.569798Z"
    },
    "papermill": {
     "duration": 0.017886,
     "end_time": "2024-12-14T15:25:30.572721",
     "exception": false,
     "start_time": "2024-12-14T15:25:30.554835",
     "status": "completed"
    },
    "tags": []
   },
   "outputs": [],
   "source": [
    "# ANN = Sequential()\n",
    "# ANN.add(Dense(100, activation='relu', input_dim = X_train.shape[1]))\n",
    "# ANN.add(Dense(1))\n",
    "# ANN.compile(optimizer=Adam(learning_rate=0.001), loss='mean_squared_error' ,metrics=['accuracy'])\n",
    "# ANN.fit(X_train, y_train, epochs=10, batch_size=32, validation_data=(X_val, y_val))\n",
    "# ANN.evaluate(X_val, y_val)"
   ]
  },
  {
   "cell_type": "markdown",
   "id": "9513d236",
   "metadata": {
    "papermill": {
     "duration": 0.009441,
     "end_time": "2024-12-14T15:25:30.591940",
     "exception": false,
     "start_time": "2024-12-14T15:25:30.582499",
     "status": "completed"
    },
    "tags": []
   },
   "source": [
    "**Trial 2**\n",
    "* We have used 1 hidden layer with 100 neorons.\n",
    "* Qdam Optimizer was used.\n",
    "* We tested with relu activation function.\n",
    "* Learning rate with 0.005.\n",
    "* Finally we tested with 50 epochs.\n",
    "* The MSE was approx. 0.009.\n",
    "Obsevations:\n",
    "    * When incresing learning rate and no.of epochs whe MSE Decresed.  "
   ]
  },
  {
   "cell_type": "code",
   "execution_count": 20,
   "id": "89474be1",
   "metadata": {
    "execution": {
     "iopub.execute_input": "2024-12-14T15:25:30.612836Z",
     "iopub.status.busy": "2024-12-14T15:25:30.612387Z",
     "iopub.status.idle": "2024-12-14T15:25:30.616979Z",
     "shell.execute_reply": "2024-12-14T15:25:30.616141Z"
    },
    "papermill": {
     "duration": 0.017254,
     "end_time": "2024-12-14T15:25:30.618850",
     "exception": false,
     "start_time": "2024-12-14T15:25:30.601596",
     "status": "completed"
    },
    "tags": []
   },
   "outputs": [],
   "source": [
    "# ANN = Sequential()\n",
    "# ANN.add(Dense(100, activation='relu', input_dim = X_train.shape[1]))\n",
    "# ANN.add(Dense(1))\n",
    "# ANN.compile(optimizer=Adam(learning_rate=0.005), loss='mean_squared_error' ,metrics=['accuracy'])\n",
    "# ANN.fit(X_train, y_train, epochs=50, batch_size=32, validation_data=(X_val, y_val))\n",
    "# ANN.evaluate(X_val, y_val)"
   ]
  },
  {
   "cell_type": "markdown",
   "id": "b48d7246",
   "metadata": {
    "papermill": {
     "duration": 0.009293,
     "end_time": "2024-12-14T15:25:30.637673",
     "exception": false,
     "start_time": "2024-12-14T15:25:30.628380",
     "status": "completed"
    },
    "tags": []
   },
   "source": [
    "**Trial 3**\n",
    "* We have used 1 hidden layer with 100 neorons.\n",
    "* Learning rate was 0.01\n",
    "* Activation function relu was applied.\n",
    "* epochs number was 60\n",
    "* The MSE was 0.013\n",
    "Observations:\n",
    "    * When highly increasing learning rate the loss has increased again."
   ]
  },
  {
   "cell_type": "code",
   "execution_count": 21,
   "id": "838ba68b",
   "metadata": {
    "execution": {
     "iopub.execute_input": "2024-12-14T15:25:30.658425Z",
     "iopub.status.busy": "2024-12-14T15:25:30.658027Z",
     "iopub.status.idle": "2024-12-14T15:25:30.662558Z",
     "shell.execute_reply": "2024-12-14T15:25:30.661712Z"
    },
    "papermill": {
     "duration": 0.017541,
     "end_time": "2024-12-14T15:25:30.664776",
     "exception": false,
     "start_time": "2024-12-14T15:25:30.647235",
     "status": "completed"
    },
    "tags": []
   },
   "outputs": [],
   "source": [
    "# ANN = Sequential()\n",
    "# ANN.add(Dense(100, activation='relu', input_dim = X_train.shape[1]))\n",
    "# ANN.add(Dense(1))\n",
    "# ANN.compile(optimizer=Adam(learning_rate=0.01), loss='mean_squared_error' ,metrics=['accuracy'])\n",
    "# ANN.fit(X_train, y_train, epochs=60, batch_size=32, validation_data=(X_val, y_val))\n",
    "# ANN.evaluate(X_val, y_val)"
   ]
  },
  {
   "cell_type": "markdown",
   "id": "5fef516b",
   "metadata": {
    "papermill": {
     "duration": 0.009273,
     "end_time": "2024-12-14T15:25:30.683817",
     "exception": false,
     "start_time": "2024-12-14T15:25:30.674544",
     "status": "completed"
    },
    "tags": []
   },
   "source": [
    "**Trial 4**\n",
    "* We have used 1 hidden layer with 100 neorons.\n",
    "* Learning rate was 0.009\n",
    "* Activation function relu was applied.\n",
    "* epochs number was 60\n",
    "* The MSE was 0.0115\n",
    "* Observations:\n",
    "    * When slightly decreasing learning rate the loss has decreasd again."
   ]
  },
  {
   "cell_type": "code",
   "execution_count": 22,
   "id": "f705c9de",
   "metadata": {
    "execution": {
     "iopub.execute_input": "2024-12-14T15:25:30.704457Z",
     "iopub.status.busy": "2024-12-14T15:25:30.704083Z",
     "iopub.status.idle": "2024-12-14T15:25:30.708604Z",
     "shell.execute_reply": "2024-12-14T15:25:30.707649Z"
    },
    "papermill": {
     "duration": 0.017306,
     "end_time": "2024-12-14T15:25:30.710629",
     "exception": false,
     "start_time": "2024-12-14T15:25:30.693323",
     "status": "completed"
    },
    "tags": []
   },
   "outputs": [],
   "source": [
    "# ANN = Sequential()\n",
    "# ANN.add(Dense(100, activation='relu', input_dim = X_train.shape[1]))\n",
    "# ANN.add(Dense(1))\n",
    "# ANN.compile(optimizer=Adam(learning_rate=0.009), loss='mean_squared_error')\n",
    "# ANN.fit(X_train, y_train, epochs=60, batch_size=32, validation_data=(X_val, y_val))\n",
    "# ANN.evaluate(X_val, y_val)"
   ]
  },
  {
   "cell_type": "markdown",
   "id": "5dfd544b",
   "metadata": {
    "papermill": {
     "duration": 0.009677,
     "end_time": "2024-12-14T15:25:30.729905",
     "exception": false,
     "start_time": "2024-12-14T15:25:30.720228",
     "status": "completed"
    },
    "tags": []
   },
   "source": [
    "**Trial 5**\n",
    "* We have used 1 hidden layer with 100 neorons.\n",
    "* Learning rate was 0.005\n",
    "* Activation function tanh was applied.\n",
    "* epochs number was 10\n",
    "* The MSE was 0.013\n",
    "* Observations:\n",
    "    * When slightly decreasing learning rate the loss has decreasd again."
   ]
  },
  {
   "cell_type": "code",
   "execution_count": 23,
   "id": "98d6c537",
   "metadata": {
    "execution": {
     "iopub.execute_input": "2024-12-14T15:25:30.750272Z",
     "iopub.status.busy": "2024-12-14T15:25:30.749897Z",
     "iopub.status.idle": "2024-12-14T15:25:39.545575Z",
     "shell.execute_reply": "2024-12-14T15:25:39.544464Z"
    },
    "papermill": {
     "duration": 8.80859,
     "end_time": "2024-12-14T15:25:39.547912",
     "exception": false,
     "start_time": "2024-12-14T15:25:30.739322",
     "status": "completed"
    },
    "tags": []
   },
   "outputs": [
    {
     "name": "stdout",
     "output_type": "stream",
     "text": [
      "Epoch 1/10\n"
     ]
    },
    {
     "name": "stderr",
     "output_type": "stream",
     "text": [
      "/opt/conda/lib/python3.10/site-packages/keras/src/layers/core/dense.py:87: UserWarning: Do not pass an `input_shape`/`input_dim` argument to a layer. When using Sequential models, prefer using an `Input(shape)` object as the first layer in the model instead.\n",
      "  super().__init__(activity_regularizer=activity_regularizer, **kwargs)\n"
     ]
    },
    {
     "name": "stdout",
     "output_type": "stream",
     "text": [
      "\u001b[1m500/500\u001b[0m \u001b[32m━━━━━━━━━━━━━━━━━━━━\u001b[0m\u001b[37m\u001b[0m \u001b[1m2s\u001b[0m 2ms/step - loss: 0.1271 - val_loss: 0.0324\n",
      "Epoch 2/10\n",
      "\u001b[1m500/500\u001b[0m \u001b[32m━━━━━━━━━━━━━━━━━━━━\u001b[0m\u001b[37m\u001b[0m \u001b[1m1s\u001b[0m 1ms/step - loss: 0.0312 - val_loss: 0.0280\n",
      "Epoch 3/10\n",
      "\u001b[1m500/500\u001b[0m \u001b[32m━━━━━━━━━━━━━━━━━━━━\u001b[0m\u001b[37m\u001b[0m \u001b[1m1s\u001b[0m 1ms/step - loss: 0.0251 - val_loss: 0.0264\n",
      "Epoch 4/10\n",
      "\u001b[1m500/500\u001b[0m \u001b[32m━━━━━━━━━━━━━━━━━━━━\u001b[0m\u001b[37m\u001b[0m \u001b[1m1s\u001b[0m 1ms/step - loss: 0.0226 - val_loss: 0.0206\n",
      "Epoch 5/10\n",
      "\u001b[1m500/500\u001b[0m \u001b[32m━━━━━━━━━━━━━━━━━━━━\u001b[0m\u001b[37m\u001b[0m \u001b[1m1s\u001b[0m 1ms/step - loss: 0.0179 - val_loss: 0.0158\n",
      "Epoch 6/10\n",
      "\u001b[1m500/500\u001b[0m \u001b[32m━━━━━━━━━━━━━━━━━━━━\u001b[0m\u001b[37m\u001b[0m \u001b[1m1s\u001b[0m 1ms/step - loss: 0.0160 - val_loss: 0.0176\n",
      "Epoch 7/10\n",
      "\u001b[1m500/500\u001b[0m \u001b[32m━━━━━━━━━━━━━━━━━━━━\u001b[0m\u001b[37m\u001b[0m \u001b[1m1s\u001b[0m 1ms/step - loss: 0.0148 - val_loss: 0.0150\n",
      "Epoch 8/10\n",
      "\u001b[1m500/500\u001b[0m \u001b[32m━━━━━━━━━━━━━━━━━━━━\u001b[0m\u001b[37m\u001b[0m \u001b[1m1s\u001b[0m 1ms/step - loss: 0.0148 - val_loss: 0.0145\n",
      "Epoch 9/10\n",
      "\u001b[1m500/500\u001b[0m \u001b[32m━━━━━━━━━━━━━━━━━━━━\u001b[0m\u001b[37m\u001b[0m \u001b[1m1s\u001b[0m 1ms/step - loss: 0.0139 - val_loss: 0.0167\n",
      "Epoch 10/10\n",
      "\u001b[1m500/500\u001b[0m \u001b[32m━━━━━━━━━━━━━━━━━━━━\u001b[0m\u001b[37m\u001b[0m \u001b[1m1s\u001b[0m 2ms/step - loss: 0.0145 - val_loss: 0.0174\n",
      "\u001b[1m125/125\u001b[0m \u001b[32m━━━━━━━━━━━━━━━━━━━━\u001b[0m\u001b[37m\u001b[0m \u001b[1m0s\u001b[0m 1ms/step - loss: 0.0171\n"
     ]
    },
    {
     "data": {
      "text/plain": [
       "0.017418930307030678"
      ]
     },
     "execution_count": 23,
     "metadata": {},
     "output_type": "execute_result"
    }
   ],
   "source": [
    "ANN = Sequential()\n",
    "ANN.add(Dense(100, activation='tanh', input_dim = X_train.shape[1]))\n",
    "ANN.add(Dense(1))\n",
    "ANN.compile(optimizer=Adam(learning_rate=0.005), loss='mean_squared_error')\n",
    "ANN.fit(X_train, y_train, epochs=10, batch_size=32, validation_data=(X_val, y_val))\n",
    "ANN.evaluate(X_val, y_val)"
   ]
  },
  {
   "cell_type": "markdown",
   "id": "8daeb094",
   "metadata": {
    "papermill": {
     "duration": 0.017257,
     "end_time": "2024-12-14T15:25:39.583837",
     "exception": false,
     "start_time": "2024-12-14T15:25:39.566580",
     "status": "completed"
    },
    "tags": []
   },
   "source": [
    "**Predictions**"
   ]
  },
  {
   "cell_type": "code",
   "execution_count": 24,
   "id": "4ff28bb0",
   "metadata": {
    "execution": {
     "iopub.execute_input": "2024-12-14T15:25:39.620235Z",
     "iopub.status.busy": "2024-12-14T15:25:39.619849Z",
     "iopub.status.idle": "2024-12-14T15:25:39.798902Z",
     "shell.execute_reply": "2024-12-14T15:25:39.797818Z"
    },
    "papermill": {
     "duration": 0.200323,
     "end_time": "2024-12-14T15:25:39.801475",
     "exception": false,
     "start_time": "2024-12-14T15:25:39.601152",
     "status": "completed"
    },
    "tags": []
   },
   "outputs": [
    {
     "name": "stdout",
     "output_type": "stream",
     "text": [
      "\u001b[1m32/32\u001b[0m \u001b[32m━━━━━━━━━━━━━━━━━━━━\u001b[0m\u001b[37m\u001b[0m \u001b[1m0s\u001b[0m 2ms/step\n"
     ]
    }
   ],
   "source": [
    "predections_Scaled = ANN.predict(scaledTestFile)"
   ]
  },
  {
   "cell_type": "markdown",
   "id": "05453c14",
   "metadata": {
    "papermill": {
     "duration": 0.019527,
     "end_time": "2024-12-14T15:25:39.838774",
     "exception": false,
     "start_time": "2024-12-14T15:25:39.819247",
     "status": "completed"
    },
    "tags": []
   },
   "source": [
    "**Getting unScaled Values for predictions**"
   ]
  },
  {
   "cell_type": "code",
   "execution_count": 25,
   "id": "9df5ef12",
   "metadata": {
    "execution": {
     "iopub.execute_input": "2024-12-14T15:25:39.878555Z",
     "iopub.status.busy": "2024-12-14T15:25:39.878033Z",
     "iopub.status.idle": "2024-12-14T15:25:39.893917Z",
     "shell.execute_reply": "2024-12-14T15:25:39.892831Z"
    },
    "papermill": {
     "duration": 0.040422,
     "end_time": "2024-12-14T15:25:39.897186",
     "exception": false,
     "start_time": "2024-12-14T15:25:39.856764",
     "status": "completed"
    },
    "tags": []
   },
   "outputs": [],
   "source": [
    "predictions_Inversed = robust.inverse_transform(predections_Scaled.reshape(-1,1))\n",
    "predictions_Inversed = predictions_Inversed.reshape(-1)\n",
    "predictions_Inversed = [round(x,1) for x in predictions_Inversed]"
   ]
  },
  {
   "cell_type": "markdown",
   "id": "7e4c1720",
   "metadata": {
    "papermill": {
     "duration": 0.01742,
     "end_time": "2024-12-14T15:25:39.942282",
     "exception": false,
     "start_time": "2024-12-14T15:25:39.924862",
     "status": "completed"
    },
    "tags": []
   },
   "source": [
    "# File Export (Credits to Adham)"
   ]
  },
  {
   "cell_type": "code",
   "execution_count": 26,
   "id": "a465218d",
   "metadata": {
    "execution": {
     "iopub.execute_input": "2024-12-14T15:25:39.983575Z",
     "iopub.status.busy": "2024-12-14T15:25:39.983007Z",
     "iopub.status.idle": "2024-12-14T15:25:39.996799Z",
     "shell.execute_reply": "2024-12-14T15:25:39.995430Z"
    },
    "papermill": {
     "duration": 0.039069,
     "end_time": "2024-12-14T15:25:39.999472",
     "exception": false,
     "start_time": "2024-12-14T15:25:39.960403",
     "status": "completed"
    },
    "tags": []
   },
   "outputs": [],
   "source": [
    "dictt = {\n",
    "    \"ID\": [i for i in range(len(predictions_Inversed))],\n",
    "    \"Class\": predictions_Inversed\n",
    "}\n",
    "df = pd.DataFrame(dictt)\n",
    "df.to_csv(\"Submission.csv\", index=False)"
   ]
  }
 ],
 "metadata": {
  "kaggle": {
   "accelerator": "none",
   "dataSources": [
    {
     "datasetId": 5660999,
     "sourceId": 9341109,
     "sourceType": "datasetVersion"
    },
    {
     "datasetId": 6290970,
     "sourceId": 10183647,
     "sourceType": "datasetVersion"
    }
   ],
   "dockerImageVersionId": 30804,
   "isGpuEnabled": false,
   "isInternetEnabled": false,
   "language": "python",
   "sourceType": "notebook"
  },
  "kernelspec": {
   "display_name": "Python 3",
   "language": "python",
   "name": "python3"
  },
  "language_info": {
   "codemirror_mode": {
    "name": "ipython",
    "version": 3
   },
   "file_extension": ".py",
   "mimetype": "text/x-python",
   "name": "python",
   "nbconvert_exporter": "python",
   "pygments_lexer": "ipython3",
   "version": "3.10.14"
  },
  "papermill": {
   "default_parameters": {},
   "duration": 31.456116,
   "end_time": "2024-12-14T15:25:42.532065",
   "environment_variables": {},
   "exception": null,
   "input_path": "__notebook__.ipynb",
   "output_path": "__notebook__.ipynb",
   "parameters": {},
   "start_time": "2024-12-14T15:25:11.075949",
   "version": "2.6.0"
  }
 },
 "nbformat": 4,
 "nbformat_minor": 5
}
